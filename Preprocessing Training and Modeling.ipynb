{
 "cells": [
  {
   "cell_type": "markdown",
   "id": "07086a5f",
   "metadata": {},
   "source": [
    "# Preprocessing Training and Modeling"
   ]
  },
  {
   "cell_type": "code",
   "execution_count": 1,
   "id": "60e8acca",
   "metadata": {},
   "outputs": [],
   "source": [
    "import numpy as np\n",
    "import pandas as pd\n",
    "import math\n",
    "import seaborn as sns\n",
    "import matplotlib.pyplot as plt\n",
    "import datetime"
   ]
  },
  {
   "cell_type": "markdown",
   "id": "f800e98c",
   "metadata": {},
   "source": [
    "## Preprocessing and Understanding"
   ]
  },
  {
   "cell_type": "code",
   "execution_count": 2,
   "id": "4bbbf0d1",
   "metadata": {},
   "outputs": [],
   "source": [
    "df = pd.read_csv('fraudTrain.csv')"
   ]
  },
  {
   "cell_type": "code",
   "execution_count": 3,
   "id": "1b14a6ad",
   "metadata": {},
   "outputs": [],
   "source": [
    "# Deleted first column since it was the same as the index\n",
    "df = df.iloc[: , 1:]\n",
    "# We are going to rename some columns for ease\n",
    "df = df.rename(columns={'trans_date_trans_time':'date_time'})\n",
    "# Drop any duplicates\n",
    "df.drop_duplicates(inplace=True)"
   ]
  },
  {
   "cell_type": "code",
   "execution_count": 4,
   "id": "6b9bd3e6",
   "metadata": {},
   "outputs": [
    {
     "data": {
      "text/plain": [
       "(1296675, 22)"
      ]
     },
     "execution_count": 4,
     "metadata": {},
     "output_type": "execute_result"
    }
   ],
   "source": [
    "df.shape"
   ]
  },
  {
   "cell_type": "code",
   "execution_count": 5,
   "id": "eb36daf3",
   "metadata": {},
   "outputs": [
    {
     "data": {
      "text/plain": [
       "(12967, 22)"
      ]
     },
     "execution_count": 5,
     "metadata": {},
     "output_type": "execute_result"
    }
   ],
   "source": [
    "# Let's downsize the data for ease of speed\n",
    "df = df.sample(frac=0.01)\n",
    "df.shape"
   ]
  },
  {
   "cell_type": "code",
   "execution_count": 6,
   "id": "7dbf6dc8",
   "metadata": {},
   "outputs": [
    {
     "data": {
      "text/html": [
       "<div>\n",
       "<style scoped>\n",
       "    .dataframe tbody tr th:only-of-type {\n",
       "        vertical-align: middle;\n",
       "    }\n",
       "\n",
       "    .dataframe tbody tr th {\n",
       "        vertical-align: top;\n",
       "    }\n",
       "\n",
       "    .dataframe thead th {\n",
       "        text-align: right;\n",
       "    }\n",
       "</style>\n",
       "<table border=\"1\" class=\"dataframe\">\n",
       "  <thead>\n",
       "    <tr style=\"text-align: right;\">\n",
       "      <th></th>\n",
       "      <th>date_time</th>\n",
       "      <th>cc_num</th>\n",
       "      <th>merchant</th>\n",
       "      <th>category</th>\n",
       "      <th>amt</th>\n",
       "      <th>first</th>\n",
       "      <th>last</th>\n",
       "      <th>gender</th>\n",
       "      <th>street</th>\n",
       "      <th>city</th>\n",
       "      <th>...</th>\n",
       "      <th>lat</th>\n",
       "      <th>long</th>\n",
       "      <th>city_pop</th>\n",
       "      <th>job</th>\n",
       "      <th>dob</th>\n",
       "      <th>trans_num</th>\n",
       "      <th>unix_time</th>\n",
       "      <th>merch_lat</th>\n",
       "      <th>merch_long</th>\n",
       "      <th>is_fraud</th>\n",
       "    </tr>\n",
       "  </thead>\n",
       "  <tbody>\n",
       "    <tr>\n",
       "      <th>844251</th>\n",
       "      <td>2019-12-14 14:24:34</td>\n",
       "      <td>3577578023716568</td>\n",
       "      <td>fraud_Connelly-Carter</td>\n",
       "      <td>home</td>\n",
       "      <td>61.30</td>\n",
       "      <td>Debbie</td>\n",
       "      <td>Hughes</td>\n",
       "      <td>F</td>\n",
       "      <td>0182 Owens Burgs Suite 480</td>\n",
       "      <td>Diamond</td>\n",
       "      <td>...</td>\n",
       "      <td>41.0935</td>\n",
       "      <td>-81.0425</td>\n",
       "      <td>2644</td>\n",
       "      <td>Engineer, biomedical</td>\n",
       "      <td>1983-08-25</td>\n",
       "      <td>26adc9780adf68d32f2806e7e24d9607</td>\n",
       "      <td>1355495074</td>\n",
       "      <td>41.182834</td>\n",
       "      <td>-80.598998</td>\n",
       "      <td>0</td>\n",
       "    </tr>\n",
       "    <tr>\n",
       "      <th>1073400</th>\n",
       "      <td>2020-03-22 06:33:04</td>\n",
       "      <td>4822367783500458</td>\n",
       "      <td>fraud_Smitham-Boehm</td>\n",
       "      <td>grocery_net</td>\n",
       "      <td>49.51</td>\n",
       "      <td>Christopher</td>\n",
       "      <td>Farrell</td>\n",
       "      <td>M</td>\n",
       "      <td>97070 Anderson Land</td>\n",
       "      <td>Haines City</td>\n",
       "      <td>...</td>\n",
       "      <td>28.0758</td>\n",
       "      <td>-81.5929</td>\n",
       "      <td>33804</td>\n",
       "      <td>Exercise physiologist</td>\n",
       "      <td>1991-01-01</td>\n",
       "      <td>02e371db409e3999b37e297a3e7b1f49</td>\n",
       "      <td>1363933984</td>\n",
       "      <td>27.454865</td>\n",
       "      <td>-81.846996</td>\n",
       "      <td>0</td>\n",
       "    </tr>\n",
       "    <tr>\n",
       "      <th>1035705</th>\n",
       "      <td>2020-03-05 07:38:39</td>\n",
       "      <td>4512828414983801773</td>\n",
       "      <td>fraud_Kutch-Hegmann</td>\n",
       "      <td>grocery_net</td>\n",
       "      <td>50.88</td>\n",
       "      <td>Monica</td>\n",
       "      <td>Cohen</td>\n",
       "      <td>F</td>\n",
       "      <td>864 Reynolds Plains</td>\n",
       "      <td>Uledi</td>\n",
       "      <td>...</td>\n",
       "      <td>39.8936</td>\n",
       "      <td>-79.7856</td>\n",
       "      <td>328</td>\n",
       "      <td>Tree surgeon</td>\n",
       "      <td>1983-07-25</td>\n",
       "      <td>a2db8ea2d74b5970267465073343cc1f</td>\n",
       "      <td>1362469119</td>\n",
       "      <td>39.880428</td>\n",
       "      <td>-80.729349</td>\n",
       "      <td>0</td>\n",
       "    </tr>\n",
       "    <tr>\n",
       "      <th>1142571</th>\n",
       "      <td>2020-04-20 23:57:09</td>\n",
       "      <td>2222157926772399</td>\n",
       "      <td>fraud_Rau-Grant</td>\n",
       "      <td>kids_pets</td>\n",
       "      <td>130.63</td>\n",
       "      <td>Amy</td>\n",
       "      <td>Garrett</td>\n",
       "      <td>F</td>\n",
       "      <td>6014 Thomas Throughway</td>\n",
       "      <td>Trenton</td>\n",
       "      <td>...</td>\n",
       "      <td>33.4235</td>\n",
       "      <td>-96.3398</td>\n",
       "      <td>2211</td>\n",
       "      <td>Investment banker, operational</td>\n",
       "      <td>1987-02-26</td>\n",
       "      <td>d3a3fbb5187f2650287c335489edfb5e</td>\n",
       "      <td>1366502229</td>\n",
       "      <td>34.250078</td>\n",
       "      <td>-95.344471</td>\n",
       "      <td>0</td>\n",
       "    </tr>\n",
       "    <tr>\n",
       "      <th>269503</th>\n",
       "      <td>2019-05-13 10:44:33</td>\n",
       "      <td>30030380240193</td>\n",
       "      <td>fraud_Terry-Huel</td>\n",
       "      <td>shopping_net</td>\n",
       "      <td>95.43</td>\n",
       "      <td>William</td>\n",
       "      <td>Jenkins</td>\n",
       "      <td>M</td>\n",
       "      <td>50614 Kevin Point</td>\n",
       "      <td>Harper</td>\n",
       "      <td>...</td>\n",
       "      <td>30.2816</td>\n",
       "      <td>-99.2410</td>\n",
       "      <td>2395</td>\n",
       "      <td>Pharmacist, community</td>\n",
       "      <td>1993-11-17</td>\n",
       "      <td>2ecaf4f9f576869f25389a393089217e</td>\n",
       "      <td>1336905873</td>\n",
       "      <td>30.301885</td>\n",
       "      <td>-100.135697</td>\n",
       "      <td>0</td>\n",
       "    </tr>\n",
       "  </tbody>\n",
       "</table>\n",
       "<p>5 rows × 22 columns</p>\n",
       "</div>"
      ],
      "text/plain": [
       "                   date_time               cc_num               merchant  \\\n",
       "844251   2019-12-14 14:24:34     3577578023716568  fraud_Connelly-Carter   \n",
       "1073400  2020-03-22 06:33:04     4822367783500458    fraud_Smitham-Boehm   \n",
       "1035705  2020-03-05 07:38:39  4512828414983801773    fraud_Kutch-Hegmann   \n",
       "1142571  2020-04-20 23:57:09     2222157926772399        fraud_Rau-Grant   \n",
       "269503   2019-05-13 10:44:33       30030380240193       fraud_Terry-Huel   \n",
       "\n",
       "             category     amt        first     last gender  \\\n",
       "844251           home   61.30       Debbie   Hughes      F   \n",
       "1073400   grocery_net   49.51  Christopher  Farrell      M   \n",
       "1035705   grocery_net   50.88       Monica    Cohen      F   \n",
       "1142571     kids_pets  130.63          Amy  Garrett      F   \n",
       "269503   shopping_net   95.43      William  Jenkins      M   \n",
       "\n",
       "                             street         city  ...      lat     long  \\\n",
       "844251   0182 Owens Burgs Suite 480      Diamond  ...  41.0935 -81.0425   \n",
       "1073400         97070 Anderson Land  Haines City  ...  28.0758 -81.5929   \n",
       "1035705         864 Reynolds Plains        Uledi  ...  39.8936 -79.7856   \n",
       "1142571      6014 Thomas Throughway      Trenton  ...  33.4235 -96.3398   \n",
       "269503            50614 Kevin Point       Harper  ...  30.2816 -99.2410   \n",
       "\n",
       "         city_pop                             job         dob  \\\n",
       "844251       2644            Engineer, biomedical  1983-08-25   \n",
       "1073400     33804           Exercise physiologist  1991-01-01   \n",
       "1035705       328                    Tree surgeon  1983-07-25   \n",
       "1142571      2211  Investment banker, operational  1987-02-26   \n",
       "269503       2395           Pharmacist, community  1993-11-17   \n",
       "\n",
       "                                trans_num   unix_time  merch_lat  merch_long  \\\n",
       "844251   26adc9780adf68d32f2806e7e24d9607  1355495074  41.182834  -80.598998   \n",
       "1073400  02e371db409e3999b37e297a3e7b1f49  1363933984  27.454865  -81.846996   \n",
       "1035705  a2db8ea2d74b5970267465073343cc1f  1362469119  39.880428  -80.729349   \n",
       "1142571  d3a3fbb5187f2650287c335489edfb5e  1366502229  34.250078  -95.344471   \n",
       "269503   2ecaf4f9f576869f25389a393089217e  1336905873  30.301885 -100.135697   \n",
       "\n",
       "         is_fraud  \n",
       "844251          0  \n",
       "1073400         0  \n",
       "1035705         0  \n",
       "1142571         0  \n",
       "269503          0  \n",
       "\n",
       "[5 rows x 22 columns]"
      ]
     },
     "execution_count": 6,
     "metadata": {},
     "output_type": "execute_result"
    }
   ],
   "source": [
    "df.head()"
   ]
  },
  {
   "cell_type": "code",
   "execution_count": 7,
   "id": "809f93aa",
   "metadata": {},
   "outputs": [
    {
     "data": {
      "text/plain": [
       "Index(['date_time', 'cc_num', 'merchant', 'category', 'amt', 'first', 'last',\n",
       "       'gender', 'street', 'city', 'state', 'zip', 'lat', 'long', 'city_pop',\n",
       "       'job', 'dob', 'trans_num', 'unix_time', 'merch_lat', 'merch_long',\n",
       "       'is_fraud'],\n",
       "      dtype='object')"
      ]
     },
     "execution_count": 7,
     "metadata": {},
     "output_type": "execute_result"
    }
   ],
   "source": [
    "df.columns"
   ]
  },
  {
   "cell_type": "code",
   "execution_count": 8,
   "id": "ff5e10a7",
   "metadata": {},
   "outputs": [
    {
     "data": {
      "text/plain": [
       "date_time     0\n",
       "cc_num        0\n",
       "merchant      0\n",
       "category      0\n",
       "amt           0\n",
       "first         0\n",
       "last          0\n",
       "gender        0\n",
       "street        0\n",
       "city          0\n",
       "state         0\n",
       "zip           0\n",
       "lat           0\n",
       "long          0\n",
       "city_pop      0\n",
       "job           0\n",
       "dob           0\n",
       "trans_num     0\n",
       "unix_time     0\n",
       "merch_lat     0\n",
       "merch_long    0\n",
       "is_fraud      0\n",
       "dtype: int64"
      ]
     },
     "execution_count": 8,
     "metadata": {},
     "output_type": "execute_result"
    }
   ],
   "source": [
    "# No null data\n",
    "df.isnull().sum()"
   ]
  },
  {
   "cell_type": "code",
   "execution_count": 9,
   "id": "80deaa41",
   "metadata": {},
   "outputs": [
    {
     "name": "stdout",
     "output_type": "stream",
     "text": [
      "4976.59\n",
      "1.0\n"
     ]
    }
   ],
   "source": [
    "print(df['amt'].max())\n",
    "print(df['amt'].min())"
   ]
  },
  {
   "cell_type": "markdown",
   "id": "1bfce334",
   "metadata": {},
   "source": [
    "Since there is a huge difference in the max and min values for the transaction amount, I will then scale this column to make the data more practical."
   ]
  },
  {
   "cell_type": "code",
   "execution_count": 10,
   "id": "86b354fb",
   "metadata": {},
   "outputs": [
    {
     "data": {
      "text/plain": [
       "844251    -0.063860\n",
       "1073400   -0.149753\n",
       "1035705   -0.139772\n",
       "1142571    0.441229\n",
       "269503     0.184787\n",
       "             ...   \n",
       "682304    -0.286498\n",
       "898375     0.066328\n",
       "338451     0.038499\n",
       "967983    -0.494202\n",
       "935753    -0.407798\n",
       "Name: amt, Length: 12967, dtype: float64"
      ]
     },
     "execution_count": 10,
     "metadata": {},
     "output_type": "execute_result"
    }
   ],
   "source": [
    "# We want to standardize the 'amt' column\n",
    "from sklearn.preprocessing import StandardScaler\n",
    "\n",
    "sc = StandardScaler()\n",
    "amount = df['amt'].values\n",
    "df['amt'] = sc.fit_transform(amount.reshape(-1, 1))\n",
    "df['amt']"
   ]
  },
  {
   "cell_type": "markdown",
   "id": "75095a74",
   "metadata": {},
   "source": [
    "Everything in the 'amt' or Amount column looks like it has been scaled and so we will move onto the train and test split. While doing EDA, we found out that most of the columns are not correlated with wether or not the transaction is fraudulent. Therefore, we will create a new dataframe that focuses on the features we need. Additionally, it will save running time."
   ]
  },
  {
   "cell_type": "code",
   "execution_count": 11,
   "id": "10b113b8",
   "metadata": {},
   "outputs": [],
   "source": [
    "dfa = df[['amt', 'is_fraud']]\n",
    "dft = df[['date_time', 'is_fraud']]"
   ]
  },
  {
   "cell_type": "markdown",
   "id": "03c09577",
   "metadata": {},
   "source": [
    "## Train Test Split - Time Series"
   ]
  },
  {
   "cell_type": "markdown",
   "id": "616a6987",
   "metadata": {},
   "source": [
    "The first step in creating an ARIMA model is checking if the series is stationary using the Dickey Fuller Test (ADF). The null hypothesis of the ADF test is that the time series is nonstationary. SO if the p-value of the test is less than the significance level (0.05), then we reject the null hypthesis and infer that the time series is stationary. If the p-value > 0.05, then we find the order of differencing."
   ]
  },
  {
   "cell_type": "code",
   "execution_count": 12,
   "id": "992d8d4e",
   "metadata": {},
   "outputs": [
    {
     "name": "stdout",
     "output_type": "stream",
     "text": [
      "ADF Statistic: -114.506069\n",
      "p-value: 0.000000\n"
     ]
    }
   ],
   "source": [
    "from statsmodels.tsa.stattools import adfuller\n",
    "from numpy import log\n",
    "\n",
    "result = adfuller(dft.is_fraud)\n",
    "print('ADF Statistic: %f' % result[0])\n",
    "print('p-value: %f' % result[1])"
   ]
  },
  {
   "cell_type": "markdown",
   "id": "6d4b1625",
   "metadata": {},
   "source": [
    "Since P-value is greater than the significance level, let’s move on to see which is the best ARIMA order to use by using the auto_arima tool."
   ]
  },
  {
   "cell_type": "code",
   "execution_count": 13,
   "id": "99fac8a2",
   "metadata": {},
   "outputs": [
    {
     "name": "stdout",
     "output_type": "stream",
     "text": [
      " ARIMA(0,0,0)(0,0,0)[0]             : AIC=-30364.463, Time=0.82 sec\n",
      " ARIMA(0,0,1)(0,0,0)[0]             : AIC=-30362.463, Time=3.13 sec\n",
      " ARIMA(0,0,2)(0,0,0)[0]             : AIC=-30360.463, Time=1.80 sec\n",
      " ARIMA(0,0,3)(0,0,0)[0]             : AIC=-30360.831, Time=3.51 sec\n",
      " ARIMA(1,0,0)(0,0,0)[0]             : AIC=-30362.463, Time=0.49 sec\n",
      " ARIMA(1,0,1)(0,0,0)[0]             : AIC=-30360.463, Time=3.65 sec\n",
      " ARIMA(1,0,2)(0,0,0)[0]             : AIC=-30358.463, Time=6.20 sec\n",
      " ARIMA(1,0,3)(0,0,0)[0]             : AIC=-30358.831, Time=4.61 sec\n",
      " ARIMA(2,0,0)(0,0,0)[0]             : AIC=-30360.463, Time=2.73 sec\n",
      " ARIMA(2,0,1)(0,0,0)[0]             : AIC=-30358.463, Time=2.92 sec\n",
      " ARIMA(2,0,2)(0,0,0)[0]             : AIC=-30356.463, Time=7.15 sec\n",
      " ARIMA(2,0,3)(0,0,0)[0]             : AIC=-30356.831, Time=3.63 sec\n",
      " ARIMA(3,0,0)(0,0,0)[0]             : AIC=-30360.896, Time=3.08 sec\n",
      " ARIMA(3,0,1)(0,0,0)[0]             : AIC=-30358.896, Time=3.55 sec\n",
      " ARIMA(3,0,2)(0,0,0)[0]             : AIC=-30356.896, Time=4.57 sec\n",
      "\n",
      "Best model:  ARIMA(0,0,0)(0,0,0)[0]          \n",
      "Total fit time: 51.857 seconds\n"
     ]
    }
   ],
   "source": [
    "from pmdarima import auto_arima\n",
    "\n",
    "\n",
    "model_arima= auto_arima(dft.is_fraud,trace=True, error_action='ignore', start_p=1,start_q=1,max_p=3,max_q=3,\n",
    "              suppress_warnings=True,stepwise=False,seasonal=False)"
   ]
  },
  {
   "cell_type": "code",
   "execution_count": 14,
   "id": "4144eeb3",
   "metadata": {},
   "outputs": [
    {
     "name": "stdout",
     "output_type": "stream",
     "text": [
      "                               SARIMAX Results                                \n",
      "==============================================================================\n",
      "Dep. Variable:                      y   No. Observations:                 9725\n",
      "Model:                          ARIMA   Log Likelihood               11571.539\n",
      "Date:                Sat, 22 Oct 2022   AIC                         -23139.078\n",
      "Time:                        10:35:42   BIC                         -23124.713\n",
      "Sample:                             0   HQIC                        -23134.209\n",
      "                               - 9725                                         \n",
      "Covariance Type:                  opg                                         \n",
      "==============================================================================\n",
      "                 coef    std err          z      P>|z|      [0.025      0.975]\n",
      "------------------------------------------------------------------------------\n",
      "const          0.0054      9.566      0.001      1.000     -18.743      18.754\n",
      "sigma2         0.0054      0.105      0.052      0.959      -0.200       0.211\n",
      "===================================================================================\n",
      "Ljung-Box (L1) (Q):                   0.29   Jarque-Bera (JB):          13202831.22\n",
      "Prob(Q):                              0.59   Prob(JB):                         0.00\n",
      "Heteroskedasticity (H):               0.65   Skew:                            13.43\n",
      "Prob(H) (two-sided):                  0.00   Kurtosis:                       181.50\n",
      "===================================================================================\n",
      "\n",
      "Warnings:\n",
      "[1] Covariance matrix calculated using the outer product of gradients (complex-step).\n"
     ]
    }
   ],
   "source": [
    "from statsmodels.tsa.arima.model import ARIMA\n",
    "\n",
    "series = dft.is_fraud\n",
    "X = series\n",
    "size = int(len(X) * 0.75)  \n",
    "train, test = X[0:size], X[size:]\n",
    "history = [x for x in train]\n",
    "model = ARIMA(history, order=(0,0,0))\n",
    "model_fit = model.fit()\n",
    "print(model_fit.summary())"
   ]
  },
  {
   "cell_type": "markdown",
   "id": "f16e1384",
   "metadata": {},
   "source": [
    "### Plot Arima"
   ]
  },
  {
   "cell_type": "code",
   "execution_count": 15,
   "id": "91d96234",
   "metadata": {},
   "outputs": [
    {
     "data": {
      "text/plain": [
       "(3242,)"
      ]
     },
     "execution_count": 15,
     "metadata": {},
     "output_type": "execute_result"
    }
   ],
   "source": [
    "forecast_test = model_fit.forecast(len(test))\n",
    "forecast_test.shape"
   ]
  },
  {
   "cell_type": "code",
   "execution_count": 16,
   "id": "8af62e34",
   "metadata": {},
   "outputs": [
    {
     "name": "stdout",
     "output_type": "stream",
     "text": [
      "[0.00544487 0.00544487 0.00544487 ... 0.00544487 0.00544487 0.00544487]\n"
     ]
    }
   ],
   "source": [
    "print(forecast_test)"
   ]
  },
  {
   "cell_type": "code",
   "execution_count": 17,
   "id": "99b1d15d",
   "metadata": {},
   "outputs": [
    {
     "data": {
      "text/plain": [
       "(3242,)"
      ]
     },
     "execution_count": 17,
     "metadata": {},
     "output_type": "execute_result"
    }
   ],
   "source": [
    "test.shape"
   ]
  },
  {
   "cell_type": "code",
   "execution_count": 18,
   "id": "82da9e54",
   "metadata": {},
   "outputs": [
    {
     "name": "stdout",
     "output_type": "stream",
     "text": [
      "795393     2019-12-02 21:25:04\n",
      "473118     2019-07-27 14:30:28\n",
      "626797     2019-09-23 10:55:48\n",
      "78197      2019-02-16 02:46:15\n",
      "1139708    2020-04-20 03:17:08\n",
      "                  ...         \n",
      "682304     2019-10-18 12:43:19\n",
      "898375     2019-12-26 13:07:12\n",
      "338451     2019-06-09 11:31:21\n",
      "967983     2020-01-26 10:41:26\n",
      "935753     2020-01-06 23:43:35\n",
      "Name: date_time, Length: 3242, dtype: object\n"
     ]
    }
   ],
   "source": [
    "print(dft['date_time'][size:])"
   ]
  },
  {
   "cell_type": "code",
   "execution_count": 19,
   "id": "d4d9e14e",
   "metadata": {},
   "outputs": [
    {
     "data": {
      "image/png": "[encoded data removed]",
      "text/plain": [
       "<Figure size 432x288 with 1 Axes>"
      ]
     },
     "metadata": {
      "needs_background": "light"
     },
     "output_type": "display_data"
    }
   ],
   "source": [
    "plt.scatter(dft['date_time'][size:], test, label=\"Test\")\n",
    "plt.scatter(dft['date_time'][size:], forecast_test, label=\"Predicted\")\n",
    "plt.xlabel('Date and Time')\n",
    "plt.ylabel('Is_Fraud')\n",
    "plt.legend(loc=\"upper left\")\n",
    "plt.xticks(np.arange(0, 3242, 1000), rotation = 90)\n",
    "plt.title('Arima Model')\n",
    "plt.show()"
   ]
  },
  {
   "cell_type": "markdown",
   "id": "9f3d9da2",
   "metadata": {},
   "source": [
    "### Plot Residual"
   ]
  },
  {
   "cell_type": "code",
   "execution_count": 20,
   "id": "c9aa126a",
   "metadata": {},
   "outputs": [],
   "source": [
    "diff = test - forecast_test "
   ]
  },
  {
   "cell_type": "code",
   "execution_count": 21,
   "id": "45f05f11",
   "metadata": {},
   "outputs": [
    {
     "data": {
      "image/png": "[encoded data removed]",
      "text/plain": [
       "<Figure size 432x288 with 1 Axes>"
      ]
     },
     "metadata": {
      "needs_background": "light"
     },
     "output_type": "display_data"
    }
   ],
   "source": [
    "plt.plot(dft['date_time'][size:], diff)\n",
    "plt.xticks(np.arange(0, 3242, 1000), rotation = 90)\n",
    "plt.xlabel('Date and Time')\n",
    "plt.ylabel('Residual')\n",
    "plt.title('Residual of Arima')\n",
    "plt.show()"
   ]
  },
  {
   "cell_type": "code",
   "execution_count": 22,
   "id": "9bc8dc6e",
   "metadata": {},
   "outputs": [
    {
     "name": "stdout",
     "output_type": "stream",
     "text": [
      "The average of the residual is 0.0007241622430782345\n"
     ]
    }
   ],
   "source": [
    "from statistics import mean\n",
    "\n",
    "avg = mean(diff)\n",
    "print('The average of the residual is', avg)"
   ]
  },
  {
   "cell_type": "markdown",
   "id": "84f0fd91",
   "metadata": {},
   "source": [
    "Although the average of the residual is low, however, we have to consider that the majority of the data is nonfraudulent data. If we look at the Arima model, it did not predict a single fraudulent behavior when there was some. Let's feed the residual with  the random forest model (with other characteristics)."
   ]
  },
  {
   "cell_type": "markdown",
   "id": "b87e8afa",
   "metadata": {},
   "source": [
    "### Random Forest on Residuals"
   ]
  },
  {
   "cell_type": "code",
   "execution_count": 23,
   "id": "0cd81583",
   "metadata": {},
   "outputs": [
    {
     "data": {
      "text/html": [
       "<div>\n",
       "<style scoped>\n",
       "    .dataframe tbody tr th:only-of-type {\n",
       "        vertical-align: middle;\n",
       "    }\n",
       "\n",
       "    .dataframe tbody tr th {\n",
       "        vertical-align: top;\n",
       "    }\n",
       "\n",
       "    .dataframe thead th {\n",
       "        text-align: right;\n",
       "    }\n",
       "</style>\n",
       "<table border=\"1\" class=\"dataframe\">\n",
       "  <thead>\n",
       "    <tr style=\"text-align: right;\">\n",
       "      <th></th>\n",
       "      <th>date_time</th>\n",
       "      <th>cc_num</th>\n",
       "      <th>merchant</th>\n",
       "      <th>category</th>\n",
       "      <th>amt</th>\n",
       "      <th>first</th>\n",
       "      <th>last</th>\n",
       "      <th>gender</th>\n",
       "      <th>street</th>\n",
       "      <th>city</th>\n",
       "      <th>...</th>\n",
       "      <th>lat</th>\n",
       "      <th>long</th>\n",
       "      <th>city_pop</th>\n",
       "      <th>job</th>\n",
       "      <th>dob</th>\n",
       "      <th>trans_num</th>\n",
       "      <th>unix_time</th>\n",
       "      <th>merch_lat</th>\n",
       "      <th>merch_long</th>\n",
       "      <th>is_fraud</th>\n",
       "    </tr>\n",
       "  </thead>\n",
       "  <tbody>\n",
       "    <tr>\n",
       "      <th>844251</th>\n",
       "      <td>2019-12-14 14:24:34</td>\n",
       "      <td>3577578023716568</td>\n",
       "      <td>fraud_Connelly-Carter</td>\n",
       "      <td>home</td>\n",
       "      <td>-0.063860</td>\n",
       "      <td>Debbie</td>\n",
       "      <td>Hughes</td>\n",
       "      <td>F</td>\n",
       "      <td>0182 Owens Burgs Suite 480</td>\n",
       "      <td>Diamond</td>\n",
       "      <td>...</td>\n",
       "      <td>41.0935</td>\n",
       "      <td>-81.0425</td>\n",
       "      <td>2644</td>\n",
       "      <td>Engineer, biomedical</td>\n",
       "      <td>1983-08-25</td>\n",
       "      <td>26adc9780adf68d32f2806e7e24d9607</td>\n",
       "      <td>1355495074</td>\n",
       "      <td>41.182834</td>\n",
       "      <td>-80.598998</td>\n",
       "      <td>0</td>\n",
       "    </tr>\n",
       "    <tr>\n",
       "      <th>1073400</th>\n",
       "      <td>2020-03-22 06:33:04</td>\n",
       "      <td>4822367783500458</td>\n",
       "      <td>fraud_Smitham-Boehm</td>\n",
       "      <td>grocery_net</td>\n",
       "      <td>-0.149753</td>\n",
       "      <td>Christopher</td>\n",
       "      <td>Farrell</td>\n",
       "      <td>M</td>\n",
       "      <td>97070 Anderson Land</td>\n",
       "      <td>Haines City</td>\n",
       "      <td>...</td>\n",
       "      <td>28.0758</td>\n",
       "      <td>-81.5929</td>\n",
       "      <td>33804</td>\n",
       "      <td>Exercise physiologist</td>\n",
       "      <td>1991-01-01</td>\n",
       "      <td>02e371db409e3999b37e297a3e7b1f49</td>\n",
       "      <td>1363933984</td>\n",
       "      <td>27.454865</td>\n",
       "      <td>-81.846996</td>\n",
       "      <td>0</td>\n",
       "    </tr>\n",
       "    <tr>\n",
       "      <th>1035705</th>\n",
       "      <td>2020-03-05 07:38:39</td>\n",
       "      <td>4512828414983801773</td>\n",
       "      <td>fraud_Kutch-Hegmann</td>\n",
       "      <td>grocery_net</td>\n",
       "      <td>-0.139772</td>\n",
       "      <td>Monica</td>\n",
       "      <td>Cohen</td>\n",
       "      <td>F</td>\n",
       "      <td>864 Reynolds Plains</td>\n",
       "      <td>Uledi</td>\n",
       "      <td>...</td>\n",
       "      <td>39.8936</td>\n",
       "      <td>-79.7856</td>\n",
       "      <td>328</td>\n",
       "      <td>Tree surgeon</td>\n",
       "      <td>1983-07-25</td>\n",
       "      <td>a2db8ea2d74b5970267465073343cc1f</td>\n",
       "      <td>1362469119</td>\n",
       "      <td>39.880428</td>\n",
       "      <td>-80.729349</td>\n",
       "      <td>0</td>\n",
       "    </tr>\n",
       "    <tr>\n",
       "      <th>1142571</th>\n",
       "      <td>2020-04-20 23:57:09</td>\n",
       "      <td>2222157926772399</td>\n",
       "      <td>fraud_Rau-Grant</td>\n",
       "      <td>kids_pets</td>\n",
       "      <td>0.441229</td>\n",
       "      <td>Amy</td>\n",
       "      <td>Garrett</td>\n",
       "      <td>F</td>\n",
       "      <td>6014 Thomas Throughway</td>\n",
       "      <td>Trenton</td>\n",
       "      <td>...</td>\n",
       "      <td>33.4235</td>\n",
       "      <td>-96.3398</td>\n",
       "      <td>2211</td>\n",
       "      <td>Investment banker, operational</td>\n",
       "      <td>1987-02-26</td>\n",
       "      <td>d3a3fbb5187f2650287c335489edfb5e</td>\n",
       "      <td>1366502229</td>\n",
       "      <td>34.250078</td>\n",
       "      <td>-95.344471</td>\n",
       "      <td>0</td>\n",
       "    </tr>\n",
       "    <tr>\n",
       "      <th>269503</th>\n",
       "      <td>2019-05-13 10:44:33</td>\n",
       "      <td>30030380240193</td>\n",
       "      <td>fraud_Terry-Huel</td>\n",
       "      <td>shopping_net</td>\n",
       "      <td>0.184787</td>\n",
       "      <td>William</td>\n",
       "      <td>Jenkins</td>\n",
       "      <td>M</td>\n",
       "      <td>50614 Kevin Point</td>\n",
       "      <td>Harper</td>\n",
       "      <td>...</td>\n",
       "      <td>30.2816</td>\n",
       "      <td>-99.2410</td>\n",
       "      <td>2395</td>\n",
       "      <td>Pharmacist, community</td>\n",
       "      <td>1993-11-17</td>\n",
       "      <td>2ecaf4f9f576869f25389a393089217e</td>\n",
       "      <td>1336905873</td>\n",
       "      <td>30.301885</td>\n",
       "      <td>-100.135697</td>\n",
       "      <td>0</td>\n",
       "    </tr>\n",
       "  </tbody>\n",
       "</table>\n",
       "<p>5 rows × 22 columns</p>\n",
       "</div>"
      ],
      "text/plain": [
       "                   date_time               cc_num               merchant  \\\n",
       "844251   2019-12-14 14:24:34     3577578023716568  fraud_Connelly-Carter   \n",
       "1073400  2020-03-22 06:33:04     4822367783500458    fraud_Smitham-Boehm   \n",
       "1035705  2020-03-05 07:38:39  4512828414983801773    fraud_Kutch-Hegmann   \n",
       "1142571  2020-04-20 23:57:09     2222157926772399        fraud_Rau-Grant   \n",
       "269503   2019-05-13 10:44:33       30030380240193       fraud_Terry-Huel   \n",
       "\n",
       "             category       amt        first     last gender  \\\n",
       "844251           home -0.063860       Debbie   Hughes      F   \n",
       "1073400   grocery_net -0.149753  Christopher  Farrell      M   \n",
       "1035705   grocery_net -0.139772       Monica    Cohen      F   \n",
       "1142571     kids_pets  0.441229          Amy  Garrett      F   \n",
       "269503   shopping_net  0.184787      William  Jenkins      M   \n",
       "\n",
       "                             street         city  ...      lat     long  \\\n",
       "844251   0182 Owens Burgs Suite 480      Diamond  ...  41.0935 -81.0425   \n",
       "1073400         97070 Anderson Land  Haines City  ...  28.0758 -81.5929   \n",
       "1035705         864 Reynolds Plains        Uledi  ...  39.8936 -79.7856   \n",
       "1142571      6014 Thomas Throughway      Trenton  ...  33.4235 -96.3398   \n",
       "269503            50614 Kevin Point       Harper  ...  30.2816 -99.2410   \n",
       "\n",
       "         city_pop                             job         dob  \\\n",
       "844251       2644            Engineer, biomedical  1983-08-25   \n",
       "1073400     33804           Exercise physiologist  1991-01-01   \n",
       "1035705       328                    Tree surgeon  1983-07-25   \n",
       "1142571      2211  Investment banker, operational  1987-02-26   \n",
       "269503       2395           Pharmacist, community  1993-11-17   \n",
       "\n",
       "                                trans_num   unix_time  merch_lat  merch_long  \\\n",
       "844251   26adc9780adf68d32f2806e7e24d9607  1355495074  41.182834  -80.598998   \n",
       "1073400  02e371db409e3999b37e297a3e7b1f49  1363933984  27.454865  -81.846996   \n",
       "1035705  a2db8ea2d74b5970267465073343cc1f  1362469119  39.880428  -80.729349   \n",
       "1142571  d3a3fbb5187f2650287c335489edfb5e  1366502229  34.250078  -95.344471   \n",
       "269503   2ecaf4f9f576869f25389a393089217e  1336905873  30.301885 -100.135697   \n",
       "\n",
       "         is_fraud  \n",
       "844251          0  \n",
       "1073400         0  \n",
       "1035705         0  \n",
       "1142571         0  \n",
       "269503          0  \n",
       "\n",
       "[5 rows x 22 columns]"
      ]
     },
     "execution_count": 23,
     "metadata": {},
     "output_type": "execute_result"
    }
   ],
   "source": [
    "df.head()"
   ]
  },
  {
   "cell_type": "code",
   "execution_count": 24,
   "id": "8354cccc",
   "metadata": {},
   "outputs": [],
   "source": [
    "# create a new dataframe from the residuals\n",
    "df_rf = pd.DataFrame(diff)\n",
    "df_rf = df_rf.rename(columns = {'is_fraud':'residual'})"
   ]
  },
  {
   "cell_type": "code",
   "execution_count": 25,
   "id": "d02690e9",
   "metadata": {},
   "outputs": [
    {
     "data": {
      "text/html": [
       "<div>\n",
       "<style scoped>\n",
       "    .dataframe tbody tr th:only-of-type {\n",
       "        vertical-align: middle;\n",
       "    }\n",
       "\n",
       "    .dataframe tbody tr th {\n",
       "        vertical-align: top;\n",
       "    }\n",
       "\n",
       "    .dataframe thead th {\n",
       "        text-align: right;\n",
       "    }\n",
       "</style>\n",
       "<table border=\"1\" class=\"dataframe\">\n",
       "  <thead>\n",
       "    <tr style=\"text-align: right;\">\n",
       "      <th></th>\n",
       "      <th>residual</th>\n",
       "      <th>date_time</th>\n",
       "      <th>amt</th>\n",
       "      <th>city_pop</th>\n",
       "      <th>is_fraud</th>\n",
       "    </tr>\n",
       "  </thead>\n",
       "  <tbody>\n",
       "    <tr>\n",
       "      <th>0</th>\n",
       "      <td>-0.005445</td>\n",
       "      <td>2019-12-02 21:25:04</td>\n",
       "      <td>-0.501123</td>\n",
       "      <td>276002</td>\n",
       "      <td>0</td>\n",
       "    </tr>\n",
       "    <tr>\n",
       "      <th>1</th>\n",
       "      <td>-0.005445</td>\n",
       "      <td>2019-07-27 14:30:28</td>\n",
       "      <td>-0.014611</td>\n",
       "      <td>741</td>\n",
       "      <td>0</td>\n",
       "    </tr>\n",
       "    <tr>\n",
       "      <th>2</th>\n",
       "      <td>-0.005445</td>\n",
       "      <td>2019-09-23 10:55:48</td>\n",
       "      <td>-0.108883</td>\n",
       "      <td>3684</td>\n",
       "      <td>0</td>\n",
       "    </tr>\n",
       "    <tr>\n",
       "      <th>3</th>\n",
       "      <td>-0.005445</td>\n",
       "      <td>2019-02-16 02:46:15</td>\n",
       "      <td>-0.480869</td>\n",
       "      <td>11751</td>\n",
       "      <td>0</td>\n",
       "    </tr>\n",
       "    <tr>\n",
       "      <th>4</th>\n",
       "      <td>-0.005445</td>\n",
       "      <td>2020-04-20 03:17:08</td>\n",
       "      <td>-0.456391</td>\n",
       "      <td>207</td>\n",
       "      <td>0</td>\n",
       "    </tr>\n",
       "    <tr>\n",
       "      <th>...</th>\n",
       "      <td>...</td>\n",
       "      <td>...</td>\n",
       "      <td>...</td>\n",
       "      <td>...</td>\n",
       "      <td>...</td>\n",
       "    </tr>\n",
       "    <tr>\n",
       "      <th>3237</th>\n",
       "      <td>-0.005445</td>\n",
       "      <td>2019-10-18 12:43:19</td>\n",
       "      <td>-0.286498</td>\n",
       "      <td>21902</td>\n",
       "      <td>0</td>\n",
       "    </tr>\n",
       "    <tr>\n",
       "      <th>3238</th>\n",
       "      <td>-0.005445</td>\n",
       "      <td>2019-12-26 13:07:12</td>\n",
       "      <td>0.066328</td>\n",
       "      <td>84106</td>\n",
       "      <td>0</td>\n",
       "    </tr>\n",
       "    <tr>\n",
       "      <th>3239</th>\n",
       "      <td>-0.005445</td>\n",
       "      <td>2019-06-09 11:31:21</td>\n",
       "      <td>0.038499</td>\n",
       "      <td>4508</td>\n",
       "      <td>0</td>\n",
       "    </tr>\n",
       "    <tr>\n",
       "      <th>3240</th>\n",
       "      <td>-0.005445</td>\n",
       "      <td>2020-01-26 10:41:26</td>\n",
       "      <td>-0.494202</td>\n",
       "      <td>350</td>\n",
       "      <td>0</td>\n",
       "    </tr>\n",
       "    <tr>\n",
       "      <th>3241</th>\n",
       "      <td>-0.005445</td>\n",
       "      <td>2020-01-06 23:43:35</td>\n",
       "      <td>-0.407798</td>\n",
       "      <td>1186</td>\n",
       "      <td>0</td>\n",
       "    </tr>\n",
       "  </tbody>\n",
       "</table>\n",
       "<p>3242 rows × 5 columns</p>\n",
       "</div>"
      ],
      "text/plain": [
       "      residual            date_time       amt  city_pop  is_fraud\n",
       "0    -0.005445  2019-12-02 21:25:04 -0.501123    276002         0\n",
       "1    -0.005445  2019-07-27 14:30:28 -0.014611       741         0\n",
       "2    -0.005445  2019-09-23 10:55:48 -0.108883      3684         0\n",
       "3    -0.005445  2019-02-16 02:46:15 -0.480869     11751         0\n",
       "4    -0.005445  2020-04-20 03:17:08 -0.456391       207         0\n",
       "...        ...                  ...       ...       ...       ...\n",
       "3237 -0.005445  2019-10-18 12:43:19 -0.286498     21902         0\n",
       "3238 -0.005445  2019-12-26 13:07:12  0.066328     84106         0\n",
       "3239 -0.005445  2019-06-09 11:31:21  0.038499      4508         0\n",
       "3240 -0.005445  2020-01-26 10:41:26 -0.494202       350         0\n",
       "3241 -0.005445  2020-01-06 23:43:35 -0.407798      1186         0\n",
       "\n",
       "[3242 rows x 5 columns]"
      ]
     },
     "execution_count": 25,
     "metadata": {},
     "output_type": "execute_result"
    }
   ],
   "source": [
    "df_rf['date_time'] = df['date_time'][size:]\n",
    "df_rf['amt'] = df['amt'][size:]\n",
    "df_rf['city_pop'] = df['city_pop'][size:]\n",
    "df_rf['is_fraud'] = df['is_fraud'][size:]\n",
    "df_rf.reset_index(drop=True)"
   ]
  },
  {
   "cell_type": "code",
   "execution_count": 26,
   "id": "5ccf82ba",
   "metadata": {},
   "outputs": [],
   "source": [
    "from sklearn.model_selection import train_test_split\n",
    "\n",
    "X = df_rf[['amt', 'city_pop']]\n",
    "y = df_rf['is_fraud']"
   ]
  },
  {
   "cell_type": "code",
   "execution_count": 27,
   "id": "a6e3b3b8",
   "metadata": {},
   "outputs": [],
   "source": [
    "X_train, X_test, y_train, y_test = train_test_split(X, y, test_size = 0.25, random_state = 1)"
   ]
  },
  {
   "cell_type": "code",
   "execution_count": 28,
   "id": "34edbe57",
   "metadata": {},
   "outputs": [
    {
     "data": {
      "text/plain": [
       "SelectFromModel(estimator=RandomForestClassifier())"
      ]
     },
     "execution_count": 28,
     "metadata": {},
     "output_type": "execute_result"
    }
   ],
   "source": [
    "from sklearn.ensemble import RandomForestClassifier\n",
    "from sklearn.feature_selection import SelectFromModel\n",
    "\n",
    "sel = SelectFromModel(RandomForestClassifier(n_estimators = 100))\n",
    "sel.fit(X_train, y_train)"
   ]
  },
  {
   "cell_type": "code",
   "execution_count": 29,
   "id": "eb9a0802",
   "metadata": {},
   "outputs": [
    {
     "data": {
      "text/plain": [
       "array([ True, False])"
      ]
     },
     "execution_count": 29,
     "metadata": {},
     "output_type": "execute_result"
    }
   ],
   "source": [
    "sel.get_support()"
   ]
  },
  {
   "cell_type": "markdown",
   "id": "874f58be",
   "metadata": {},
   "source": [
    "This means that between transaction amount and city population, transaction amount is the best feature we should look at."
   ]
  },
  {
   "cell_type": "code",
   "execution_count": 30,
   "id": "fcf03570",
   "metadata": {},
   "outputs": [
    {
     "data": {
      "text/plain": [
       "1"
      ]
     },
     "execution_count": 30,
     "metadata": {},
     "output_type": "execute_result"
    }
   ],
   "source": [
    "# It will return an Integer representing the number of features selected by the random forest\n",
    "\n",
    "selected_feat= X_train.columns[(sel.get_support())]\n",
    "len(selected_feat)"
   ]
  },
  {
   "cell_type": "code",
   "execution_count": 31,
   "id": "22519d21",
   "metadata": {},
   "outputs": [
    {
     "name": "stdout",
     "output_type": "stream",
     "text": [
      "Index(['amt'], dtype='object')\n"
     ]
    }
   ],
   "source": [
    "print(selected_feat)"
   ]
  },
  {
   "cell_type": "markdown",
   "id": "9a5698d1",
   "metadata": {},
   "source": [
    "Seeing as transaction amount is the best feature to look at, we will do further analysis on transaction amount and the residuals from our arima model in the next section."
   ]
  },
  {
   "cell_type": "markdown",
   "id": "209eae66",
   "metadata": {},
   "source": [
    "## Train Test Split - Amount"
   ]
  },
  {
   "cell_type": "code",
   "execution_count": 32,
   "id": "f4e796f4",
   "metadata": {},
   "outputs": [],
   "source": [
    "X = dfa.drop('is_fraud', axis = 1).values\n",
    "y = dfa['is_fraud'].values"
   ]
  },
  {
   "cell_type": "code",
   "execution_count": 33,
   "id": "f8bfeb6b",
   "metadata": {},
   "outputs": [],
   "source": [
    "X_train, X_test, y_train, y_test = train_test_split(X, y, test_size = 0.25, random_state = 1)"
   ]
  },
  {
   "cell_type": "markdown",
   "id": "330e0499",
   "metadata": {},
   "source": [
    "### Decision Tree Classifier"
   ]
  },
  {
   "cell_type": "code",
   "execution_count": 38,
   "id": "3c9cb9d1",
   "metadata": {},
   "outputs": [],
   "source": [
    "from sklearn.tree import DecisionTreeClassifier\n",
    "\n",
    "DT = DecisionTreeClassifier(max_depth = 4, criterion = 'entropy')\n",
    "DT.fit(X_train, y_train)\n",
    "dt_yhat = DT.predict(X_test)"
   ]
  },
  {
   "cell_type": "code",
   "execution_count": 39,
   "id": "a2ce1be9",
   "metadata": {},
   "outputs": [
    {
     "name": "stdout",
     "output_type": "stream",
     "text": [
      "Accuracy score of the Decision Tree model is 0.9950647748303516\n",
      "F1 score of the Decision Tree model is 0.2\n"
     ]
    },
    {
     "data": {
      "text/plain": [
       "array([[3224,    1],\n",
       "       [  15,    2]], dtype=int64)"
      ]
     },
     "execution_count": 39,
     "metadata": {},
     "output_type": "execute_result"
    }
   ],
   "source": [
    "from sklearn.metrics import confusion_matrix\n",
    "from sklearn.metrics import f1_score\n",
    "from sklearn.metrics import accuracy_score\n",
    "\n",
    "print('Accuracy score of the Decision Tree model is {}'.format(accuracy_score(y_test, dt_yhat)))\n",
    "print('F1 score of the Decision Tree model is {}'.format(f1_score(y_test, dt_yhat)))\n",
    "confusion_matrix(y_test, dt_yhat, labels = [0, 1])"
   ]
  },
  {
   "cell_type": "markdown",
   "id": "7de01b46",
   "metadata": {},
   "source": [
    "Here, the first row represents positive and the second row represents negative. So, we have 3219 as true positive and 0 are false positive. We have 3219 that are successfully classified as a nonfraudulent transaction and 0 were falsely classified as nonfraudulent, but they were fraudulent. For the accuracy and F1 score, generally we want the score closer to 1. The accuracy score of the Decision Tree model is pretty good but the F1 score is alright."
   ]
  },
  {
   "cell_type": "markdown",
   "id": "f2a8c1c7",
   "metadata": {},
   "source": [
    "### K-Nearest Neighbors"
   ]
  },
  {
   "cell_type": "code",
   "execution_count": 40,
   "id": "a6b68ac2",
   "metadata": {},
   "outputs": [],
   "source": [
    "from sklearn.neighbors import KNeighborsClassifier\n",
    "\n",
    "n = 7\n",
    "KNN = KNeighborsClassifier(n_neighbors = n)\n",
    "KNN.fit(X_train, y_train)\n",
    "knn_yhat = KNN.predict(X_test)"
   ]
  },
  {
   "cell_type": "code",
   "execution_count": 41,
   "id": "259d5b3e",
   "metadata": {},
   "outputs": [
    {
     "name": "stdout",
     "output_type": "stream",
     "text": [
      "Accuracy score of the K-Nearest Neighbors model is 0.9947563232572486\n",
      "F1 score of the K-Nearest Neighbors model is 0.2608695652173913\n"
     ]
    },
    {
     "data": {
      "text/plain": [
       "array([[3222,    3],\n",
       "       [  14,    3]], dtype=int64)"
      ]
     },
     "execution_count": 41,
     "metadata": {},
     "output_type": "execute_result"
    }
   ],
   "source": [
    "print('Accuracy score of the K-Nearest Neighbors model is {}'.format(accuracy_score(y_test, knn_yhat)))\n",
    "print('F1 score of the K-Nearest Neighbors model is {}'.format(f1_score(y_test, knn_yhat)))\n",
    "confusion_matrix(y_test, knn_yhat, labels = [0, 1])"
   ]
  },
  {
   "cell_type": "markdown",
   "id": "01fc8c11",
   "metadata": {},
   "source": [
    "### Logistic Regression"
   ]
  },
  {
   "cell_type": "code",
   "execution_count": 42,
   "id": "4ff421fe",
   "metadata": {},
   "outputs": [],
   "source": [
    "from sklearn.linear_model import LogisticRegression\n",
    "\n",
    "lr = LogisticRegression()\n",
    "lr.fit(X_train, y_train)\n",
    "lr_yhat = lr.predict(X_test)"
   ]
  },
  {
   "cell_type": "code",
   "execution_count": 43,
   "id": "d030c609",
   "metadata": {},
   "outputs": [
    {
     "name": "stdout",
     "output_type": "stream",
     "text": [
      "Accuracy score of the Logistic Regression model is 0.9938309685379395\n",
      "F1 score of the Logistic Regression model is 0.0\n"
     ]
    },
    {
     "data": {
      "text/plain": [
       "array([[3222,    3],\n",
       "       [  17,    0]], dtype=int64)"
      ]
     },
     "execution_count": 43,
     "metadata": {},
     "output_type": "execute_result"
    }
   ],
   "source": [
    "print('Accuracy score of the Logistic Regression model is {}'.format(accuracy_score(y_test, lr_yhat)))\n",
    "print('F1 score of the Logistic Regression model is {}'.format(f1_score(y_test, lr_yhat)))\n",
    "confusion_matrix(y_test, lr_yhat, labels = [0, 1])"
   ]
  },
  {
   "cell_type": "markdown",
   "id": "885a1cc2",
   "metadata": {},
   "source": [
    "### Random Forest"
   ]
  },
  {
   "cell_type": "code",
   "execution_count": 44,
   "id": "5acebb49",
   "metadata": {},
   "outputs": [],
   "source": [
    "from sklearn.ensemble import RandomForestClassifier\n",
    "\n",
    "rf = RandomForestClassifier(max_depth = 4)\n",
    "rf.fit(X_train, y_train)\n",
    "rf_yhat = rf.predict(X_test)"
   ]
  },
  {
   "cell_type": "code",
   "execution_count": 45,
   "id": "dafb5dc9",
   "metadata": {},
   "outputs": [
    {
     "name": "stdout",
     "output_type": "stream",
     "text": [
      "Accuracy score of the Random Forest model is 0.9950647748303516\n",
      "F1 score of the Random Forest model is 0.2727272727272727\n"
     ]
    },
    {
     "data": {
      "text/plain": [
       "array([[3223,    2],\n",
       "       [  14,    3]], dtype=int64)"
      ]
     },
     "execution_count": 45,
     "metadata": {},
     "output_type": "execute_result"
    }
   ],
   "source": [
    "print('Accuracy score of the Random Forest model is {}'.format(accuracy_score(y_test, rf_yhat)))\n",
    "print('F1 score of the Random Forest model is {}'.format(f1_score(y_test, rf_yhat)))\n",
    "confusion_matrix(y_test, rf_yhat, labels = [0, 1])"
   ]
  },
  {
   "cell_type": "markdown",
   "id": "0f4b8ba1",
   "metadata": {},
   "source": [
    "### XGBoost"
   ]
  },
  {
   "cell_type": "code",
   "execution_count": 46,
   "id": "9250be60",
   "metadata": {},
   "outputs": [],
   "source": [
    "from xgboost import XGBClassifier\n",
    "\n",
    "xgb = XGBClassifier(max_depth = 4)\n",
    "xgb.fit(X_train, y_train)\n",
    "xgb_yhat = xgb.predict(X_test)"
   ]
  },
  {
   "cell_type": "code",
   "execution_count": 47,
   "id": "56e31568",
   "metadata": {},
   "outputs": [
    {
     "name": "stdout",
     "output_type": "stream",
     "text": [
      "Accuracy score of the XGBoost model is 0.9947563232572486\n",
      "F1 score of the XGBoost model is 0.31999999999999995\n"
     ]
    },
    {
     "data": {
      "text/plain": [
       "array([[3221,    4],\n",
       "       [  13,    4]], dtype=int64)"
      ]
     },
     "execution_count": 47,
     "metadata": {},
     "output_type": "execute_result"
    }
   ],
   "source": [
    "print('Accuracy score of the XGBoost model is {}'.format(accuracy_score(y_test, xgb_yhat)))\n",
    "print('F1 score of the XGBoost model is {}'.format(f1_score(y_test, xgb_yhat)))\n",
    "confusion_matrix(y_test, xgb_yhat, labels = [0, 1])"
   ]
  },
  {
   "cell_type": "markdown",
   "id": "5ecd2f2c",
   "metadata": {},
   "source": [
    "### Hybrid XGBoost Model - XGBoost and Random Forest Classifier"
   ]
  },
  {
   "cell_type": "code",
   "execution_count": 48,
   "id": "e062e9ad",
   "metadata": {},
   "outputs": [],
   "source": [
    "from xgboost import XGBRFClassifier\n",
    "\n",
    "xgbrf = XGBRFClassifier()\n",
    "xgbrf.fit(X_train, y_train)\n",
    "xgbrf_yhat = xgb.predict(X_test)"
   ]
  },
  {
   "cell_type": "code",
   "execution_count": 49,
   "id": "ac98e3d2",
   "metadata": {},
   "outputs": [
    {
     "name": "stdout",
     "output_type": "stream",
     "text": [
      "Accuracy score of the XGBRF model is 0.9947563232572486\n",
      "F1 score of the XGBRF model is 0.31999999999999995\n"
     ]
    },
    {
     "data": {
      "text/plain": [
       "array([[3221,    4],\n",
       "       [  13,    4]], dtype=int64)"
      ]
     },
     "execution_count": 49,
     "metadata": {},
     "output_type": "execute_result"
    }
   ],
   "source": [
    "print('Accuracy score of the XGBRF model is {}'.format(accuracy_score(y_test, xgbrf_yhat)))\n",
    "print('F1 score of the XGBRF model is {}'.format(f1_score(y_test, xgbrf_yhat)))\n",
    "confusion_matrix(y_test, xgbrf_yhat, labels = [0, 1])"
   ]
  },
  {
   "cell_type": "markdown",
   "id": "43601a17",
   "metadata": {},
   "source": [
    "## Overall Scores"
   ]
  },
  {
   "cell_type": "code",
   "execution_count": 50,
   "id": "527b789d",
   "metadata": {},
   "outputs": [],
   "source": [
    "accuracy = [accuracy_score(y_test, dt_yhat), accuracy_score(y_test, knn_yhat), accuracy_score(y_test, lr_yhat), \n",
    "            accuracy_score(y_test, xgb_yhat), accuracy_score(y_test, xgbrf_yhat)]\n",
    "f1 = [f1_score(y_test, dt_yhat), f1_score(y_test, knn_yhat), f1_score(y_test, lr_yhat), \n",
    "            f1_score(y_test, xgb_yhat), f1_score(y_test, xgbrf_yhat)]\n",
    "names = ['DT', 'KNN', 'LR', 'XGB', 'XBGRF']"
   ]
  },
  {
   "cell_type": "code",
   "execution_count": 51,
   "id": "94257882",
   "metadata": {},
   "outputs": [],
   "source": [
    "def scores(accuracy, f1, names):\n",
    "    for i in range(0, 5):\n",
    "        print('For', names[i])\n",
    "        print('It has an accuracy score of', accuracy[i])\n",
    "        print('And an F1 score of', f1[i])"
   ]
  },
  {
   "cell_type": "code",
   "execution_count": 52,
   "id": "f6fe8630",
   "metadata": {},
   "outputs": [
    {
     "name": "stdout",
     "output_type": "stream",
     "text": [
      "For DT\n",
      "It has an accuracy score of 0.9950647748303516\n",
      "And an F1 score of 0.2\n",
      "For KNN\n",
      "It has an accuracy score of 0.9947563232572486\n",
      "And an F1 score of 0.2608695652173913\n",
      "For LR\n",
      "It has an accuracy score of 0.9938309685379395\n",
      "And an F1 score of 0.0\n",
      "For XGB\n",
      "It has an accuracy score of 0.9947563232572486\n",
      "And an F1 score of 0.31999999999999995\n",
      "For XBGRF\n",
      "It has an accuracy score of 0.9947563232572486\n",
      "And an F1 score of 0.31999999999999995\n"
     ]
    }
   ],
   "source": [
    "scores(accuracy, f1, names)"
   ]
  },
  {
   "cell_type": "code",
   "execution_count": 53,
   "id": "88633bcf",
   "metadata": {},
   "outputs": [
    {
     "data": {
      "text/plain": [
       "0.9950647748303516"
      ]
     },
     "execution_count": 53,
     "metadata": {},
     "output_type": "execute_result"
    }
   ],
   "source": [
    "max(accuracy)"
   ]
  },
  {
   "cell_type": "code",
   "execution_count": 54,
   "id": "558f5d47",
   "metadata": {},
   "outputs": [
    {
     "data": {
      "text/plain": [
       "0.31999999999999995"
      ]
     },
     "execution_count": 54,
     "metadata": {},
     "output_type": "execute_result"
    }
   ],
   "source": [
    "max(f1)"
   ]
  },
  {
   "cell_type": "markdown",
   "id": "14f7a8c0",
   "metadata": {},
   "source": [
    "Decision Tree Classifier has the highest accuracy score but XGBoost and XGBoost/Random Forest has the highest F1 score. So how do we choose between the two?"
   ]
  },
  {
   "cell_type": "markdown",
   "id": "46150a0e",
   "metadata": {},
   "source": [
    "### Conclusion"
   ]
  },
  {
   "cell_type": "markdown",
   "id": "ee83578e",
   "metadata": {},
   "source": [
    "Remember that the F1 score is balancing precision and recall on the positive class while accuracy looks at correctly classified observations both positive and negative. That makes a big difference especially for the imbalanced problems where by default our model will be good at predicting true negatives and hence accuracy will be high. However, if you care equally about true negatives and true positives then accuracy is the metric you should choose. \n",
    "\n",
    "Since our dataset is naturally imbalanced, it will make our accuracy score really high by default. That is why we will care more about the F1 score in this case.\n",
    "\n",
    "Therefore, the best model is the XGBoost and XGBRF which has the same accuracy and F1 score. We have an accuracy of 99.35% and a F1 score of 32.26%"
   ]
  },
  {
   "cell_type": "markdown",
   "id": "2bec5fc6",
   "metadata": {},
   "source": [
    "### Using Random Forest on Residuals (In the Works)"
   ]
  },
  {
   "cell_type": "code",
   "execution_count": 55,
   "id": "784489a8",
   "metadata": {},
   "outputs": [
    {
     "name": "stdout",
     "output_type": "stream",
     "text": [
      "(2431,)\n",
      "(811,)\n"
     ]
    }
   ],
   "source": [
    "X_test = df_rf['residual'][int(len(df_rf)*0.75):].values\n",
    "X_train = df_rf['residual'][:int(len(df_rf)*0.75)].values\n",
    "print(X_train.shape)\n",
    "print(X_test.shape)"
   ]
  },
  {
   "cell_type": "code",
   "execution_count": 56,
   "id": "f99626d0",
   "metadata": {},
   "outputs": [],
   "source": [
    "y_test = df_rf['is_fraud'][int(len(df_rf)*0.75):].values\n",
    "y_train = df_rf['is_fraud'][:int(len(df_rf)*0.75)].values"
   ]
  },
  {
   "cell_type": "code",
   "execution_count": 57,
   "id": "5760ad87",
   "metadata": {},
   "outputs": [
    {
     "ename": "ValueError",
     "evalue": "Expected 2D array, got 1D array instead:\narray=[-0.00544487 -0.00544487 -0.00544487 -0.00544487 -0.00544487 -0.00544487\n -0.00544487 -0.00544487 -0.00544487 -0.00544487 -0.00544487 -0.00544487\n -0.00544487 -0.00544487 -0.00544487 -0.00544487 -0.00544487 -0.00544487\n -0.00544487 -0.00544487 -0.00544487 -0.00544487 -0.00544487 -0.00544487\n -0.00544487 -0.00544487 -0.00544487 -0.00544487 -0.00544487 -0.00544487\n -0.00544487 -0.00544487 -0.00544487 -0.00544487 -0.00544487 -0.00544487\n -0.00544487 -0.00544487 -0.00544487 -0.00544487 -0.00544487 -0.00544487\n -0.00544487 -0.00544487 -0.00544487 -0.00544487 -0.00544487 -0.00544487\n -0.00544487 -0.00544487 -0.00544487 -0.00544487 -0.00544487 -0.00544487\n -0.00544487 -0.00544487 -0.00544487 -0.00544487 -0.00544487 -0.00544487\n -0.00544487 -0.00544487 -0.00544487 -0.00544487 -0.00544487 -0.00544487\n -0.00544487 -0.00544487 -0.00544487 -0.00544487 -0.00544487 -0.00544487\n -0.00544487 -0.00544487 -0.00544487 -0.00544487 -0.00544487 -0.00544487\n -0.00544487 -0.00544487 -0.00544487 -0.00544487 -0.00544487 -0.00544487\n -0.00544487 -0.00544487 -0.00544487 -0.00544487 -0.00544487 -0.00544487\n -0.00544487 -0.00544487 -0.00544487 -0.00544487 -0.00544487 -0.00544487\n -0.00544487 -0.00544487 -0.00544487 -0.00544487 -0.00544487 -0.00544487\n -0.00544487 -0.00544487 -0.00544487 -0.00544487 -0.00544487 -0.00544487\n -0.00544487 -0.00544487 -0.00544487 -0.00544487 -0.00544487 -0.00544487\n -0.00544487 -0.00544487 -0.00544487 -0.00544487 -0.00544487 -0.00544487\n -0.00544487 -0.00544487 -0.00544487 -0.00544487 -0.00544487 -0.00544487\n -0.00544487 -0.00544487 -0.00544487 -0.00544487 -0.00544487  0.9945551\n -0.00544487 -0.00544487 -0.00544487 -0.00544487 -0.00544487 -0.00544487\n -0.00544487 -0.00544487 -0.00544487 -0.00544487 -0.00544487 -0.00544487\n -0.00544487 -0.00544487 -0.00544487 -0.00544487 -0.00544487 -0.00544487\n -0.00544487 -0.00544487 -0.00544487 -0.00544487 -0.00544487 -0.00544487\n -0.00544487 -0.00544487 -0.00544487 -0.00544487 -0.00544487 -0.00544487\n -0.00544487 -0.00544487 -0.00544487 -0.00544487 -0.00544487 -0.00544487\n -0.00544487 -0.00544487 -0.00544487 -0.00544487 -0.00544487 -0.00544487\n -0.00544487 -0.00544487 -0.00544487 -0.00544487 -0.00544487 -0.00544487\n -0.00544487 -0.00544487 -0.00544487 -0.00544487 -0.00544487 -0.00544487\n -0.00544487 -0.00544487 -0.00544487 -0.00544487 -0.00544487 -0.00544487\n -0.00544487 -0.00544487 -0.00544487 -0.00544487 -0.00544487 -0.00544487\n -0.00544487 -0.00544487 -0.00544487 -0.00544487 -0.00544487 -0.00544487\n -0.00544487 -0.00544487 -0.00544487 -0.00544487 -0.00544487 -0.00544487\n -0.00544487 -0.00544487 -0.00544487 -0.00544487 -0.00544487 -0.00544487\n -0.00544487 -0.00544487 -0.00544487 -0.00544487 -0.00544487 -0.00544487\n -0.00544487 -0.00544487 -0.00544487 -0.00544487 -0.00544487 -0.00544487\n -0.00544487 -0.00544487 -0.00544487 -0.00544487 -0.00544487 -0.00544487\n -0.00544487 -0.00544487 -0.00544487 -0.00544487 -0.00544487 -0.00544487\n -0.00544487 -0.00544487 -0.00544487 -0.00544487 -0.00544487 -0.00544487\n -0.00544487 -0.00544487 -0.00544487 -0.00544487 -0.00544487 -0.00544487\n -0.00544487 -0.00544487 -0.00544487 -0.00544487 -0.00544487 -0.00544487\n -0.00544487 -0.00544487 -0.00544487 -0.00544487 -0.00544487 -0.00544487\n -0.00544487 -0.00544487 -0.00544487 -0.00544487 -0.00544487 -0.00544487\n -0.00544487 -0.00544487 -0.00544487 -0.00544487 -0.00544487 -0.00544487\n -0.00544487 -0.00544487 -0.00544487  0.9945551  -0.00544487 -0.00544487\n -0.00544487 -0.00544487 -0.00544487 -0.00544487 -0.00544487 -0.00544487\n -0.00544487 -0.00544487 -0.00544487  0.9945551  -0.00544487 -0.00544487\n -0.00544487 -0.00544487 -0.00544487 -0.00544487 -0.00544487 -0.00544487\n -0.00544487 -0.00544487 -0.00544487 -0.00544487 -0.00544487 -0.00544487\n -0.00544487 -0.00544487 -0.00544487 -0.00544487 -0.00544487 -0.00544487\n -0.00544487 -0.00544487 -0.00544487 -0.00544487 -0.00544487 -0.00544487\n -0.00544487 -0.00544487 -0.00544487 -0.00544487 -0.00544487 -0.00544487\n -0.00544487 -0.00544487 -0.00544487 -0.00544487 -0.00544487 -0.00544487\n -0.00544487 -0.00544487 -0.00544487 -0.00544487 -0.00544487 -0.00544487\n -0.00544487 -0.00544487 -0.00544487 -0.00544487 -0.00544487 -0.00544487\n -0.00544487 -0.00544487 -0.00544487 -0.00544487 -0.00544487 -0.00544487\n -0.00544487 -0.00544487 -0.00544487 -0.00544487 -0.00544487 -0.00544487\n -0.00544487 -0.00544487 -0.00544487 -0.00544487 -0.00544487 -0.00544487\n -0.00544487 -0.00544487 -0.00544487 -0.00544487 -0.00544487 -0.00544487\n -0.00544487 -0.00544487 -0.00544487 -0.00544487 -0.00544487 -0.00544487\n -0.00544487 -0.00544487 -0.00544487 -0.00544487 -0.00544487 -0.00544487\n -0.00544487 -0.00544487 -0.00544487 -0.00544487 -0.00544487 -0.00544487\n -0.00544487 -0.00544487 -0.00544487 -0.00544487 -0.00544487 -0.00544487\n -0.00544487 -0.00544487 -0.00544487 -0.00544487 -0.00544487 -0.00544487\n -0.00544487 -0.00544487 -0.00544487 -0.00544487 -0.00544487 -0.00544487\n -0.00544487 -0.00544487 -0.00544487 -0.00544487 -0.00544487 -0.00544487\n -0.00544487 -0.00544487 -0.00544487 -0.00544487 -0.00544487 -0.00544487\n -0.00544487 -0.00544487 -0.00544487 -0.00544487 -0.00544487 -0.00544487\n -0.00544487 -0.00544487 -0.00544487 -0.00544487 -0.00544487 -0.00544487\n -0.00544487 -0.00544487 -0.00544487 -0.00544487 -0.00544487 -0.00544487\n -0.00544487 -0.00544487 -0.00544487 -0.00544487 -0.00544487 -0.00544487\n -0.00544487 -0.00544487 -0.00544487 -0.00544487 -0.00544487 -0.00544487\n -0.00544487 -0.00544487 -0.00544487 -0.00544487 -0.00544487 -0.00544487\n -0.00544487 -0.00544487 -0.00544487 -0.00544487 -0.00544487 -0.00544487\n -0.00544487 -0.00544487 -0.00544487 -0.00544487 -0.00544487 -0.00544487\n  0.9945551  -0.00544487 -0.00544487 -0.00544487 -0.00544487 -0.00544487\n -0.00544487 -0.00544487 -0.00544487 -0.00544487 -0.00544487 -0.00544487\n -0.00544487 -0.00544487 -0.00544487 -0.00544487 -0.00544487 -0.00544487\n -0.00544487 -0.00544487 -0.00544487 -0.00544487 -0.00544487 -0.00544487\n -0.00544487 -0.00544487 -0.00544487 -0.00544487 -0.00544487 -0.00544487\n -0.00544487 -0.00544487 -0.00544487 -0.00544487 -0.00544487 -0.00544487\n -0.00544487 -0.00544487 -0.00544487 -0.00544487 -0.00544487 -0.00544487\n -0.00544487 -0.00544487 -0.00544487 -0.00544487 -0.00544487 -0.00544487\n -0.00544487 -0.00544487 -0.00544487 -0.00544487 -0.00544487 -0.00544487\n -0.00544487 -0.00544487 -0.00544487 -0.00544487 -0.00544487 -0.00544487\n -0.00544487 -0.00544487 -0.00544487 -0.00544487 -0.00544487 -0.00544487\n -0.00544487 -0.00544487 -0.00544487 -0.00544487 -0.00544487 -0.00544487\n -0.00544487 -0.00544487 -0.00544487 -0.00544487 -0.00544487 -0.00544487\n -0.00544487 -0.00544487 -0.00544487 -0.00544487 -0.00544487 -0.00544487\n -0.00544487 -0.00544487 -0.00544487 -0.00544487 -0.00544487 -0.00544487\n -0.00544487 -0.00544487 -0.00544487 -0.00544487 -0.00544487 -0.00544487\n -0.00544487 -0.00544487 -0.00544487 -0.00544487 -0.00544487 -0.00544487\n -0.00544487 -0.00544487 -0.00544487 -0.00544487 -0.00544487 -0.00544487\n -0.00544487 -0.00544487 -0.00544487 -0.00544487 -0.00544487 -0.00544487\n -0.00544487 -0.00544487 -0.00544487 -0.00544487 -0.00544487 -0.00544487\n -0.00544487 -0.00544487 -0.00544487 -0.00544487 -0.00544487 -0.00544487\n -0.00544487 -0.00544487 -0.00544487 -0.00544487 -0.00544487 -0.00544487\n -0.00544487 -0.00544487 -0.00544487 -0.00544487 -0.00544487 -0.00544487\n -0.00544487 -0.00544487 -0.00544487 -0.00544487 -0.00544487 -0.00544487\n -0.00544487 -0.00544487 -0.00544487 -0.00544487 -0.00544487 -0.00544487\n -0.00544487 -0.00544487 -0.00544487 -0.00544487 -0.00544487 -0.00544487\n -0.00544487 -0.00544487 -0.00544487 -0.00544487 -0.00544487 -0.00544487\n -0.00544487 -0.00544487 -0.00544487 -0.00544487 -0.00544487 -0.00544487\n -0.00544487 -0.00544487 -0.00544487 -0.00544487 -0.00544487 -0.00544487\n -0.00544487 -0.00544487 -0.00544487 -0.00544487 -0.00544487 -0.00544487\n -0.00544487 -0.00544487 -0.00544487 -0.00544487 -0.00544487 -0.00544487\n -0.00544487 -0.00544487 -0.00544487 -0.00544487 -0.00544487 -0.00544487\n -0.00544487 -0.00544487 -0.00544487 -0.00544487 -0.00544487 -0.00544487\n -0.00544487 -0.00544487 -0.00544487 -0.00544487 -0.00544487 -0.00544487\n  0.9945551  -0.00544487 -0.00544487 -0.00544487 -0.00544487 -0.00544487\n -0.00544487 -0.00544487 -0.00544487 -0.00544487 -0.00544487 -0.00544487\n -0.00544487 -0.00544487 -0.00544487 -0.00544487 -0.00544487 -0.00544487\n -0.00544487 -0.00544487 -0.00544487 -0.00544487 -0.00544487 -0.00544487\n -0.00544487 -0.00544487 -0.00544487 -0.00544487 -0.00544487 -0.00544487\n -0.00544487 -0.00544487 -0.00544487 -0.00544487 -0.00544487 -0.00544487\n -0.00544487 -0.00544487 -0.00544487 -0.00544487 -0.00544487 -0.00544487\n -0.00544487 -0.00544487 -0.00544487 -0.00544487 -0.00544487 -0.00544487\n -0.00544487 -0.00544487 -0.00544487 -0.00544487 -0.00544487 -0.00544487\n -0.00544487 -0.00544487 -0.00544487 -0.00544487 -0.00544487 -0.00544487\n -0.00544487 -0.00544487 -0.00544487 -0.00544487 -0.00544487 -0.00544487\n -0.00544487 -0.00544487 -0.00544487 -0.00544487 -0.00544487 -0.00544487\n -0.00544487 -0.00544487 -0.00544487 -0.00544487 -0.00544487 -0.00544487\n -0.00544487 -0.00544487 -0.00544487 -0.00544487 -0.00544487 -0.00544487\n -0.00544487 -0.00544487 -0.00544487 -0.00544487 -0.00544487 -0.00544487\n  0.9945551  -0.00544487 -0.00544487 -0.00544487 -0.00544487 -0.00544487\n -0.00544487 -0.00544487 -0.00544487 -0.00544487 -0.00544487 -0.00544487\n -0.00544487 -0.00544487 -0.00544487 -0.00544487 -0.00544487 -0.00544487\n -0.00544487 -0.00544487 -0.00544487 -0.00544487 -0.00544487 -0.00544487\n -0.00544487 -0.00544487 -0.00544487 -0.00544487 -0.00544487 -0.00544487\n -0.00544487 -0.00544487 -0.00544487 -0.00544487 -0.00544487 -0.00544487\n -0.00544487 -0.00544487 -0.00544487 -0.00544487 -0.00544487 -0.00544487\n -0.00544487 -0.00544487 -0.00544487 -0.00544487 -0.00544487 -0.00544487\n -0.00544487 -0.00544487 -0.00544487 -0.00544487 -0.00544487 -0.00544487\n -0.00544487].\nReshape your data either using array.reshape(-1, 1) if your data has a single feature or array.reshape(1, -1) if it contains a single sample.",
     "output_type": "error",
     "traceback": [
      "\u001b[1;31m---------------------------------------------------------------------------\u001b[0m",
      "\u001b[1;31mValueError\u001b[0m                                Traceback (most recent call last)",
      "Input \u001b[1;32mIn [57]\u001b[0m, in \u001b[0;36m<cell line: 3>\u001b[1;34m()\u001b[0m\n\u001b[0;32m      1\u001b[0m rf \u001b[38;5;241m=\u001b[39m RandomForestClassifier(max_depth \u001b[38;5;241m=\u001b[39m \u001b[38;5;241m4\u001b[39m)\n\u001b[0;32m      2\u001b[0m rf\u001b[38;5;241m.\u001b[39mfit(X_train\u001b[38;5;241m.\u001b[39mreshape(\u001b[38;5;241m-\u001b[39m\u001b[38;5;241m1\u001b[39m,\u001b[38;5;241m1\u001b[39m), y_train)\n\u001b[1;32m----> 3\u001b[0m rf_yhat \u001b[38;5;241m=\u001b[39m \u001b[43mrf\u001b[49m\u001b[38;5;241;43m.\u001b[39;49m\u001b[43mpredict\u001b[49m\u001b[43m(\u001b[49m\u001b[43mX_test\u001b[49m\u001b[43m)\u001b[49m\n",
      "File \u001b[1;32m~\\anaconda3\\lib\\site-packages\\sklearn\\ensemble\\_forest.py:808\u001b[0m, in \u001b[0;36mForestClassifier.predict\u001b[1;34m(self, X)\u001b[0m\n\u001b[0;32m    787\u001b[0m \u001b[38;5;28;01mdef\u001b[39;00m \u001b[38;5;21mpredict\u001b[39m(\u001b[38;5;28mself\u001b[39m, X):\n\u001b[0;32m    788\u001b[0m     \u001b[38;5;124;03m\"\"\"\u001b[39;00m\n\u001b[0;32m    789\u001b[0m \u001b[38;5;124;03m    Predict class for X.\u001b[39;00m\n\u001b[0;32m    790\u001b[0m \n\u001b[1;32m   (...)\u001b[0m\n\u001b[0;32m    806\u001b[0m \u001b[38;5;124;03m        The predicted classes.\u001b[39;00m\n\u001b[0;32m    807\u001b[0m \u001b[38;5;124;03m    \"\"\"\u001b[39;00m\n\u001b[1;32m--> 808\u001b[0m     proba \u001b[38;5;241m=\u001b[39m \u001b[38;5;28;43mself\u001b[39;49m\u001b[38;5;241;43m.\u001b[39;49m\u001b[43mpredict_proba\u001b[49m\u001b[43m(\u001b[49m\u001b[43mX\u001b[49m\u001b[43m)\u001b[49m\n\u001b[0;32m    810\u001b[0m     \u001b[38;5;28;01mif\u001b[39;00m \u001b[38;5;28mself\u001b[39m\u001b[38;5;241m.\u001b[39mn_outputs_ \u001b[38;5;241m==\u001b[39m \u001b[38;5;241m1\u001b[39m:\n\u001b[0;32m    811\u001b[0m         \u001b[38;5;28;01mreturn\u001b[39;00m \u001b[38;5;28mself\u001b[39m\u001b[38;5;241m.\u001b[39mclasses_\u001b[38;5;241m.\u001b[39mtake(np\u001b[38;5;241m.\u001b[39margmax(proba, axis\u001b[38;5;241m=\u001b[39m\u001b[38;5;241m1\u001b[39m), axis\u001b[38;5;241m=\u001b[39m\u001b[38;5;241m0\u001b[39m)\n",
      "File \u001b[1;32m~\\anaconda3\\lib\\site-packages\\sklearn\\ensemble\\_forest.py:850\u001b[0m, in \u001b[0;36mForestClassifier.predict_proba\u001b[1;34m(self, X)\u001b[0m\n\u001b[0;32m    848\u001b[0m check_is_fitted(\u001b[38;5;28mself\u001b[39m)\n\u001b[0;32m    849\u001b[0m \u001b[38;5;66;03m# Check data\u001b[39;00m\n\u001b[1;32m--> 850\u001b[0m X \u001b[38;5;241m=\u001b[39m \u001b[38;5;28;43mself\u001b[39;49m\u001b[38;5;241;43m.\u001b[39;49m\u001b[43m_validate_X_predict\u001b[49m\u001b[43m(\u001b[49m\u001b[43mX\u001b[49m\u001b[43m)\u001b[49m\n\u001b[0;32m    852\u001b[0m \u001b[38;5;66;03m# Assign chunk of trees to jobs\u001b[39;00m\n\u001b[0;32m    853\u001b[0m n_jobs, _, _ \u001b[38;5;241m=\u001b[39m _partition_estimators(\u001b[38;5;28mself\u001b[39m\u001b[38;5;241m.\u001b[39mn_estimators, \u001b[38;5;28mself\u001b[39m\u001b[38;5;241m.\u001b[39mn_jobs)\n",
      "File \u001b[1;32m~\\anaconda3\\lib\\site-packages\\sklearn\\ensemble\\_forest.py:579\u001b[0m, in \u001b[0;36mBaseForest._validate_X_predict\u001b[1;34m(self, X)\u001b[0m\n\u001b[0;32m    576\u001b[0m \u001b[38;5;124;03m\"\"\"\u001b[39;00m\n\u001b[0;32m    577\u001b[0m \u001b[38;5;124;03mValidate X whenever one tries to predict, apply, predict_proba.\"\"\"\u001b[39;00m\n\u001b[0;32m    578\u001b[0m check_is_fitted(\u001b[38;5;28mself\u001b[39m)\n\u001b[1;32m--> 579\u001b[0m X \u001b[38;5;241m=\u001b[39m \u001b[38;5;28;43mself\u001b[39;49m\u001b[38;5;241;43m.\u001b[39;49m\u001b[43m_validate_data\u001b[49m\u001b[43m(\u001b[49m\u001b[43mX\u001b[49m\u001b[43m,\u001b[49m\u001b[43m \u001b[49m\u001b[43mdtype\u001b[49m\u001b[38;5;241;43m=\u001b[39;49m\u001b[43mDTYPE\u001b[49m\u001b[43m,\u001b[49m\u001b[43m \u001b[49m\u001b[43maccept_sparse\u001b[49m\u001b[38;5;241;43m=\u001b[39;49m\u001b[38;5;124;43m\"\u001b[39;49m\u001b[38;5;124;43mcsr\u001b[39;49m\u001b[38;5;124;43m\"\u001b[39;49m\u001b[43m,\u001b[49m\u001b[43m \u001b[49m\u001b[43mreset\u001b[49m\u001b[38;5;241;43m=\u001b[39;49m\u001b[38;5;28;43;01mFalse\u001b[39;49;00m\u001b[43m)\u001b[49m\n\u001b[0;32m    580\u001b[0m \u001b[38;5;28;01mif\u001b[39;00m issparse(X) \u001b[38;5;129;01mand\u001b[39;00m (X\u001b[38;5;241m.\u001b[39mindices\u001b[38;5;241m.\u001b[39mdtype \u001b[38;5;241m!=\u001b[39m np\u001b[38;5;241m.\u001b[39mintc \u001b[38;5;129;01mor\u001b[39;00m X\u001b[38;5;241m.\u001b[39mindptr\u001b[38;5;241m.\u001b[39mdtype \u001b[38;5;241m!=\u001b[39m np\u001b[38;5;241m.\u001b[39mintc):\n\u001b[0;32m    581\u001b[0m     \u001b[38;5;28;01mraise\u001b[39;00m \u001b[38;5;167;01mValueError\u001b[39;00m(\u001b[38;5;124m\"\u001b[39m\u001b[38;5;124mNo support for np.int64 index based sparse matrices\u001b[39m\u001b[38;5;124m\"\u001b[39m)\n",
      "File \u001b[1;32m~\\anaconda3\\lib\\site-packages\\sklearn\\base.py:566\u001b[0m, in \u001b[0;36mBaseEstimator._validate_data\u001b[1;34m(self, X, y, reset, validate_separately, **check_params)\u001b[0m\n\u001b[0;32m    564\u001b[0m     \u001b[38;5;28;01mraise\u001b[39;00m \u001b[38;5;167;01mValueError\u001b[39;00m(\u001b[38;5;124m\"\u001b[39m\u001b[38;5;124mValidation should be done on X, y or both.\u001b[39m\u001b[38;5;124m\"\u001b[39m)\n\u001b[0;32m    565\u001b[0m \u001b[38;5;28;01melif\u001b[39;00m \u001b[38;5;129;01mnot\u001b[39;00m no_val_X \u001b[38;5;129;01mand\u001b[39;00m no_val_y:\n\u001b[1;32m--> 566\u001b[0m     X \u001b[38;5;241m=\u001b[39m check_array(X, \u001b[38;5;241m*\u001b[39m\u001b[38;5;241m*\u001b[39mcheck_params)\n\u001b[0;32m    567\u001b[0m     out \u001b[38;5;241m=\u001b[39m X\n\u001b[0;32m    568\u001b[0m \u001b[38;5;28;01melif\u001b[39;00m no_val_X \u001b[38;5;129;01mand\u001b[39;00m \u001b[38;5;129;01mnot\u001b[39;00m no_val_y:\n",
      "File \u001b[1;32m~\\anaconda3\\lib\\site-packages\\sklearn\\utils\\validation.py:769\u001b[0m, in \u001b[0;36mcheck_array\u001b[1;34m(array, accept_sparse, accept_large_sparse, dtype, order, copy, force_all_finite, ensure_2d, allow_nd, ensure_min_samples, ensure_min_features, estimator)\u001b[0m\n\u001b[0;32m    767\u001b[0m     \u001b[38;5;66;03m# If input is 1D raise error\u001b[39;00m\n\u001b[0;32m    768\u001b[0m     \u001b[38;5;28;01mif\u001b[39;00m array\u001b[38;5;241m.\u001b[39mndim \u001b[38;5;241m==\u001b[39m \u001b[38;5;241m1\u001b[39m:\n\u001b[1;32m--> 769\u001b[0m         \u001b[38;5;28;01mraise\u001b[39;00m \u001b[38;5;167;01mValueError\u001b[39;00m(\n\u001b[0;32m    770\u001b[0m             \u001b[38;5;124m\"\u001b[39m\u001b[38;5;124mExpected 2D array, got 1D array instead:\u001b[39m\u001b[38;5;130;01m\\n\u001b[39;00m\u001b[38;5;124marray=\u001b[39m\u001b[38;5;132;01m{}\u001b[39;00m\u001b[38;5;124m.\u001b[39m\u001b[38;5;130;01m\\n\u001b[39;00m\u001b[38;5;124m\"\u001b[39m\n\u001b[0;32m    771\u001b[0m             \u001b[38;5;124m\"\u001b[39m\u001b[38;5;124mReshape your data either using array.reshape(-1, 1) if \u001b[39m\u001b[38;5;124m\"\u001b[39m\n\u001b[0;32m    772\u001b[0m             \u001b[38;5;124m\"\u001b[39m\u001b[38;5;124myour data has a single feature or array.reshape(1, -1) \u001b[39m\u001b[38;5;124m\"\u001b[39m\n\u001b[0;32m    773\u001b[0m             \u001b[38;5;124m\"\u001b[39m\u001b[38;5;124mif it contains a single sample.\u001b[39m\u001b[38;5;124m\"\u001b[39m\u001b[38;5;241m.\u001b[39mformat(array)\n\u001b[0;32m    774\u001b[0m         )\n\u001b[0;32m    776\u001b[0m \u001b[38;5;66;03m# make sure we actually converted to numeric:\u001b[39;00m\n\u001b[0;32m    777\u001b[0m \u001b[38;5;28;01mif\u001b[39;00m dtype_numeric \u001b[38;5;129;01mand\u001b[39;00m array\u001b[38;5;241m.\u001b[39mdtype\u001b[38;5;241m.\u001b[39mkind \u001b[38;5;129;01min\u001b[39;00m \u001b[38;5;124m\"\u001b[39m\u001b[38;5;124mOUSV\u001b[39m\u001b[38;5;124m\"\u001b[39m:\n",
      "\u001b[1;31mValueError\u001b[0m: Expected 2D array, got 1D array instead:\narray=[-0.00544487 -0.00544487 -0.00544487 -0.00544487 -0.00544487 -0.00544487\n -0.00544487 -0.00544487 -0.00544487 -0.00544487 -0.00544487 -0.00544487\n -0.00544487 -0.00544487 -0.00544487 -0.00544487 -0.00544487 -0.00544487\n -0.00544487 -0.00544487 -0.00544487 -0.00544487 -0.00544487 -0.00544487\n -0.00544487 -0.00544487 -0.00544487 -0.00544487 -0.00544487 -0.00544487\n -0.00544487 -0.00544487 -0.00544487 -0.00544487 -0.00544487 -0.00544487\n -0.00544487 -0.00544487 -0.00544487 -0.00544487 -0.00544487 -0.00544487\n -0.00544487 -0.00544487 -0.00544487 -0.00544487 -0.00544487 -0.00544487\n -0.00544487 -0.00544487 -0.00544487 -0.00544487 -0.00544487 -0.00544487\n -0.00544487 -0.00544487 -0.00544487 -0.00544487 -0.00544487 -0.00544487\n -0.00544487 -0.00544487 -0.00544487 -0.00544487 -0.00544487 -0.00544487\n -0.00544487 -0.00544487 -0.00544487 -0.00544487 -0.00544487 -0.00544487\n -0.00544487 -0.00544487 -0.00544487 -0.00544487 -0.00544487 -0.00544487\n -0.00544487 -0.00544487 -0.00544487 -0.00544487 -0.00544487 -0.00544487\n -0.00544487 -0.00544487 -0.00544487 -0.00544487 -0.00544487 -0.00544487\n -0.00544487 -0.00544487 -0.00544487 -0.00544487 -0.00544487 -0.00544487\n -0.00544487 -0.00544487 -0.00544487 -0.00544487 -0.00544487 -0.00544487\n -0.00544487 -0.00544487 -0.00544487 -0.00544487 -0.00544487 -0.00544487\n -0.00544487 -0.00544487 -0.00544487 -0.00544487 -0.00544487 -0.00544487\n -0.00544487 -0.00544487 -0.00544487 -0.00544487 -0.00544487 -0.00544487\n -0.00544487 -0.00544487 -0.00544487 -0.00544487 -0.00544487 -0.00544487\n -0.00544487 -0.00544487 -0.00544487 -0.00544487 -0.00544487  0.9945551\n -0.00544487 -0.00544487 -0.00544487 -0.00544487 -0.00544487 -0.00544487\n -0.00544487 -0.00544487 -0.00544487 -0.00544487 -0.00544487 -0.00544487\n -0.00544487 -0.00544487 -0.00544487 -0.00544487 -0.00544487 -0.00544487\n -0.00544487 -0.00544487 -0.00544487 -0.00544487 -0.00544487 -0.00544487\n -0.00544487 -0.00544487 -0.00544487 -0.00544487 -0.00544487 -0.00544487\n -0.00544487 -0.00544487 -0.00544487 -0.00544487 -0.00544487 -0.00544487\n -0.00544487 -0.00544487 -0.00544487 -0.00544487 -0.00544487 -0.00544487\n -0.00544487 -0.00544487 -0.00544487 -0.00544487 -0.00544487 -0.00544487\n -0.00544487 -0.00544487 -0.00544487 -0.00544487 -0.00544487 -0.00544487\n -0.00544487 -0.00544487 -0.00544487 -0.00544487 -0.00544487 -0.00544487\n -0.00544487 -0.00544487 -0.00544487 -0.00544487 -0.00544487 -0.00544487\n -0.00544487 -0.00544487 -0.00544487 -0.00544487 -0.00544487 -0.00544487\n -0.00544487 -0.00544487 -0.00544487 -0.00544487 -0.00544487 -0.00544487\n -0.00544487 -0.00544487 -0.00544487 -0.00544487 -0.00544487 -0.00544487\n -0.00544487 -0.00544487 -0.00544487 -0.00544487 -0.00544487 -0.00544487\n -0.00544487 -0.00544487 -0.00544487 -0.00544487 -0.00544487 -0.00544487\n -0.00544487 -0.00544487 -0.00544487 -0.00544487 -0.00544487 -0.00544487\n -0.00544487 -0.00544487 -0.00544487 -0.00544487 -0.00544487 -0.00544487\n -0.00544487 -0.00544487 -0.00544487 -0.00544487 -0.00544487 -0.00544487\n -0.00544487 -0.00544487 -0.00544487 -0.00544487 -0.00544487 -0.00544487\n -0.00544487 -0.00544487 -0.00544487 -0.00544487 -0.00544487 -0.00544487\n -0.00544487 -0.00544487 -0.00544487 -0.00544487 -0.00544487 -0.00544487\n -0.00544487 -0.00544487 -0.00544487 -0.00544487 -0.00544487 -0.00544487\n -0.00544487 -0.00544487 -0.00544487 -0.00544487 -0.00544487 -0.00544487\n -0.00544487 -0.00544487 -0.00544487  0.9945551  -0.00544487 -0.00544487\n -0.00544487 -0.00544487 -0.00544487 -0.00544487 -0.00544487 -0.00544487\n -0.00544487 -0.00544487 -0.00544487  0.9945551  -0.00544487 -0.00544487\n -0.00544487 -0.00544487 -0.00544487 -0.00544487 -0.00544487 -0.00544487\n -0.00544487 -0.00544487 -0.00544487 -0.00544487 -0.00544487 -0.00544487\n -0.00544487 -0.00544487 -0.00544487 -0.00544487 -0.00544487 -0.00544487\n -0.00544487 -0.00544487 -0.00544487 -0.00544487 -0.00544487 -0.00544487\n -0.00544487 -0.00544487 -0.00544487 -0.00544487 -0.00544487 -0.00544487\n -0.00544487 -0.00544487 -0.00544487 -0.00544487 -0.00544487 -0.00544487\n -0.00544487 -0.00544487 -0.00544487 -0.00544487 -0.00544487 -0.00544487\n -0.00544487 -0.00544487 -0.00544487 -0.00544487 -0.00544487 -0.00544487\n -0.00544487 -0.00544487 -0.00544487 -0.00544487 -0.00544487 -0.00544487\n -0.00544487 -0.00544487 -0.00544487 -0.00544487 -0.00544487 -0.00544487\n -0.00544487 -0.00544487 -0.00544487 -0.00544487 -0.00544487 -0.00544487\n -0.00544487 -0.00544487 -0.00544487 -0.00544487 -0.00544487 -0.00544487\n -0.00544487 -0.00544487 -0.00544487 -0.00544487 -0.00544487 -0.00544487\n -0.00544487 -0.00544487 -0.00544487 -0.00544487 -0.00544487 -0.00544487\n -0.00544487 -0.00544487 -0.00544487 -0.00544487 -0.00544487 -0.00544487\n -0.00544487 -0.00544487 -0.00544487 -0.00544487 -0.00544487 -0.00544487\n -0.00544487 -0.00544487 -0.00544487 -0.00544487 -0.00544487 -0.00544487\n -0.00544487 -0.00544487 -0.00544487 -0.00544487 -0.00544487 -0.00544487\n -0.00544487 -0.00544487 -0.00544487 -0.00544487 -0.00544487 -0.00544487\n -0.00544487 -0.00544487 -0.00544487 -0.00544487 -0.00544487 -0.00544487\n -0.00544487 -0.00544487 -0.00544487 -0.00544487 -0.00544487 -0.00544487\n -0.00544487 -0.00544487 -0.00544487 -0.00544487 -0.00544487 -0.00544487\n -0.00544487 -0.00544487 -0.00544487 -0.00544487 -0.00544487 -0.00544487\n -0.00544487 -0.00544487 -0.00544487 -0.00544487 -0.00544487 -0.00544487\n -0.00544487 -0.00544487 -0.00544487 -0.00544487 -0.00544487 -0.00544487\n -0.00544487 -0.00544487 -0.00544487 -0.00544487 -0.00544487 -0.00544487\n -0.00544487 -0.00544487 -0.00544487 -0.00544487 -0.00544487 -0.00544487\n -0.00544487 -0.00544487 -0.00544487 -0.00544487 -0.00544487 -0.00544487\n  0.9945551  -0.00544487 -0.00544487 -0.00544487 -0.00544487 -0.00544487\n -0.00544487 -0.00544487 -0.00544487 -0.00544487 -0.00544487 -0.00544487\n -0.00544487 -0.00544487 -0.00544487 -0.00544487 -0.00544487 -0.00544487\n -0.00544487 -0.00544487 -0.00544487 -0.00544487 -0.00544487 -0.00544487\n -0.00544487 -0.00544487 -0.00544487 -0.00544487 -0.00544487 -0.00544487\n -0.00544487 -0.00544487 -0.00544487 -0.00544487 -0.00544487 -0.00544487\n -0.00544487 -0.00544487 -0.00544487 -0.00544487 -0.00544487 -0.00544487\n -0.00544487 -0.00544487 -0.00544487 -0.00544487 -0.00544487 -0.00544487\n -0.00544487 -0.00544487 -0.00544487 -0.00544487 -0.00544487 -0.00544487\n -0.00544487 -0.00544487 -0.00544487 -0.00544487 -0.00544487 -0.00544487\n -0.00544487 -0.00544487 -0.00544487 -0.00544487 -0.00544487 -0.00544487\n -0.00544487 -0.00544487 -0.00544487 -0.00544487 -0.00544487 -0.00544487\n -0.00544487 -0.00544487 -0.00544487 -0.00544487 -0.00544487 -0.00544487\n -0.00544487 -0.00544487 -0.00544487 -0.00544487 -0.00544487 -0.00544487\n -0.00544487 -0.00544487 -0.00544487 -0.00544487 -0.00544487 -0.00544487\n -0.00544487 -0.00544487 -0.00544487 -0.00544487 -0.00544487 -0.00544487\n -0.00544487 -0.00544487 -0.00544487 -0.00544487 -0.00544487 -0.00544487\n -0.00544487 -0.00544487 -0.00544487 -0.00544487 -0.00544487 -0.00544487\n -0.00544487 -0.00544487 -0.00544487 -0.00544487 -0.00544487 -0.00544487\n -0.00544487 -0.00544487 -0.00544487 -0.00544487 -0.00544487 -0.00544487\n -0.00544487 -0.00544487 -0.00544487 -0.00544487 -0.00544487 -0.00544487\n -0.00544487 -0.00544487 -0.00544487 -0.00544487 -0.00544487 -0.00544487\n -0.00544487 -0.00544487 -0.00544487 -0.00544487 -0.00544487 -0.00544487\n -0.00544487 -0.00544487 -0.00544487 -0.00544487 -0.00544487 -0.00544487\n -0.00544487 -0.00544487 -0.00544487 -0.00544487 -0.00544487 -0.00544487\n -0.00544487 -0.00544487 -0.00544487 -0.00544487 -0.00544487 -0.00544487\n -0.00544487 -0.00544487 -0.00544487 -0.00544487 -0.00544487 -0.00544487\n -0.00544487 -0.00544487 -0.00544487 -0.00544487 -0.00544487 -0.00544487\n -0.00544487 -0.00544487 -0.00544487 -0.00544487 -0.00544487 -0.00544487\n -0.00544487 -0.00544487 -0.00544487 -0.00544487 -0.00544487 -0.00544487\n -0.00544487 -0.00544487 -0.00544487 -0.00544487 -0.00544487 -0.00544487\n -0.00544487 -0.00544487 -0.00544487 -0.00544487 -0.00544487 -0.00544487\n -0.00544487 -0.00544487 -0.00544487 -0.00544487 -0.00544487 -0.00544487\n -0.00544487 -0.00544487 -0.00544487 -0.00544487 -0.00544487 -0.00544487\n  0.9945551  -0.00544487 -0.00544487 -0.00544487 -0.00544487 -0.00544487\n -0.00544487 -0.00544487 -0.00544487 -0.00544487 -0.00544487 -0.00544487\n -0.00544487 -0.00544487 -0.00544487 -0.00544487 -0.00544487 -0.00544487\n -0.00544487 -0.00544487 -0.00544487 -0.00544487 -0.00544487 -0.00544487\n -0.00544487 -0.00544487 -0.00544487 -0.00544487 -0.00544487 -0.00544487\n -0.00544487 -0.00544487 -0.00544487 -0.00544487 -0.00544487 -0.00544487\n -0.00544487 -0.00544487 -0.00544487 -0.00544487 -0.00544487 -0.00544487\n -0.00544487 -0.00544487 -0.00544487 -0.00544487 -0.00544487 -0.00544487\n -0.00544487 -0.00544487 -0.00544487 -0.00544487 -0.00544487 -0.00544487\n -0.00544487 -0.00544487 -0.00544487 -0.00544487 -0.00544487 -0.00544487\n -0.00544487 -0.00544487 -0.00544487 -0.00544487 -0.00544487 -0.00544487\n -0.00544487 -0.00544487 -0.00544487 -0.00544487 -0.00544487 -0.00544487\n -0.00544487 -0.00544487 -0.00544487 -0.00544487 -0.00544487 -0.00544487\n -0.00544487 -0.00544487 -0.00544487 -0.00544487 -0.00544487 -0.00544487\n -0.00544487 -0.00544487 -0.00544487 -0.00544487 -0.00544487 -0.00544487\n  0.9945551  -0.00544487 -0.00544487 -0.00544487 -0.00544487 -0.00544487\n -0.00544487 -0.00544487 -0.00544487 -0.00544487 -0.00544487 -0.00544487\n -0.00544487 -0.00544487 -0.00544487 -0.00544487 -0.00544487 -0.00544487\n -0.00544487 -0.00544487 -0.00544487 -0.00544487 -0.00544487 -0.00544487\n -0.00544487 -0.00544487 -0.00544487 -0.00544487 -0.00544487 -0.00544487\n -0.00544487 -0.00544487 -0.00544487 -0.00544487 -0.00544487 -0.00544487\n -0.00544487 -0.00544487 -0.00544487 -0.00544487 -0.00544487 -0.00544487\n -0.00544487 -0.00544487 -0.00544487 -0.00544487 -0.00544487 -0.00544487\n -0.00544487 -0.00544487 -0.00544487 -0.00544487 -0.00544487 -0.00544487\n -0.00544487].\nReshape your data either using array.reshape(-1, 1) if your data has a single feature or array.reshape(1, -1) if it contains a single sample."
     ]
    }
   ],
   "source": [
    "rf = RandomForestClassifier(max_depth = 4)\n",
    "rf.fit(X_train.reshape(-1,1), y_train)\n",
    "rf_yhat = rf.predict(X_test)"
   ]
  },
  {
   "cell_type": "markdown",
   "id": "0e2a9fba",
   "metadata": {},
   "source": [
    "I tried to use a random forest on the residual but it did not work. I wonder if it had something to do with the Arima model since it did poorly in predicting if the work is fraudlent or not. So when I tried to do a random forest with other features, it did not go as planned."
   ]
  },
  {
   "cell_type": "code",
   "execution_count": null,
   "id": "bfe7bbe0",
   "metadata": {},
   "outputs": [],
   "source": []
  }
 ],
 "metadata": {
  "kernelspec": {
   "display_name": "Python 3 (ipykernel)",
   "language": "python",
   "name": "python3"
  },
  "language_info": {
   "codemirror_mode": {
    "name": "ipython",
    "version": 3
   },
   "file_extension": ".py",
   "mimetype": "text/x-python",
   "name": "python",
   "nbconvert_exporter": "python",
   "pygments_lexer": "ipython3",
   "version": "3.9.12"
  }
 },
 "nbformat": 4,
 "nbformat_minor": 5
}
