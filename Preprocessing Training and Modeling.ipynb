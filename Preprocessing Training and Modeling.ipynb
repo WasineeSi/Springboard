{
 "cells": [
  {
   "cell_type": "markdown",
   "id": "07086a5f",
   "metadata": {},
   "source": [
    "# Preprocessing Training and Modeling"
   ]
  },
  {
   "cell_type": "code",
   "execution_count": 1,
   "id": "60e8acca",
   "metadata": {},
   "outputs": [],
   "source": [
    "import numpy as np\n",
    "import pandas as pd\n",
    "import math\n",
    "import seaborn as sns\n",
    "import matplotlib.pyplot as plt\n",
    "import datetime"
   ]
  },
  {
   "cell_type": "markdown",
   "id": "f800e98c",
   "metadata": {},
   "source": [
    "## Preprocessing and Understanding"
   ]
  },
  {
   "cell_type": "code",
   "execution_count": 80,
   "id": "4bbbf0d1",
   "metadata": {},
   "outputs": [],
   "source": [
    "df = pd.read_csv('fraudTrain.csv')"
   ]
  },
  {
   "cell_type": "code",
   "execution_count": 81,
   "id": "1b14a6ad",
   "metadata": {},
   "outputs": [],
   "source": [
    "# Deleted first column since it was the same as the index\n",
    "df = df.iloc[: , 1:]\n",
    "# We are going to rename some columns for ease\n",
    "df = df.rename(columns={'trans_date_trans_time':'date_time'})\n",
    "# Drop any duplicates\n",
    "df.drop_duplicates(inplace=True)"
   ]
  },
  {
   "cell_type": "code",
   "execution_count": 82,
   "id": "6b9bd3e6",
   "metadata": {},
   "outputs": [
    {
     "data": {
      "text/plain": [
       "(1296675, 22)"
      ]
     },
     "execution_count": 82,
     "metadata": {},
     "output_type": "execute_result"
    }
   ],
   "source": [
    "df.shape"
   ]
  },
  {
   "cell_type": "code",
   "execution_count": 83,
   "id": "eb36daf3",
   "metadata": {},
   "outputs": [
    {
     "data": {
      "text/plain": [
       "(12967, 22)"
      ]
     },
     "execution_count": 83,
     "metadata": {},
     "output_type": "execute_result"
    }
   ],
   "source": [
    "# Let's downsize the data for ease of speed\n",
    "df = df.sample(frac=0.01)\n",
    "df.shape"
   ]
  },
  {
   "cell_type": "code",
   "execution_count": 84,
   "id": "7dbf6dc8",
   "metadata": {},
   "outputs": [
    {
     "data": {
      "text/html": [
       "<div>\n",
       "<style scoped>\n",
       "    .dataframe tbody tr th:only-of-type {\n",
       "        vertical-align: middle;\n",
       "    }\n",
       "\n",
       "    .dataframe tbody tr th {\n",
       "        vertical-align: top;\n",
       "    }\n",
       "\n",
       "    .dataframe thead th {\n",
       "        text-align: right;\n",
       "    }\n",
       "</style>\n",
       "<table border=\"1\" class=\"dataframe\">\n",
       "  <thead>\n",
       "    <tr style=\"text-align: right;\">\n",
       "      <th></th>\n",
       "      <th>date_time</th>\n",
       "      <th>cc_num</th>\n",
       "      <th>merchant</th>\n",
       "      <th>category</th>\n",
       "      <th>amt</th>\n",
       "      <th>first</th>\n",
       "      <th>last</th>\n",
       "      <th>gender</th>\n",
       "      <th>street</th>\n",
       "      <th>city</th>\n",
       "      <th>...</th>\n",
       "      <th>lat</th>\n",
       "      <th>long</th>\n",
       "      <th>city_pop</th>\n",
       "      <th>job</th>\n",
       "      <th>dob</th>\n",
       "      <th>trans_num</th>\n",
       "      <th>unix_time</th>\n",
       "      <th>merch_lat</th>\n",
       "      <th>merch_long</th>\n",
       "      <th>is_fraud</th>\n",
       "    </tr>\n",
       "  </thead>\n",
       "  <tbody>\n",
       "    <tr>\n",
       "      <th>563903</th>\n",
       "      <td>2019-08-28 02:49:02</td>\n",
       "      <td>180011453250192</td>\n",
       "      <td>fraud_Jast-McDermott</td>\n",
       "      <td>shopping_pos</td>\n",
       "      <td>146.54</td>\n",
       "      <td>Craig</td>\n",
       "      <td>Dunn</td>\n",
       "      <td>M</td>\n",
       "      <td>721 Jacqueline Brooks</td>\n",
       "      <td>New Boston</td>\n",
       "      <td>...</td>\n",
       "      <td>41.2153</td>\n",
       "      <td>-90.9879</td>\n",
       "      <td>1504</td>\n",
       "      <td>Manufacturing engineer</td>\n",
       "      <td>1993-10-05</td>\n",
       "      <td>b3675f50a883f2c60e701dfc326bc244</td>\n",
       "      <td>1346122142</td>\n",
       "      <td>40.876800</td>\n",
       "      <td>-91.929266</td>\n",
       "      <td>0</td>\n",
       "    </tr>\n",
       "    <tr>\n",
       "      <th>805864</th>\n",
       "      <td>2019-12-05 22:03:29</td>\n",
       "      <td>4181833256558613886</td>\n",
       "      <td>fraud_Witting, Beer and Ernser</td>\n",
       "      <td>home</td>\n",
       "      <td>87.06</td>\n",
       "      <td>Jessica</td>\n",
       "      <td>Potter</td>\n",
       "      <td>F</td>\n",
       "      <td>7600 Stephen Course Suite 031</td>\n",
       "      <td>Red River</td>\n",
       "      <td>...</td>\n",
       "      <td>36.6659</td>\n",
       "      <td>-105.4694</td>\n",
       "      <td>606</td>\n",
       "      <td>Surveyor, land/geomatics</td>\n",
       "      <td>1988-09-06</td>\n",
       "      <td>c9cf73ed101b58ff342015dfa0496cd4</td>\n",
       "      <td>1354745009</td>\n",
       "      <td>36.455923</td>\n",
       "      <td>-104.520076</td>\n",
       "      <td>0</td>\n",
       "    </tr>\n",
       "    <tr>\n",
       "      <th>68445</th>\n",
       "      <td>2019-02-10 12:58:17</td>\n",
       "      <td>4935858973307492</td>\n",
       "      <td>fraud_Wilkinson PLC</td>\n",
       "      <td>kids_pets</td>\n",
       "      <td>44.04</td>\n",
       "      <td>Lance</td>\n",
       "      <td>Wagner</td>\n",
       "      <td>M</td>\n",
       "      <td>6003 Brady Shoal Apt. 449</td>\n",
       "      <td>Irwinton</td>\n",
       "      <td>...</td>\n",
       "      <td>32.8088</td>\n",
       "      <td>-83.1740</td>\n",
       "      <td>1841</td>\n",
       "      <td>Film/video editor</td>\n",
       "      <td>1975-06-01</td>\n",
       "      <td>b12086115b4076e7d0c2e7c23d966458</td>\n",
       "      <td>1328878697</td>\n",
       "      <td>31.897108</td>\n",
       "      <td>-82.556987</td>\n",
       "      <td>0</td>\n",
       "    </tr>\n",
       "    <tr>\n",
       "      <th>83788</th>\n",
       "      <td>2019-02-18 22:49:50</td>\n",
       "      <td>3545109339866548</td>\n",
       "      <td>fraud_Dare-Gibson</td>\n",
       "      <td>health_fitness</td>\n",
       "      <td>35.57</td>\n",
       "      <td>Keith</td>\n",
       "      <td>Sanders</td>\n",
       "      <td>M</td>\n",
       "      <td>8030 Beck Motorway</td>\n",
       "      <td>Moorhead</td>\n",
       "      <td>...</td>\n",
       "      <td>33.4783</td>\n",
       "      <td>-90.5142</td>\n",
       "      <td>2870</td>\n",
       "      <td>Chartered public finance accountant</td>\n",
       "      <td>1999-03-05</td>\n",
       "      <td>1e2ccb8023756dadaab2a33e7dafa6d1</td>\n",
       "      <td>1329605390</td>\n",
       "      <td>33.296778</td>\n",
       "      <td>-89.531965</td>\n",
       "      <td>0</td>\n",
       "    </tr>\n",
       "    <tr>\n",
       "      <th>39058</th>\n",
       "      <td>2019-01-23 16:48:10</td>\n",
       "      <td>4344955088481397</td>\n",
       "      <td>fraud_Eichmann-Kilback</td>\n",
       "      <td>home</td>\n",
       "      <td>68.65</td>\n",
       "      <td>Christopher</td>\n",
       "      <td>Rodgers</td>\n",
       "      <td>M</td>\n",
       "      <td>30587 Fox Shores Apt. 627</td>\n",
       "      <td>Fenelton</td>\n",
       "      <td>...</td>\n",
       "      <td>40.8555</td>\n",
       "      <td>-79.7372</td>\n",
       "      <td>2054</td>\n",
       "      <td>Communications engineer</td>\n",
       "      <td>1976-09-29</td>\n",
       "      <td>9cadac697a133719106faf584bc4b10f</td>\n",
       "      <td>1327337290</td>\n",
       "      <td>41.313525</td>\n",
       "      <td>-80.603195</td>\n",
       "      <td>0</td>\n",
       "    </tr>\n",
       "  </tbody>\n",
       "</table>\n",
       "<p>5 rows × 22 columns</p>\n",
       "</div>"
      ],
      "text/plain": [
       "                  date_time               cc_num  \\\n",
       "563903  2019-08-28 02:49:02      180011453250192   \n",
       "805864  2019-12-05 22:03:29  4181833256558613886   \n",
       "68445   2019-02-10 12:58:17     4935858973307492   \n",
       "83788   2019-02-18 22:49:50     3545109339866548   \n",
       "39058   2019-01-23 16:48:10     4344955088481397   \n",
       "\n",
       "                              merchant        category     amt        first  \\\n",
       "563903            fraud_Jast-McDermott    shopping_pos  146.54        Craig   \n",
       "805864  fraud_Witting, Beer and Ernser            home   87.06      Jessica   \n",
       "68445              fraud_Wilkinson PLC       kids_pets   44.04        Lance   \n",
       "83788                fraud_Dare-Gibson  health_fitness   35.57        Keith   \n",
       "39058           fraud_Eichmann-Kilback            home   68.65  Christopher   \n",
       "\n",
       "           last gender                         street        city  ...  \\\n",
       "563903     Dunn      M          721 Jacqueline Brooks  New Boston  ...   \n",
       "805864   Potter      F  7600 Stephen Course Suite 031   Red River  ...   \n",
       "68445    Wagner      M      6003 Brady Shoal Apt. 449    Irwinton  ...   \n",
       "83788   Sanders      M             8030 Beck Motorway    Moorhead  ...   \n",
       "39058   Rodgers      M      30587 Fox Shores Apt. 627    Fenelton  ...   \n",
       "\n",
       "            lat      long  city_pop                                  job  \\\n",
       "563903  41.2153  -90.9879      1504               Manufacturing engineer   \n",
       "805864  36.6659 -105.4694       606             Surveyor, land/geomatics   \n",
       "68445   32.8088  -83.1740      1841                    Film/video editor   \n",
       "83788   33.4783  -90.5142      2870  Chartered public finance accountant   \n",
       "39058   40.8555  -79.7372      2054              Communications engineer   \n",
       "\n",
       "               dob                         trans_num   unix_time  merch_lat  \\\n",
       "563903  1993-10-05  b3675f50a883f2c60e701dfc326bc244  1346122142  40.876800   \n",
       "805864  1988-09-06  c9cf73ed101b58ff342015dfa0496cd4  1354745009  36.455923   \n",
       "68445   1975-06-01  b12086115b4076e7d0c2e7c23d966458  1328878697  31.897108   \n",
       "83788   1999-03-05  1e2ccb8023756dadaab2a33e7dafa6d1  1329605390  33.296778   \n",
       "39058   1976-09-29  9cadac697a133719106faf584bc4b10f  1327337290  41.313525   \n",
       "\n",
       "        merch_long  is_fraud  \n",
       "563903  -91.929266         0  \n",
       "805864 -104.520076         0  \n",
       "68445   -82.556987         0  \n",
       "83788   -89.531965         0  \n",
       "39058   -80.603195         0  \n",
       "\n",
       "[5 rows x 22 columns]"
      ]
     },
     "execution_count": 84,
     "metadata": {},
     "output_type": "execute_result"
    }
   ],
   "source": [
    "df.head()"
   ]
  },
  {
   "cell_type": "code",
   "execution_count": 85,
   "id": "809f93aa",
   "metadata": {},
   "outputs": [
    {
     "data": {
      "text/plain": [
       "Index(['date_time', 'cc_num', 'merchant', 'category', 'amt', 'first', 'last',\n",
       "       'gender', 'street', 'city', 'state', 'zip', 'lat', 'long', 'city_pop',\n",
       "       'job', 'dob', 'trans_num', 'unix_time', 'merch_lat', 'merch_long',\n",
       "       'is_fraud'],\n",
       "      dtype='object')"
      ]
     },
     "execution_count": 85,
     "metadata": {},
     "output_type": "execute_result"
    }
   ],
   "source": [
    "df.columns"
   ]
  },
  {
   "cell_type": "code",
   "execution_count": 86,
   "id": "ff5e10a7",
   "metadata": {},
   "outputs": [
    {
     "data": {
      "text/plain": [
       "date_time     0\n",
       "cc_num        0\n",
       "merchant      0\n",
       "category      0\n",
       "amt           0\n",
       "first         0\n",
       "last          0\n",
       "gender        0\n",
       "street        0\n",
       "city          0\n",
       "state         0\n",
       "zip           0\n",
       "lat           0\n",
       "long          0\n",
       "city_pop      0\n",
       "job           0\n",
       "dob           0\n",
       "trans_num     0\n",
       "unix_time     0\n",
       "merch_lat     0\n",
       "merch_long    0\n",
       "is_fraud      0\n",
       "dtype: int64"
      ]
     },
     "execution_count": 86,
     "metadata": {},
     "output_type": "execute_result"
    }
   ],
   "source": [
    "# No null data\n",
    "df.isnull().sum()"
   ]
  },
  {
   "cell_type": "code",
   "execution_count": 87,
   "id": "80deaa41",
   "metadata": {},
   "outputs": [
    {
     "name": "stdout",
     "output_type": "stream",
     "text": [
      "12025.3\n",
      "1.0\n"
     ]
    }
   ],
   "source": [
    "print(df['amt'].max())\n",
    "print(df['amt'].min())"
   ]
  },
  {
   "cell_type": "markdown",
   "id": "1bfce334",
   "metadata": {},
   "source": [
    "Since there is a huge difference in the max and min values for the transaction amount, I will then scale this column to make the data more practical."
   ]
  },
  {
   "cell_type": "code",
   "execution_count": 10,
   "id": "86b354fb",
   "metadata": {},
   "outputs": [
    {
     "data": {
      "text/plain": [
       "500767    -0.376352\n",
       "784441     0.133939\n",
       "519637     0.168301\n",
       "1150334    1.380829\n",
       "348021    -0.273268\n",
       "             ...   \n",
       "8395      -0.093539\n",
       "1249845   -0.181562\n",
       "848046    -0.055775\n",
       "260209     0.451003\n",
       "1200601   -0.128068\n",
       "Name: amt, Length: 12967, dtype: float64"
      ]
     },
     "execution_count": 10,
     "metadata": {},
     "output_type": "execute_result"
    }
   ],
   "source": [
    "# We want to standardize the 'amt' column\n",
    "from sklearn.preprocessing import StandardScaler\n",
    "\n",
    "sc = StandardScaler()\n",
    "amount = df['amt'].values\n",
    "df['amt'] = sc.fit_transform(amount.reshape(-1, 1))\n",
    "df['amt']"
   ]
  },
  {
   "cell_type": "markdown",
   "id": "75095a74",
   "metadata": {},
   "source": [
    "Everything in the 'amt' or Amount column looks like it has been scaled and so we will move onto the train and test split. While doing EDA, we found out that most of the columns are not correlated with wether or not the transaction is fraudulent. Therefore, we will create a new dataframe that focuses on the features we need. Additionally, it will save running time."
   ]
  },
  {
   "cell_type": "code",
   "execution_count": 88,
   "id": "10b113b8",
   "metadata": {},
   "outputs": [],
   "source": [
    "dfa = df[['amt', 'is_fraud']]\n",
    "dft = df[['date_time', 'is_fraud']]"
   ]
  },
  {
   "cell_type": "markdown",
   "id": "209eae66",
   "metadata": {},
   "source": [
    "## Train Test Split - Amount"
   ]
  },
  {
   "cell_type": "code",
   "execution_count": 12,
   "id": "f4e796f4",
   "metadata": {},
   "outputs": [],
   "source": [
    "X = dfa.drop('is_fraud', axis = 1).values\n",
    "y = dfa['is_fraud'].values"
   ]
  },
  {
   "cell_type": "code",
   "execution_count": 13,
   "id": "f8bfeb6b",
   "metadata": {},
   "outputs": [],
   "source": [
    "from sklearn.model_selection import train_test_split\n",
    "\n",
    "X_train, X_test, y_train, y_test = train_test_split(X, y, test_size = 0.25, random_state = 1)"
   ]
  },
  {
   "cell_type": "markdown",
   "id": "330e0499",
   "metadata": {},
   "source": [
    "### Decision Tree Classifier"
   ]
  },
  {
   "cell_type": "code",
   "execution_count": 14,
   "id": "3c9cb9d1",
   "metadata": {},
   "outputs": [],
   "source": [
    "from sklearn.tree import DecisionTreeClassifier\n",
    "\n",
    "DT = DecisionTreeClassifier(max_depth = 4, criterion = 'entropy')\n",
    "DT.fit(X_train, y_train)\n",
    "dt_yhat = DT.predict(X_test)"
   ]
  },
  {
   "cell_type": "code",
   "execution_count": 15,
   "id": "a2ce1be9",
   "metadata": {},
   "outputs": [
    {
     "name": "stdout",
     "output_type": "stream",
     "text": [
      "Accuracy score of the Decision Tree model is 0.9938309685379395\n",
      "F1 score of the Decision Tree model is 0.23076923076923078\n"
     ]
    },
    {
     "data": {
      "text/plain": [
       "array([[3219,    0],\n",
       "       [  20,    3]], dtype=int64)"
      ]
     },
     "execution_count": 15,
     "metadata": {},
     "output_type": "execute_result"
    }
   ],
   "source": [
    "from sklearn.metrics import f1_score\n",
    "from sklearn.metrics import accuracy_score\n",
    "from sklearn.metrics import confusion_matrix\n",
    "\n",
    "print('Accuracy score of the Decision Tree model is {}'.format(accuracy_score(y_test, dt_yhat)))\n",
    "print('F1 score of the Decision Tree model is {}'.format(f1_score(y_test, dt_yhat)))\n",
    "confusion_matrix(y_test, dt_yhat, labels = [0, 1])"
   ]
  },
  {
   "cell_type": "markdown",
   "id": "7de01b46",
   "metadata": {},
   "source": [
    "Here, the first row represents positive and the second row represents negative. So, we have 3219 as true positive and 0 are false positive. We have 3219 that are successfully classified as a nonfraudulent transaction and 0 were falsely classified as nonfraudulent, but they were fraudulent. For the accuracy and F1 score, generally we want the score closer to 1. The accuracy score of the Decision Tree model is pretty good but the F1 score is alright."
   ]
  },
  {
   "cell_type": "markdown",
   "id": "f2a8c1c7",
   "metadata": {},
   "source": [
    "### K-Nearest Neighbors"
   ]
  },
  {
   "cell_type": "code",
   "execution_count": 21,
   "id": "a6b68ac2",
   "metadata": {},
   "outputs": [],
   "source": [
    "from sklearn.neighbors import KNeighborsClassifier\n",
    "\n",
    "n = 7\n",
    "KNN = KNeighborsClassifier(n_neighbors = n)\n",
    "KNN.fit(X_train, y_train)\n",
    "knn_yhat = KNN.predict(X_test)"
   ]
  },
  {
   "cell_type": "code",
   "execution_count": 22,
   "id": "259d5b3e",
   "metadata": {},
   "outputs": [
    {
     "name": "stdout",
     "output_type": "stream",
     "text": [
      "Accuracy score of the K-Nearest Neighbors model is 0.9935225169648365\n",
      "F1 score of the K-Nearest Neighbors model is 0.16\n"
     ]
    },
    {
     "data": {
      "text/plain": [
       "array([[3219,    0],\n",
       "       [  21,    2]], dtype=int64)"
      ]
     },
     "execution_count": 22,
     "metadata": {},
     "output_type": "execute_result"
    }
   ],
   "source": [
    "print('Accuracy score of the K-Nearest Neighbors model is {}'.format(accuracy_score(y_test, knn_yhat)))\n",
    "print('F1 score of the K-Nearest Neighbors model is {}'.format(f1_score(y_test, knn_yhat)))\n",
    "confusion_matrix(y_test, knn_yhat, labels = [0, 1])"
   ]
  },
  {
   "cell_type": "markdown",
   "id": "01fc8c11",
   "metadata": {},
   "source": [
    "### Logistic Regression"
   ]
  },
  {
   "cell_type": "code",
   "execution_count": 24,
   "id": "4ff421fe",
   "metadata": {},
   "outputs": [],
   "source": [
    "from sklearn.linear_model import LogisticRegression\n",
    "\n",
    "lr = LogisticRegression()\n",
    "lr.fit(X_train, y_train)\n",
    "lr_yhat = lr.predict(X_test)"
   ]
  },
  {
   "cell_type": "code",
   "execution_count": 25,
   "id": "d030c609",
   "metadata": {},
   "outputs": [
    {
     "name": "stdout",
     "output_type": "stream",
     "text": [
      "Accuracy score of the Logistic Regression model is 0.9919802590993214\n",
      "F1 score of the Logistic Regression model is 0.0\n"
     ]
    },
    {
     "data": {
      "text/plain": [
       "array([[3216,    3],\n",
       "       [  23,    0]], dtype=int64)"
      ]
     },
     "execution_count": 25,
     "metadata": {},
     "output_type": "execute_result"
    }
   ],
   "source": [
    "print('Accuracy score of the Logistic Regression model is {}'.format(accuracy_score(y_test, lr_yhat)))\n",
    "print('F1 score of the Logistic Regression model is {}'.format(f1_score(y_test, lr_yhat)))\n",
    "confusion_matrix(y_test, lr_yhat, labels = [0, 1])"
   ]
  },
  {
   "cell_type": "markdown",
   "id": "885a1cc2",
   "metadata": {},
   "source": [
    "### Random Forest"
   ]
  },
  {
   "cell_type": "code",
   "execution_count": 26,
   "id": "5acebb49",
   "metadata": {},
   "outputs": [],
   "source": [
    "from sklearn.ensemble import RandomForestClassifier\n",
    "\n",
    "rf = RandomForestClassifier(max_depth = 4)\n",
    "rf.fit(X_train, y_train)\n",
    "rf_yhat = rf.predict(X_test)"
   ]
  },
  {
   "cell_type": "code",
   "execution_count": 27,
   "id": "dafb5dc9",
   "metadata": {},
   "outputs": [
    {
     "name": "stdout",
     "output_type": "stream",
     "text": [
      "Accuracy score of the Random Forest model is 0.9935225169648365\n",
      "F1 score of the Random Forest model is 0.22222222222222218\n"
     ]
    },
    {
     "data": {
      "text/plain": [
       "array([[3218,    1],\n",
       "       [  20,    3]], dtype=int64)"
      ]
     },
     "execution_count": 27,
     "metadata": {},
     "output_type": "execute_result"
    }
   ],
   "source": [
    "print('Accuracy score of the Random Forest model is {}'.format(accuracy_score(y_test, rf_yhat)))\n",
    "print('F1 score of the Random Forest model is {}'.format(f1_score(y_test, rf_yhat)))\n",
    "confusion_matrix(y_test, rf_yhat, labels = [0, 1])"
   ]
  },
  {
   "cell_type": "markdown",
   "id": "0f4b8ba1",
   "metadata": {},
   "source": [
    "### XGBoost"
   ]
  },
  {
   "cell_type": "code",
   "execution_count": 28,
   "id": "9250be60",
   "metadata": {},
   "outputs": [],
   "source": [
    "from xgboost import XGBClassifier\n",
    "\n",
    "xgb = XGBClassifier(max_depth = 4)\n",
    "xgb.fit(X_train, y_train)\n",
    "xgb_yhat = xgb.predict(X_test)"
   ]
  },
  {
   "cell_type": "code",
   "execution_count": 29,
   "id": "56e31568",
   "metadata": {},
   "outputs": [
    {
     "name": "stdout",
     "output_type": "stream",
     "text": [
      "Accuracy score of the XGBoost model is 0.9935225169648365\n",
      "F1 score of the XGBoost model is 0.3225806451612903\n"
     ]
    },
    {
     "data": {
      "text/plain": [
       "array([[3216,    3],\n",
       "       [  18,    5]], dtype=int64)"
      ]
     },
     "execution_count": 29,
     "metadata": {},
     "output_type": "execute_result"
    }
   ],
   "source": [
    "print('Accuracy score of the XGBoost model is {}'.format(accuracy_score(y_test, xgb_yhat)))\n",
    "print('F1 score of the XGBoost model is {}'.format(f1_score(y_test, xgb_yhat)))\n",
    "confusion_matrix(y_test, xgb_yhat, labels = [0, 1])"
   ]
  },
  {
   "cell_type": "markdown",
   "id": "5ecd2f2c",
   "metadata": {},
   "source": [
    "### Hybrid XGBoost Model - XGBoost and Random Forest Classifier"
   ]
  },
  {
   "cell_type": "code",
   "execution_count": 30,
   "id": "e062e9ad",
   "metadata": {},
   "outputs": [],
   "source": [
    "from xgboost import XGBRFClassifier\n",
    "\n",
    "xgbrf = XGBRFClassifier()\n",
    "xgbrf.fit(X_train, y_train)\n",
    "xgbrf_yhat = xgb.predict(X_test)"
   ]
  },
  {
   "cell_type": "code",
   "execution_count": 31,
   "id": "ac98e3d2",
   "metadata": {},
   "outputs": [
    {
     "name": "stdout",
     "output_type": "stream",
     "text": [
      "Accuracy score of the XGBRF model is 0.9935225169648365\n",
      "F1 score of the XGBRF model is 0.3225806451612903\n"
     ]
    },
    {
     "data": {
      "text/plain": [
       "array([[3216,    3],\n",
       "       [  18,    5]], dtype=int64)"
      ]
     },
     "execution_count": 31,
     "metadata": {},
     "output_type": "execute_result"
    }
   ],
   "source": [
    "print('Accuracy score of the XGBRF model is {}'.format(accuracy_score(y_test, xgbrf_yhat)))\n",
    "print('F1 score of the XGBRF model is {}'.format(f1_score(y_test, xgbrf_yhat)))\n",
    "confusion_matrix(y_test, xgbrf_yhat, labels = [0, 1])"
   ]
  },
  {
   "cell_type": "markdown",
   "id": "43601a17",
   "metadata": {},
   "source": [
    "## Overall Scores"
   ]
  },
  {
   "cell_type": "code",
   "execution_count": 34,
   "id": "527b789d",
   "metadata": {},
   "outputs": [],
   "source": [
    "accuracy = [accuracy_score(y_test, dt_yhat), accuracy_score(y_test, knn_yhat), accuracy_score(y_test, lr_yhat), \n",
    "            accuracy_score(y_test, xgb_yhat), accuracy_score(y_test, xgbrf_yhat)]\n",
    "f1 = [f1_score(y_test, dt_yhat), f1_score(y_test, knn_yhat), f1_score(y_test, lr_yhat), \n",
    "            f1_score(y_test, xgb_yhat), f1_score(y_test, xgbrf_yhat)]\n",
    "names = ['DT', 'KNN', 'LR', 'XGB', 'XBGRF']"
   ]
  },
  {
   "cell_type": "code",
   "execution_count": 64,
   "id": "94257882",
   "metadata": {},
   "outputs": [],
   "source": [
    "def scores(accuracy, f1, names):\n",
    "    for i in range(0, 5):\n",
    "        print('For', names[i])\n",
    "        print('It has an accuracy score of', accuracy[i])\n",
    "        print('And an F1 score of', f1[i])"
   ]
  },
  {
   "cell_type": "code",
   "execution_count": 65,
   "id": "f6fe8630",
   "metadata": {},
   "outputs": [
    {
     "name": "stdout",
     "output_type": "stream",
     "text": [
      "For DT\n",
      "It has an accuracy score of 0.9938309685379395\n",
      "And an F1 score of 0.23076923076923078\n",
      "For KNN\n",
      "It has an accuracy score of 0.9935225169648365\n",
      "And an F1 score of 0.16\n",
      "For LR\n",
      "It has an accuracy score of 0.9919802590993214\n",
      "And an F1 score of 0.0\n",
      "For XGB\n",
      "It has an accuracy score of 0.9935225169648365\n",
      "And an F1 score of 0.3225806451612903\n",
      "For XBGRF\n",
      "It has an accuracy score of 0.9935225169648365\n",
      "And an F1 score of 0.3225806451612903\n"
     ]
    }
   ],
   "source": [
    "scores(accuracy, f1, names)"
   ]
  },
  {
   "cell_type": "code",
   "execution_count": 66,
   "id": "88633bcf",
   "metadata": {},
   "outputs": [
    {
     "data": {
      "text/plain": [
       "0.9938309685379395"
      ]
     },
     "execution_count": 66,
     "metadata": {},
     "output_type": "execute_result"
    }
   ],
   "source": [
    "max(accuracy)"
   ]
  },
  {
   "cell_type": "code",
   "execution_count": 67,
   "id": "558f5d47",
   "metadata": {},
   "outputs": [
    {
     "data": {
      "text/plain": [
       "0.3225806451612903"
      ]
     },
     "execution_count": 67,
     "metadata": {},
     "output_type": "execute_result"
    }
   ],
   "source": [
    "max(f1)"
   ]
  },
  {
   "cell_type": "markdown",
   "id": "14f7a8c0",
   "metadata": {},
   "source": [
    "Decision Tree Classifier has the highest accuracy score but XGBoost and XGBoost/Random Forest has the highest F1 score. So how do we choose between the two?"
   ]
  },
  {
   "cell_type": "markdown",
   "id": "46150a0e",
   "metadata": {},
   "source": [
    "## Conclusion"
   ]
  },
  {
   "cell_type": "markdown",
   "id": "ee83578e",
   "metadata": {},
   "source": [
    "Remember that the F1 score is balancing precision and recall on the positive class while accuracy looks at correctly classified observations both positive and negative. That makes a big difference especially for the imbalanced problems where by default our model will be good at predicting true negatives and hence accuracy will be high. However, if you care equally about true negatives and true positives then accuracy is the metric you should choose. \n",
    "\n",
    "Since our dataset is naturally imbalanced, it will make our accuracy score really high by default. That is why we will care more about the F1 score in this case.\n",
    "\n",
    "Therefore, the best model is the XGBoost and XGBRF which has the same accuracy and F1 score. We have an accuracy of 99.35% and a F1 score of 32.26%"
   ]
  },
  {
   "cell_type": "code",
   "execution_count": null,
   "id": "a4dc2675",
   "metadata": {},
   "outputs": [],
   "source": []
  }
 ],
 "metadata": {
  "kernelspec": {
   "display_name": "Python 3 (ipykernel)",
   "language": "python",
   "name": "python3"
  },
  "language_info": {
   "codemirror_mode": {
    "name": "ipython",
    "version": 3
   },
   "file_extension": ".py",
   "mimetype": "text/x-python",
   "name": "python",
   "nbconvert_exporter": "python",
   "pygments_lexer": "ipython3",
   "version": "3.9.12"
  }
 },
 "nbformat": 4,
 "nbformat_minor": 5
}
