{
 "cells": [
  {
   "cell_type": "markdown",
   "id": "07086a5f",
   "metadata": {},
   "source": [
    "# Preprocessing Training and Modeling"
   ]
  },
  {
   "cell_type": "code",
   "execution_count": 1,
   "id": "60e8acca",
   "metadata": {},
   "outputs": [],
   "source": [
    "import numpy as np\n",
    "import pandas as pd\n",
    "import math\n",
    "import seaborn as sns\n",
    "import matplotlib.pyplot as plt\n",
    "import datetime"
   ]
  },
  {
   "cell_type": "markdown",
   "id": "f800e98c",
   "metadata": {},
   "source": [
    "## Preprocessing and Understanding"
   ]
  },
  {
   "cell_type": "code",
   "execution_count": 2,
   "id": "4bbbf0d1",
   "metadata": {},
   "outputs": [],
   "source": [
    "df = pd.read_csv('fraudTrain.csv')"
   ]
  },
  {
   "cell_type": "code",
   "execution_count": 3,
   "id": "1b14a6ad",
   "metadata": {},
   "outputs": [],
   "source": [
    "# Deleted first column since it was the same as the index\n",
    "df = df.iloc[: , 1:]\n",
    "# We are going to rename some columns for ease\n",
    "df = df.rename(columns={'trans_date_trans_time':'date_time'})\n",
    "# Drop any duplicates\n",
    "df.drop_duplicates(inplace=True)"
   ]
  },
  {
   "cell_type": "code",
   "execution_count": 4,
   "id": "6b9bd3e6",
   "metadata": {},
   "outputs": [
    {
     "data": {
      "text/plain": [
       "(1296675, 22)"
      ]
     },
     "execution_count": 4,
     "metadata": {},
     "output_type": "execute_result"
    }
   ],
   "source": [
    "df.shape"
   ]
  },
  {
   "cell_type": "code",
   "execution_count": 5,
   "id": "eb36daf3",
   "metadata": {},
   "outputs": [
    {
     "data": {
      "text/plain": [
       "(12967, 22)"
      ]
     },
     "execution_count": 5,
     "metadata": {},
     "output_type": "execute_result"
    }
   ],
   "source": [
    "# Let's downsize the data for ease of speed\n",
    "df = df.sample(frac=0.01)\n",
    "df.shape"
   ]
  },
  {
   "cell_type": "code",
   "execution_count": 6,
   "id": "7dbf6dc8",
   "metadata": {},
   "outputs": [
    {
     "data": {
      "text/html": [
       "<div>\n",
       "<style scoped>\n",
       "    .dataframe tbody tr th:only-of-type {\n",
       "        vertical-align: middle;\n",
       "    }\n",
       "\n",
       "    .dataframe tbody tr th {\n",
       "        vertical-align: top;\n",
       "    }\n",
       "\n",
       "    .dataframe thead th {\n",
       "        text-align: right;\n",
       "    }\n",
       "</style>\n",
       "<table border=\"1\" class=\"dataframe\">\n",
       "  <thead>\n",
       "    <tr style=\"text-align: right;\">\n",
       "      <th></th>\n",
       "      <th>date_time</th>\n",
       "      <th>cc_num</th>\n",
       "      <th>merchant</th>\n",
       "      <th>category</th>\n",
       "      <th>amt</th>\n",
       "      <th>first</th>\n",
       "      <th>last</th>\n",
       "      <th>gender</th>\n",
       "      <th>street</th>\n",
       "      <th>city</th>\n",
       "      <th>...</th>\n",
       "      <th>lat</th>\n",
       "      <th>long</th>\n",
       "      <th>city_pop</th>\n",
       "      <th>job</th>\n",
       "      <th>dob</th>\n",
       "      <th>trans_num</th>\n",
       "      <th>unix_time</th>\n",
       "      <th>merch_lat</th>\n",
       "      <th>merch_long</th>\n",
       "      <th>is_fraud</th>\n",
       "    </tr>\n",
       "  </thead>\n",
       "  <tbody>\n",
       "    <tr>\n",
       "      <th>146155</th>\n",
       "      <td>2019-03-19 23:32:48</td>\n",
       "      <td>4900628639996</td>\n",
       "      <td>fraud_Hyatt, Russel and Gleichner</td>\n",
       "      <td>health_fitness</td>\n",
       "      <td>13.59</td>\n",
       "      <td>Michael</td>\n",
       "      <td>Johnson</td>\n",
       "      <td>M</td>\n",
       "      <td>094 Owens Underpass</td>\n",
       "      <td>Norwalk</td>\n",
       "      <td>...</td>\n",
       "      <td>33.9056</td>\n",
       "      <td>-118.0818</td>\n",
       "      <td>105549</td>\n",
       "      <td>Firefighter</td>\n",
       "      <td>1973-09-22</td>\n",
       "      <td>48d126431bdeaa6a00f8dda5c6b50ad3</td>\n",
       "      <td>1332199968</td>\n",
       "      <td>34.065722</td>\n",
       "      <td>-118.210461</td>\n",
       "      <td>0</td>\n",
       "    </tr>\n",
       "    <tr>\n",
       "      <th>965642</th>\n",
       "      <td>2020-01-25 08:07:12</td>\n",
       "      <td>213199865312311</td>\n",
       "      <td>fraud_Prohaska-Murray</td>\n",
       "      <td>gas_transport</td>\n",
       "      <td>56.44</td>\n",
       "      <td>Christopher</td>\n",
       "      <td>Miller</td>\n",
       "      <td>M</td>\n",
       "      <td>493 Fitzgerald Fields Suite 454</td>\n",
       "      <td>Varnell</td>\n",
       "      <td>...</td>\n",
       "      <td>34.9298</td>\n",
       "      <td>-84.9885</td>\n",
       "      <td>74</td>\n",
       "      <td>Pensions consultant</td>\n",
       "      <td>1944-05-14</td>\n",
       "      <td>f61df1b72610872bf9679520448cbbc5</td>\n",
       "      <td>1359101232</td>\n",
       "      <td>35.717384</td>\n",
       "      <td>-85.831533</td>\n",
       "      <td>0</td>\n",
       "    </tr>\n",
       "    <tr>\n",
       "      <th>85379</th>\n",
       "      <td>2019-02-19 16:52:22</td>\n",
       "      <td>4623560839669</td>\n",
       "      <td>fraud_Bahringer Group</td>\n",
       "      <td>health_fitness</td>\n",
       "      <td>68.67</td>\n",
       "      <td>Vincent</td>\n",
       "      <td>Waller</td>\n",
       "      <td>M</td>\n",
       "      <td>9379 Vanessa Run Apt. 400</td>\n",
       "      <td>Lohrville</td>\n",
       "      <td>...</td>\n",
       "      <td>42.2619</td>\n",
       "      <td>-94.5566</td>\n",
       "      <td>695</td>\n",
       "      <td>Administrator</td>\n",
       "      <td>1954-07-15</td>\n",
       "      <td>cb1b3817cb54e1caac80030442ee88d7</td>\n",
       "      <td>1329670342</td>\n",
       "      <td>42.274850</td>\n",
       "      <td>-94.885857</td>\n",
       "      <td>0</td>\n",
       "    </tr>\n",
       "    <tr>\n",
       "      <th>303410</th>\n",
       "      <td>2019-05-27 13:41:47</td>\n",
       "      <td>180067784565096</td>\n",
       "      <td>fraud_Friesen Ltd</td>\n",
       "      <td>health_fitness</td>\n",
       "      <td>48.04</td>\n",
       "      <td>Mary</td>\n",
       "      <td>Juarez</td>\n",
       "      <td>F</td>\n",
       "      <td>35440 Ryan Islands</td>\n",
       "      <td>North Prairie</td>\n",
       "      <td>...</td>\n",
       "      <td>42.9385</td>\n",
       "      <td>-88.3950</td>\n",
       "      <td>2328</td>\n",
       "      <td>Applications developer</td>\n",
       "      <td>1942-01-06</td>\n",
       "      <td>f410c5b655951ab704bd47d463633791</td>\n",
       "      <td>1338126107</td>\n",
       "      <td>43.651212</td>\n",
       "      <td>-88.412076</td>\n",
       "      <td>0</td>\n",
       "    </tr>\n",
       "    <tr>\n",
       "      <th>537391</th>\n",
       "      <td>2019-08-18 19:01:05</td>\n",
       "      <td>3567879740649740</td>\n",
       "      <td>fraud_Cruickshank-Mills</td>\n",
       "      <td>entertainment</td>\n",
       "      <td>3.32</td>\n",
       "      <td>Tanya</td>\n",
       "      <td>Williams</td>\n",
       "      <td>F</td>\n",
       "      <td>566 Megan Well</td>\n",
       "      <td>Brownville</td>\n",
       "      <td>...</td>\n",
       "      <td>44.0577</td>\n",
       "      <td>-76.0196</td>\n",
       "      <td>1271</td>\n",
       "      <td>Producer, radio</td>\n",
       "      <td>1958-08-14</td>\n",
       "      <td>7d2f581fc4540ec766f1a465c7885ec1</td>\n",
       "      <td>1345316465</td>\n",
       "      <td>44.019274</td>\n",
       "      <td>-75.521793</td>\n",
       "      <td>0</td>\n",
       "    </tr>\n",
       "  </tbody>\n",
       "</table>\n",
       "<p>5 rows × 22 columns</p>\n",
       "</div>"
      ],
      "text/plain": [
       "                  date_time            cc_num  \\\n",
       "146155  2019-03-19 23:32:48     4900628639996   \n",
       "965642  2020-01-25 08:07:12   213199865312311   \n",
       "85379   2019-02-19 16:52:22     4623560839669   \n",
       "303410  2019-05-27 13:41:47   180067784565096   \n",
       "537391  2019-08-18 19:01:05  3567879740649740   \n",
       "\n",
       "                                 merchant        category    amt        first  \\\n",
       "146155  fraud_Hyatt, Russel and Gleichner  health_fitness  13.59      Michael   \n",
       "965642              fraud_Prohaska-Murray   gas_transport  56.44  Christopher   \n",
       "85379               fraud_Bahringer Group  health_fitness  68.67      Vincent   \n",
       "303410                  fraud_Friesen Ltd  health_fitness  48.04         Mary   \n",
       "537391            fraud_Cruickshank-Mills   entertainment   3.32        Tanya   \n",
       "\n",
       "            last gender                           street           city  ...  \\\n",
       "146155   Johnson      M              094 Owens Underpass        Norwalk  ...   \n",
       "965642    Miller      M  493 Fitzgerald Fields Suite 454        Varnell  ...   \n",
       "85379     Waller      M        9379 Vanessa Run Apt. 400      Lohrville  ...   \n",
       "303410    Juarez      F               35440 Ryan Islands  North Prairie  ...   \n",
       "537391  Williams      F                   566 Megan Well     Brownville  ...   \n",
       "\n",
       "            lat      long  city_pop                     job         dob  \\\n",
       "146155  33.9056 -118.0818    105549             Firefighter  1973-09-22   \n",
       "965642  34.9298  -84.9885        74     Pensions consultant  1944-05-14   \n",
       "85379   42.2619  -94.5566       695           Administrator  1954-07-15   \n",
       "303410  42.9385  -88.3950      2328  Applications developer  1942-01-06   \n",
       "537391  44.0577  -76.0196      1271         Producer, radio  1958-08-14   \n",
       "\n",
       "                               trans_num   unix_time  merch_lat  merch_long  \\\n",
       "146155  48d126431bdeaa6a00f8dda5c6b50ad3  1332199968  34.065722 -118.210461   \n",
       "965642  f61df1b72610872bf9679520448cbbc5  1359101232  35.717384  -85.831533   \n",
       "85379   cb1b3817cb54e1caac80030442ee88d7  1329670342  42.274850  -94.885857   \n",
       "303410  f410c5b655951ab704bd47d463633791  1338126107  43.651212  -88.412076   \n",
       "537391  7d2f581fc4540ec766f1a465c7885ec1  1345316465  44.019274  -75.521793   \n",
       "\n",
       "        is_fraud  \n",
       "146155         0  \n",
       "965642         0  \n",
       "85379          0  \n",
       "303410         0  \n",
       "537391         0  \n",
       "\n",
       "[5 rows x 22 columns]"
      ]
     },
     "execution_count": 6,
     "metadata": {},
     "output_type": "execute_result"
    }
   ],
   "source": [
    "df.head()"
   ]
  },
  {
   "cell_type": "code",
   "execution_count": 7,
   "id": "809f93aa",
   "metadata": {},
   "outputs": [
    {
     "data": {
      "text/plain": [
       "Index(['date_time', 'cc_num', 'merchant', 'category', 'amt', 'first', 'last',\n",
       "       'gender', 'street', 'city', 'state', 'zip', 'lat', 'long', 'city_pop',\n",
       "       'job', 'dob', 'trans_num', 'unix_time', 'merch_lat', 'merch_long',\n",
       "       'is_fraud'],\n",
       "      dtype='object')"
      ]
     },
     "execution_count": 7,
     "metadata": {},
     "output_type": "execute_result"
    }
   ],
   "source": [
    "df.columns"
   ]
  },
  {
   "cell_type": "code",
   "execution_count": 8,
   "id": "ff5e10a7",
   "metadata": {},
   "outputs": [
    {
     "data": {
      "text/plain": [
       "date_time     0\n",
       "cc_num        0\n",
       "merchant      0\n",
       "category      0\n",
       "amt           0\n",
       "first         0\n",
       "last          0\n",
       "gender        0\n",
       "street        0\n",
       "city          0\n",
       "state         0\n",
       "zip           0\n",
       "lat           0\n",
       "long          0\n",
       "city_pop      0\n",
       "job           0\n",
       "dob           0\n",
       "trans_num     0\n",
       "unix_time     0\n",
       "merch_lat     0\n",
       "merch_long    0\n",
       "is_fraud      0\n",
       "dtype: int64"
      ]
     },
     "execution_count": 8,
     "metadata": {},
     "output_type": "execute_result"
    }
   ],
   "source": [
    "# No null data\n",
    "df.isnull().sum()"
   ]
  },
  {
   "cell_type": "code",
   "execution_count": 9,
   "id": "80deaa41",
   "metadata": {},
   "outputs": [
    {
     "name": "stdout",
     "output_type": "stream",
     "text": [
      "5122.54\n",
      "1.0\n"
     ]
    }
   ],
   "source": [
    "print(df['amt'].max())\n",
    "print(df['amt'].min())"
   ]
  },
  {
   "cell_type": "markdown",
   "id": "1bfce334",
   "metadata": {},
   "source": [
    "Since there is a huge difference in the max and min values for the transaction amount, I will then scale this column to make the data more practical."
   ]
  },
  {
   "cell_type": "code",
   "execution_count": 10,
   "id": "86b354fb",
   "metadata": {},
   "outputs": [
    {
     "data": {
      "text/plain": [
       "146155    -0.468829\n",
       "965642    -0.106555\n",
       "85379     -0.003156\n",
       "303410    -0.177572\n",
       "537391    -0.555657\n",
       "             ...   \n",
       "70380     -0.431460\n",
       "1192604   -0.501802\n",
       "479153     0.221818\n",
       "920002    -0.248252\n",
       "430241     0.554502\n",
       "Name: amt, Length: 12967, dtype: float64"
      ]
     },
     "execution_count": 10,
     "metadata": {},
     "output_type": "execute_result"
    }
   ],
   "source": [
    "# We want to standardize the 'amt' column\n",
    "from sklearn.preprocessing import StandardScaler\n",
    "\n",
    "sc = StandardScaler()\n",
    "amount = df['amt'].values\n",
    "df['amt'] = sc.fit_transform(amount.reshape(-1, 1))\n",
    "df['amt']"
   ]
  },
  {
   "cell_type": "markdown",
   "id": "75095a74",
   "metadata": {},
   "source": [
    "Everything in the 'amt' or Amount column looks like it has been scaled and so we will move onto the train and test split. While doing EDA, we found out that most of the columns are not correlated with wether or not the transaction is fraudulent. Therefore, we will create a new dataframe that focuses on the features we need. Additionally, it will save running time."
   ]
  },
  {
   "cell_type": "code",
   "execution_count": 41,
   "id": "10b113b8",
   "metadata": {},
   "outputs": [],
   "source": [
    "dfa = df[['amt', 'is_fraud']]\n",
    "dft = df[['date_time', 'is_fraud']]"
   ]
  },
  {
   "cell_type": "markdown",
   "id": "03c09577",
   "metadata": {},
   "source": [
    "## Train Test Split - Time Series"
   ]
  },
  {
   "cell_type": "markdown",
   "id": "616a6987",
   "metadata": {},
   "source": [
    "The first step in creating an ARIMA model is checking if the series is stationary using the Dickey Fuller Test (ADF). The null hypothesis of the ADF test is that the time series is nonstationary. SO if the p-value of the test is less than the significance level (0.05), then we reject the null hypthesis and infer that the time series is stationary. If the p-value > 0.05, then we find the order of differencing."
   ]
  },
  {
   "cell_type": "code",
   "execution_count": 12,
   "id": "992d8d4e",
   "metadata": {},
   "outputs": [
    {
     "name": "stdout",
     "output_type": "stream",
     "text": [
      "ADF Statistic: -114.497139\n",
      "p-value: 0.000000\n"
     ]
    }
   ],
   "source": [
    "from statsmodels.tsa.stattools import adfuller\n",
    "from numpy import log\n",
    "\n",
    "result = adfuller(dft.is_fraud)\n",
    "print('ADF Statistic: %f' % result[0])\n",
    "print('p-value: %f' % result[1])"
   ]
  },
  {
   "cell_type": "markdown",
   "id": "6d4b1625",
   "metadata": {},
   "source": [
    "Since P-value is greater than the significance level, let’s move on to see which is the best ARIMA order to use by using the auto_arima tool."
   ]
  },
  {
   "cell_type": "code",
   "execution_count": 14,
   "id": "99fac8a2",
   "metadata": {},
   "outputs": [
    {
     "name": "stdout",
     "output_type": "stream",
     "text": [
      " ARIMA(0,0,0)(0,0,0)[0]             : AIC=-30543.321, Time=1.48 sec\n",
      " ARIMA(0,0,1)(0,0,0)[0]             : AIC=-30541.321, Time=2.76 sec\n",
      " ARIMA(0,0,2)(0,0,0)[0]             : AIC=-30541.823, Time=2.61 sec\n",
      " ARIMA(0,0,3)(0,0,0)[0]             : AIC=-30539.824, Time=6.33 sec\n",
      " ARIMA(1,0,0)(0,0,0)[0]             : AIC=-30541.321, Time=0.75 sec\n",
      " ARIMA(1,0,1)(0,0,0)[0]             : AIC=-30539.321, Time=2.38 sec\n",
      " ARIMA(1,0,2)(0,0,0)[0]             : AIC=-30539.824, Time=3.45 sec\n",
      " ARIMA(1,0,3)(0,0,0)[0]             : AIC=-30537.824, Time=4.52 sec\n",
      " ARIMA(2,0,0)(0,0,0)[0]             : AIC=-30541.823, Time=2.47 sec\n",
      " ARIMA(2,0,1)(0,0,0)[0]             : AIC=-30539.823, Time=3.07 sec\n",
      " ARIMA(2,0,2)(0,0,0)[0]             : AIC=-30537.824, Time=7.43 sec\n",
      " ARIMA(2,0,3)(0,0,0)[0]             : AIC=-30536.256, Time=4.97 sec\n",
      " ARIMA(3,0,0)(0,0,0)[0]             : AIC=-30539.823, Time=2.91 sec\n",
      " ARIMA(3,0,1)(0,0,0)[0]             : AIC=-30537.823, Time=3.67 sec\n",
      " ARIMA(3,0,2)(0,0,0)[0]             : AIC=-30535.823, Time=2.79 sec\n",
      "\n",
      "Best model:  ARIMA(0,0,0)(0,0,0)[0]          \n",
      "Total fit time: 51.614 seconds\n"
     ]
    }
   ],
   "source": [
    "from pmdarima import auto_arima\n",
    "\n",
    "\n",
    "model_arima= auto_arima(dft.is_fraud,trace=True, error_action='ignore', start_p=1,start_q=1,max_p=3,max_q=3,\n",
    "              suppress_warnings=True,stepwise=False,seasonal=False)"
   ]
  },
  {
   "cell_type": "code",
   "execution_count": 15,
   "id": "4144eeb3",
   "metadata": {},
   "outputs": [
    {
     "name": "stdout",
     "output_type": "stream",
     "text": [
      "                               SARIMAX Results                                \n",
      "==============================================================================\n",
      "Dep. Variable:                      y   No. Observations:                 9725\n",
      "Model:                          ARIMA   Log Likelihood               10736.121\n",
      "Date:                Fri, 21 Oct 2022   AIC                         -21468.242\n",
      "Time:                        10:47:03   BIC                         -21453.877\n",
      "Sample:                             0   HQIC                        -21463.372\n",
      "                               - 9725                                         \n",
      "Covariance Type:                  opg                                         \n",
      "==============================================================================\n",
      "                 coef    std err          z      P>|z|      [0.025      0.975]\n",
      "------------------------------------------------------------------------------\n",
      "const          0.0065     11.230      0.001      1.000     -22.003      22.016\n",
      "sigma2         0.0064      0.146      0.044      0.965      -0.281       0.294\n",
      "===================================================================================\n",
      "Ljung-Box (L1) (Q):                   0.41   Jarque-Bera (JB):           9286305.74\n",
      "Prob(Q):                              0.52   Prob(JB):                         0.00\n",
      "Heteroskedasticity (H):               0.92   Skew:                            12.30\n",
      "Prob(H) (two-sided):                  0.02   Kurtosis:                       152.37\n",
      "===================================================================================\n",
      "\n",
      "Warnings:\n",
      "[1] Covariance matrix calculated using the outer product of gradients (complex-step).\n"
     ]
    }
   ],
   "source": [
    "from statsmodels.tsa.arima.model import ARIMA\n",
    "\n",
    "series = dft.is_fraud\n",
    "X = series\n",
    "size = int(len(X) * 0.75)  \n",
    "train, test = X[0:size], X[size:]\n",
    "history = [x for x in train]\n",
    "model = ARIMA(history, order=(0,0,0))\n",
    "model_fit = model.fit()\n",
    "print(model_fit.summary())"
   ]
  },
  {
   "cell_type": "markdown",
   "id": "f16e1384",
   "metadata": {},
   "source": [
    "### Plot Arima"
   ]
  },
  {
   "cell_type": "code",
   "execution_count": 25,
   "id": "91d96234",
   "metadata": {},
   "outputs": [
    {
     "data": {
      "text/plain": [
       "(3242,)"
      ]
     },
     "execution_count": 25,
     "metadata": {},
     "output_type": "execute_result"
    }
   ],
   "source": [
    "forecast_test = model_fit.forecast(len(test))\n",
    "forecast_test.shape"
   ]
  },
  {
   "cell_type": "code",
   "execution_count": 30,
   "id": "8af62e34",
   "metadata": {},
   "outputs": [
    {
     "name": "stdout",
     "output_type": "stream",
     "text": [
      "[0.00647315 0.00647315 0.00647315 ... 0.00647315 0.00647315 0.00647315]\n"
     ]
    }
   ],
   "source": [
    "print(forecast_test)"
   ]
  },
  {
   "cell_type": "code",
   "execution_count": 26,
   "id": "99b1d15d",
   "metadata": {},
   "outputs": [
    {
     "data": {
      "text/plain": [
       "(3242,)"
      ]
     },
     "execution_count": 26,
     "metadata": {},
     "output_type": "execute_result"
    }
   ],
   "source": [
    "test.shape"
   ]
  },
  {
   "cell_type": "code",
   "execution_count": 28,
   "id": "82da9e54",
   "metadata": {},
   "outputs": [
    {
     "name": "stdout",
     "output_type": "stream",
     "text": [
      "462185     2019-07-22 20:41:48\n",
      "748978     2019-11-16 20:36:53\n",
      "363796     2019-06-17 19:21:21\n",
      "117926     2019-03-07 21:25:02\n",
      "679457     2019-10-16 22:09:43\n",
      "                  ...         \n",
      "70380      2019-02-11 10:47:10\n",
      "1192604    2020-05-12 21:22:12\n",
      "479153     2019-07-29 03:10:14\n",
      "920002     2019-12-30 17:30:04\n",
      "430241     2019-07-12 04:38:32\n",
      "Name: date_time, Length: 3242, dtype: object\n"
     ]
    }
   ],
   "source": [
    "print(dft['date_time'][size:])"
   ]
  },
  {
   "cell_type": "code",
   "execution_count": 52,
   "id": "d4d9e14e",
   "metadata": {},
   "outputs": [
    {
     "data": {
      "image/png": "[encoded data removed]",
      "text/plain": [
       "<Figure size 432x288 with 1 Axes>"
      ]
     },
     "metadata": {
      "needs_background": "light"
     },
     "output_type": "display_data"
    }
   ],
   "source": [
    "plt.scatter(dft['date_time'][size:], test, label=\"Test\")\n",
    "plt.scatter(dft['date_time'][size:], forecast_test, label=\"Predicted\")\n",
    "plt.xlabel('Date and Time')\n",
    "plt.ylabel('Is_Fraud')\n",
    "plt.legend(loc=\"upper left\")\n",
    "plt.xticks(np.arange(0, 3242, 1000), rotation = 90)\n",
    "plt.title('Arima Model')\n",
    "plt.show()"
   ]
  },
  {
   "cell_type": "markdown",
   "id": "9f3d9da2",
   "metadata": {},
   "source": [
    "### Plot Residual"
   ]
  },
  {
   "cell_type": "code",
   "execution_count": 44,
   "id": "c9aa126a",
   "metadata": {},
   "outputs": [],
   "source": [
    "diff = test - forecast_test "
   ]
  },
  {
   "cell_type": "code",
   "execution_count": 54,
   "id": "45f05f11",
   "metadata": {},
   "outputs": [
    {
     "data": {
      "image/png": "[encoded data removed]",
      "text/plain": [
       "<Figure size 432x288 with 1 Axes>"
      ]
     },
     "metadata": {
      "needs_background": "light"
     },
     "output_type": "display_data"
    }
   ],
   "source": [
    "plt.plot(dft['date_time'][size:], diff)\n",
    "plt.xticks(np.arange(0, 3242, 1000), rotation = 90)\n",
    "plt.xlabel('Date and Time')\n",
    "plt.ylabel('Residual')\n",
    "plt.title('Residual of Arima')\n",
    "plt.show()"
   ]
  },
  {
   "cell_type": "code",
   "execution_count": 55,
   "id": "9bc8dc6e",
   "metadata": {},
   "outputs": [
    {
     "name": "stdout",
     "output_type": "stream",
     "text": [
      "The average of the residual is -0.003697082179960212\n"
     ]
    }
   ],
   "source": [
    "from statistics import mean\n",
    "\n",
    "avg = mean(diff)\n",
    "print('The average of the residual is', avg)"
   ]
  },
  {
   "cell_type": "markdown",
   "id": "84f0fd91",
   "metadata": {},
   "source": [
    "Although the average of the residual is low, however, we have to consider that the majority of the data is nonfraudulent data. If we look at the Arima model, it did not predict a single fraudulent behavior when there was some. Let's feed the residual with  the random forest model (with other characteristics)."
   ]
  },
  {
   "cell_type": "markdown",
   "id": "b87e8afa",
   "metadata": {},
   "source": [
    "### Random Forest on Residuals"
   ]
  },
  {
   "cell_type": "code",
   "execution_count": 69,
   "id": "0cd81583",
   "metadata": {},
   "outputs": [
    {
     "data": {
      "text/html": [
       "<div>\n",
       "<style scoped>\n",
       "    .dataframe tbody tr th:only-of-type {\n",
       "        vertical-align: middle;\n",
       "    }\n",
       "\n",
       "    .dataframe tbody tr th {\n",
       "        vertical-align: top;\n",
       "    }\n",
       "\n",
       "    .dataframe thead th {\n",
       "        text-align: right;\n",
       "    }\n",
       "</style>\n",
       "<table border=\"1\" class=\"dataframe\">\n",
       "  <thead>\n",
       "    <tr style=\"text-align: right;\">\n",
       "      <th></th>\n",
       "      <th>date_time</th>\n",
       "      <th>cc_num</th>\n",
       "      <th>merchant</th>\n",
       "      <th>category</th>\n",
       "      <th>amt</th>\n",
       "      <th>first</th>\n",
       "      <th>last</th>\n",
       "      <th>gender</th>\n",
       "      <th>street</th>\n",
       "      <th>city</th>\n",
       "      <th>...</th>\n",
       "      <th>lat</th>\n",
       "      <th>long</th>\n",
       "      <th>city_pop</th>\n",
       "      <th>job</th>\n",
       "      <th>dob</th>\n",
       "      <th>trans_num</th>\n",
       "      <th>unix_time</th>\n",
       "      <th>merch_lat</th>\n",
       "      <th>merch_long</th>\n",
       "      <th>is_fraud</th>\n",
       "    </tr>\n",
       "  </thead>\n",
       "  <tbody>\n",
       "    <tr>\n",
       "      <th>146155</th>\n",
       "      <td>2019-03-19 23:32:48</td>\n",
       "      <td>4900628639996</td>\n",
       "      <td>fraud_Hyatt, Russel and Gleichner</td>\n",
       "      <td>health_fitness</td>\n",
       "      <td>-0.468829</td>\n",
       "      <td>Michael</td>\n",
       "      <td>Johnson</td>\n",
       "      <td>M</td>\n",
       "      <td>094 Owens Underpass</td>\n",
       "      <td>Norwalk</td>\n",
       "      <td>...</td>\n",
       "      <td>33.9056</td>\n",
       "      <td>-118.0818</td>\n",
       "      <td>105549</td>\n",
       "      <td>Firefighter</td>\n",
       "      <td>1973-09-22</td>\n",
       "      <td>48d126431bdeaa6a00f8dda5c6b50ad3</td>\n",
       "      <td>1332199968</td>\n",
       "      <td>34.065722</td>\n",
       "      <td>-118.210461</td>\n",
       "      <td>0</td>\n",
       "    </tr>\n",
       "    <tr>\n",
       "      <th>965642</th>\n",
       "      <td>2020-01-25 08:07:12</td>\n",
       "      <td>213199865312311</td>\n",
       "      <td>fraud_Prohaska-Murray</td>\n",
       "      <td>gas_transport</td>\n",
       "      <td>-0.106555</td>\n",
       "      <td>Christopher</td>\n",
       "      <td>Miller</td>\n",
       "      <td>M</td>\n",
       "      <td>493 Fitzgerald Fields Suite 454</td>\n",
       "      <td>Varnell</td>\n",
       "      <td>...</td>\n",
       "      <td>34.9298</td>\n",
       "      <td>-84.9885</td>\n",
       "      <td>74</td>\n",
       "      <td>Pensions consultant</td>\n",
       "      <td>1944-05-14</td>\n",
       "      <td>f61df1b72610872bf9679520448cbbc5</td>\n",
       "      <td>1359101232</td>\n",
       "      <td>35.717384</td>\n",
       "      <td>-85.831533</td>\n",
       "      <td>0</td>\n",
       "    </tr>\n",
       "    <tr>\n",
       "      <th>85379</th>\n",
       "      <td>2019-02-19 16:52:22</td>\n",
       "      <td>4623560839669</td>\n",
       "      <td>fraud_Bahringer Group</td>\n",
       "      <td>health_fitness</td>\n",
       "      <td>-0.003156</td>\n",
       "      <td>Vincent</td>\n",
       "      <td>Waller</td>\n",
       "      <td>M</td>\n",
       "      <td>9379 Vanessa Run Apt. 400</td>\n",
       "      <td>Lohrville</td>\n",
       "      <td>...</td>\n",
       "      <td>42.2619</td>\n",
       "      <td>-94.5566</td>\n",
       "      <td>695</td>\n",
       "      <td>Administrator</td>\n",
       "      <td>1954-07-15</td>\n",
       "      <td>cb1b3817cb54e1caac80030442ee88d7</td>\n",
       "      <td>1329670342</td>\n",
       "      <td>42.274850</td>\n",
       "      <td>-94.885857</td>\n",
       "      <td>0</td>\n",
       "    </tr>\n",
       "    <tr>\n",
       "      <th>303410</th>\n",
       "      <td>2019-05-27 13:41:47</td>\n",
       "      <td>180067784565096</td>\n",
       "      <td>fraud_Friesen Ltd</td>\n",
       "      <td>health_fitness</td>\n",
       "      <td>-0.177572</td>\n",
       "      <td>Mary</td>\n",
       "      <td>Juarez</td>\n",
       "      <td>F</td>\n",
       "      <td>35440 Ryan Islands</td>\n",
       "      <td>North Prairie</td>\n",
       "      <td>...</td>\n",
       "      <td>42.9385</td>\n",
       "      <td>-88.3950</td>\n",
       "      <td>2328</td>\n",
       "      <td>Applications developer</td>\n",
       "      <td>1942-01-06</td>\n",
       "      <td>f410c5b655951ab704bd47d463633791</td>\n",
       "      <td>1338126107</td>\n",
       "      <td>43.651212</td>\n",
       "      <td>-88.412076</td>\n",
       "      <td>0</td>\n",
       "    </tr>\n",
       "    <tr>\n",
       "      <th>537391</th>\n",
       "      <td>2019-08-18 19:01:05</td>\n",
       "      <td>3567879740649740</td>\n",
       "      <td>fraud_Cruickshank-Mills</td>\n",
       "      <td>entertainment</td>\n",
       "      <td>-0.555657</td>\n",
       "      <td>Tanya</td>\n",
       "      <td>Williams</td>\n",
       "      <td>F</td>\n",
       "      <td>566 Megan Well</td>\n",
       "      <td>Brownville</td>\n",
       "      <td>...</td>\n",
       "      <td>44.0577</td>\n",
       "      <td>-76.0196</td>\n",
       "      <td>1271</td>\n",
       "      <td>Producer, radio</td>\n",
       "      <td>1958-08-14</td>\n",
       "      <td>7d2f581fc4540ec766f1a465c7885ec1</td>\n",
       "      <td>1345316465</td>\n",
       "      <td>44.019274</td>\n",
       "      <td>-75.521793</td>\n",
       "      <td>0</td>\n",
       "    </tr>\n",
       "  </tbody>\n",
       "</table>\n",
       "<p>5 rows × 22 columns</p>\n",
       "</div>"
      ],
      "text/plain": [
       "                  date_time            cc_num  \\\n",
       "146155  2019-03-19 23:32:48     4900628639996   \n",
       "965642  2020-01-25 08:07:12   213199865312311   \n",
       "85379   2019-02-19 16:52:22     4623560839669   \n",
       "303410  2019-05-27 13:41:47   180067784565096   \n",
       "537391  2019-08-18 19:01:05  3567879740649740   \n",
       "\n",
       "                                 merchant        category       amt  \\\n",
       "146155  fraud_Hyatt, Russel and Gleichner  health_fitness -0.468829   \n",
       "965642              fraud_Prohaska-Murray   gas_transport -0.106555   \n",
       "85379               fraud_Bahringer Group  health_fitness -0.003156   \n",
       "303410                  fraud_Friesen Ltd  health_fitness -0.177572   \n",
       "537391            fraud_Cruickshank-Mills   entertainment -0.555657   \n",
       "\n",
       "              first      last gender                           street  \\\n",
       "146155      Michael   Johnson      M              094 Owens Underpass   \n",
       "965642  Christopher    Miller      M  493 Fitzgerald Fields Suite 454   \n",
       "85379       Vincent    Waller      M        9379 Vanessa Run Apt. 400   \n",
       "303410         Mary    Juarez      F               35440 Ryan Islands   \n",
       "537391        Tanya  Williams      F                   566 Megan Well   \n",
       "\n",
       "                 city  ...      lat      long  city_pop  \\\n",
       "146155        Norwalk  ...  33.9056 -118.0818    105549   \n",
       "965642        Varnell  ...  34.9298  -84.9885        74   \n",
       "85379       Lohrville  ...  42.2619  -94.5566       695   \n",
       "303410  North Prairie  ...  42.9385  -88.3950      2328   \n",
       "537391     Brownville  ...  44.0577  -76.0196      1271   \n",
       "\n",
       "                           job         dob                         trans_num  \\\n",
       "146155             Firefighter  1973-09-22  48d126431bdeaa6a00f8dda5c6b50ad3   \n",
       "965642     Pensions consultant  1944-05-14  f61df1b72610872bf9679520448cbbc5   \n",
       "85379            Administrator  1954-07-15  cb1b3817cb54e1caac80030442ee88d7   \n",
       "303410  Applications developer  1942-01-06  f410c5b655951ab704bd47d463633791   \n",
       "537391         Producer, radio  1958-08-14  7d2f581fc4540ec766f1a465c7885ec1   \n",
       "\n",
       "         unix_time  merch_lat  merch_long  is_fraud  \n",
       "146155  1332199968  34.065722 -118.210461         0  \n",
       "965642  1359101232  35.717384  -85.831533         0  \n",
       "85379   1329670342  42.274850  -94.885857         0  \n",
       "303410  1338126107  43.651212  -88.412076         0  \n",
       "537391  1345316465  44.019274  -75.521793         0  \n",
       "\n",
       "[5 rows x 22 columns]"
      ]
     },
     "execution_count": 69,
     "metadata": {},
     "output_type": "execute_result"
    }
   ],
   "source": [
    "df.head()"
   ]
  },
  {
   "cell_type": "code",
   "execution_count": 150,
   "id": "8354cccc",
   "metadata": {},
   "outputs": [],
   "source": [
    "# create a new dataframe from the residuals\n",
    "df_rf = pd.DataFrame(diff)\n",
    "df_rf = df_rf.rename(columns = {'is_fraud':'residual'})"
   ]
  },
  {
   "cell_type": "code",
   "execution_count": 179,
   "id": "d02690e9",
   "metadata": {},
   "outputs": [
    {
     "data": {
      "text/html": [
       "<div>\n",
       "<style scoped>\n",
       "    .dataframe tbody tr th:only-of-type {\n",
       "        vertical-align: middle;\n",
       "    }\n",
       "\n",
       "    .dataframe tbody tr th {\n",
       "        vertical-align: top;\n",
       "    }\n",
       "\n",
       "    .dataframe thead th {\n",
       "        text-align: right;\n",
       "    }\n",
       "</style>\n",
       "<table border=\"1\" class=\"dataframe\">\n",
       "  <thead>\n",
       "    <tr style=\"text-align: right;\">\n",
       "      <th></th>\n",
       "      <th>residual</th>\n",
       "      <th>amt</th>\n",
       "      <th>city_pop</th>\n",
       "      <th>is_fraud</th>\n",
       "      <th>date_time</th>\n",
       "    </tr>\n",
       "  </thead>\n",
       "  <tbody>\n",
       "    <tr>\n",
       "      <th>0</th>\n",
       "      <td>-0.006473</td>\n",
       "      <td>-0.355877</td>\n",
       "      <td>2526</td>\n",
       "      <td>0</td>\n",
       "      <td>2019-07-22 20:41:48</td>\n",
       "    </tr>\n",
       "    <tr>\n",
       "      <th>1</th>\n",
       "      <td>-0.006473</td>\n",
       "      <td>-0.282408</td>\n",
       "      <td>239</td>\n",
       "      <td>0</td>\n",
       "      <td>2019-11-16 20:36:53</td>\n",
       "    </tr>\n",
       "    <tr>\n",
       "      <th>2</th>\n",
       "      <td>-0.006473</td>\n",
       "      <td>0.571918</td>\n",
       "      <td>1506</td>\n",
       "      <td>0</td>\n",
       "      <td>2019-06-17 19:21:21</td>\n",
       "    </tr>\n",
       "    <tr>\n",
       "      <th>3</th>\n",
       "      <td>-0.006473</td>\n",
       "      <td>-0.457754</td>\n",
       "      <td>2523</td>\n",
       "      <td>0</td>\n",
       "      <td>2019-03-07 21:25:02</td>\n",
       "    </tr>\n",
       "    <tr>\n",
       "      <th>4</th>\n",
       "      <td>-0.006473</td>\n",
       "      <td>-0.562505</td>\n",
       "      <td>1334</td>\n",
       "      <td>0</td>\n",
       "      <td>2019-10-16 22:09:43</td>\n",
       "    </tr>\n",
       "    <tr>\n",
       "      <th>...</th>\n",
       "      <td>...</td>\n",
       "      <td>...</td>\n",
       "      <td>...</td>\n",
       "      <td>...</td>\n",
       "      <td>...</td>\n",
       "    </tr>\n",
       "    <tr>\n",
       "      <th>3237</th>\n",
       "      <td>-0.006473</td>\n",
       "      <td>-0.431460</td>\n",
       "      <td>753116</td>\n",
       "      <td>0</td>\n",
       "      <td>2019-02-11 10:47:10</td>\n",
       "    </tr>\n",
       "    <tr>\n",
       "      <th>3238</th>\n",
       "      <td>-0.006473</td>\n",
       "      <td>-0.501802</td>\n",
       "      <td>5760</td>\n",
       "      <td>0</td>\n",
       "      <td>2020-05-12 21:22:12</td>\n",
       "    </tr>\n",
       "    <tr>\n",
       "      <th>3239</th>\n",
       "      <td>-0.006473</td>\n",
       "      <td>0.221818</td>\n",
       "      <td>302</td>\n",
       "      <td>0</td>\n",
       "      <td>2019-07-29 03:10:14</td>\n",
       "    </tr>\n",
       "    <tr>\n",
       "      <th>3240</th>\n",
       "      <td>-0.006473</td>\n",
       "      <td>-0.248252</td>\n",
       "      <td>1078</td>\n",
       "      <td>0</td>\n",
       "      <td>2019-12-30 17:30:04</td>\n",
       "    </tr>\n",
       "    <tr>\n",
       "      <th>3241</th>\n",
       "      <td>-0.006473</td>\n",
       "      <td>0.554502</td>\n",
       "      <td>795</td>\n",
       "      <td>0</td>\n",
       "      <td>2019-07-12 04:38:32</td>\n",
       "    </tr>\n",
       "  </tbody>\n",
       "</table>\n",
       "<p>3242 rows × 5 columns</p>\n",
       "</div>"
      ],
      "text/plain": [
       "      residual       amt  city_pop  is_fraud            date_time\n",
       "0    -0.006473 -0.355877      2526         0  2019-07-22 20:41:48\n",
       "1    -0.006473 -0.282408       239         0  2019-11-16 20:36:53\n",
       "2    -0.006473  0.571918      1506         0  2019-06-17 19:21:21\n",
       "3    -0.006473 -0.457754      2523         0  2019-03-07 21:25:02\n",
       "4    -0.006473 -0.562505      1334         0  2019-10-16 22:09:43\n",
       "...        ...       ...       ...       ...                  ...\n",
       "3237 -0.006473 -0.431460    753116         0  2019-02-11 10:47:10\n",
       "3238 -0.006473 -0.501802      5760         0  2020-05-12 21:22:12\n",
       "3239 -0.006473  0.221818       302         0  2019-07-29 03:10:14\n",
       "3240 -0.006473 -0.248252      1078         0  2019-12-30 17:30:04\n",
       "3241 -0.006473  0.554502       795         0  2019-07-12 04:38:32\n",
       "\n",
       "[3242 rows x 5 columns]"
      ]
     },
     "execution_count": 179,
     "metadata": {},
     "output_type": "execute_result"
    }
   ],
   "source": [
    "df_rf['date_time'] = df['date_time'][size:]\n",
    "df_rf['amt'] = df['amt'][size:]\n",
    "df_rf['city_pop'] = df['city_pop'][size:]\n",
    "df_rf['is_fraud'] = df['is_fraud'][size:]\n",
    "df_rf.reset_index(drop=True)"
   ]
  },
  {
   "cell_type": "code",
   "execution_count": 180,
   "id": "5ccf82ba",
   "metadata": {},
   "outputs": [],
   "source": [
    "from sklearn.model_selection import train_test_split\n",
    "\n",
    "X = df_rf[['amt', 'city_pop']]\n",
    "y = df_rf['is_fraud']"
   ]
  },
  {
   "cell_type": "code",
   "execution_count": 181,
   "id": "a6e3b3b8",
   "metadata": {},
   "outputs": [],
   "source": [
    "X_train, X_test, y_train, y_test = train_test_split(X, y, test_size = 0.25, random_state = 1)"
   ]
  },
  {
   "cell_type": "code",
   "execution_count": 182,
   "id": "34edbe57",
   "metadata": {},
   "outputs": [
    {
     "data": {
      "text/plain": [
       "SelectFromModel(estimator=RandomForestClassifier())"
      ]
     },
     "execution_count": 182,
     "metadata": {},
     "output_type": "execute_result"
    }
   ],
   "source": [
    "from sklearn.ensemble import RandomForestClassifier\n",
    "from sklearn.feature_selection import SelectFromModel\n",
    "\n",
    "sel = SelectFromModel(RandomForestClassifier(n_estimators = 100))\n",
    "sel.fit(X_train, y_train)"
   ]
  },
  {
   "cell_type": "code",
   "execution_count": 183,
   "id": "eb9a0802",
   "metadata": {},
   "outputs": [
    {
     "data": {
      "text/plain": [
       "array([ True, False])"
      ]
     },
     "execution_count": 183,
     "metadata": {},
     "output_type": "execute_result"
    }
   ],
   "source": [
    "sel.get_support()"
   ]
  },
  {
   "cell_type": "markdown",
   "id": "874f58be",
   "metadata": {},
   "source": [
    "This means that between transaction amount and city population, transaction amount is the best feature we should look at."
   ]
  },
  {
   "cell_type": "code",
   "execution_count": 184,
   "id": "fcf03570",
   "metadata": {},
   "outputs": [
    {
     "data": {
      "text/plain": [
       "1"
      ]
     },
     "execution_count": 184,
     "metadata": {},
     "output_type": "execute_result"
    }
   ],
   "source": [
    "# It will return an Integer representing the number of features selected by the random forest\n",
    "\n",
    "selected_feat= X_train.columns[(sel.get_support())]\n",
    "len(selected_feat)"
   ]
  },
  {
   "cell_type": "code",
   "execution_count": 185,
   "id": "22519d21",
   "metadata": {},
   "outputs": [
    {
     "name": "stdout",
     "output_type": "stream",
     "text": [
      "Index(['amt'], dtype='object')\n"
     ]
    }
   ],
   "source": [
    "print(selected_feat)"
   ]
  },
  {
   "cell_type": "markdown",
   "id": "9a5698d1",
   "metadata": {},
   "source": [
    "Seeing as transaction amount is the best feature to look at, we will do further analysis on transaction amount and the residuals from our arima model in the next section."
   ]
  },
  {
   "cell_type": "markdown",
   "id": "209eae66",
   "metadata": {},
   "source": [
    "## Train Test Split - Amount"
   ]
  },
  {
   "cell_type": "code",
   "execution_count": 12,
   "id": "f4e796f4",
   "metadata": {},
   "outputs": [],
   "source": [
    "X = dfa.drop('is_fraud', axis = 1).values\n",
    "y = dfa['is_fraud'].values"
   ]
  },
  {
   "cell_type": "code",
   "execution_count": 13,
   "id": "f8bfeb6b",
   "metadata": {},
   "outputs": [],
   "source": [
    "X_train, X_test, y_train, y_test = train_test_split(X, y, test_size = 0.25, random_state = 1)"
   ]
  },
  {
   "cell_type": "markdown",
   "id": "330e0499",
   "metadata": {},
   "source": [
    "### Decision Tree Classifier"
   ]
  },
  {
   "cell_type": "code",
   "execution_count": 14,
   "id": "3c9cb9d1",
   "metadata": {},
   "outputs": [],
   "source": [
    "DT = DecisionTreeClassifier(max_depth = 4, criterion = 'entropy')\n",
    "DT.fit(X_train, y_train)\n",
    "dt_yhat = DT.predict(X_test)"
   ]
  },
  {
   "cell_type": "code",
   "execution_count": 15,
   "id": "a2ce1be9",
   "metadata": {},
   "outputs": [
    {
     "name": "stdout",
     "output_type": "stream",
     "text": [
      "Accuracy score of the Decision Tree model is 0.9944478716841456\n",
      "F1 score of the Decision Tree model is 0.43749999999999994\n"
     ]
    },
    {
     "data": {
      "text/plain": [
       "array([[3217,   10],\n",
       "       [   8,    7]], dtype=int64)"
      ]
     },
     "execution_count": 15,
     "metadata": {},
     "output_type": "execute_result"
    }
   ],
   "source": [
    "from sklearn.metrics import confusion_matrix\n",
    "from sklearn.metrics import f1_score\n",
    "from sklearn.metrics import accuracy_score\n",
    "\n",
    "print('Accuracy score of the Decision Tree model is {}'.format(accuracy_score(y_test, dt_yhat)))\n",
    "print('F1 score of the Decision Tree model is {}'.format(f1_score(y_test, dt_yhat)))\n",
    "confusion_matrix(y_test, dt_yhat, labels = [0, 1])"
   ]
  },
  {
   "cell_type": "markdown",
   "id": "7de01b46",
   "metadata": {},
   "source": [
    "Here, the first row represents positive and the second row represents negative. So, we have 3219 as true positive and 0 are false positive. We have 3219 that are successfully classified as a nonfraudulent transaction and 0 were falsely classified as nonfraudulent, but they were fraudulent. For the accuracy and F1 score, generally we want the score closer to 1. The accuracy score of the Decision Tree model is pretty good but the F1 score is alright."
   ]
  },
  {
   "cell_type": "markdown",
   "id": "f2a8c1c7",
   "metadata": {},
   "source": [
    "### K-Nearest Neighbors"
   ]
  },
  {
   "cell_type": "code",
   "execution_count": 16,
   "id": "a6b68ac2",
   "metadata": {},
   "outputs": [],
   "source": [
    "from sklearn.neighbors import KNeighborsClassifier\n",
    "\n",
    "n = 7\n",
    "KNN = KNeighborsClassifier(n_neighbors = n)\n",
    "KNN.fit(X_train, y_train)\n",
    "knn_yhat = KNN.predict(X_test)"
   ]
  },
  {
   "cell_type": "code",
   "execution_count": 17,
   "id": "259d5b3e",
   "metadata": {},
   "outputs": [
    {
     "name": "stdout",
     "output_type": "stream",
     "text": [
      "Accuracy score of the K-Nearest Neighbors model is 0.9956816779765577\n",
      "F1 score of the K-Nearest Neighbors model is 0.4615384615384615\n"
     ]
    },
    {
     "data": {
      "text/plain": [
       "array([[3222,    5],\n",
       "       [   9,    6]], dtype=int64)"
      ]
     },
     "execution_count": 17,
     "metadata": {},
     "output_type": "execute_result"
    }
   ],
   "source": [
    "print('Accuracy score of the K-Nearest Neighbors model is {}'.format(accuracy_score(y_test, knn_yhat)))\n",
    "print('F1 score of the K-Nearest Neighbors model is {}'.format(f1_score(y_test, knn_yhat)))\n",
    "confusion_matrix(y_test, knn_yhat, labels = [0, 1])"
   ]
  },
  {
   "cell_type": "markdown",
   "id": "01fc8c11",
   "metadata": {},
   "source": [
    "### Logistic Regression"
   ]
  },
  {
   "cell_type": "code",
   "execution_count": 18,
   "id": "4ff421fe",
   "metadata": {},
   "outputs": [],
   "source": [
    "from sklearn.linear_model import LogisticRegression\n",
    "\n",
    "lr = LogisticRegression()\n",
    "lr.fit(X_train, y_train)\n",
    "lr_yhat = lr.predict(X_test)"
   ]
  },
  {
   "cell_type": "code",
   "execution_count": 19,
   "id": "d030c609",
   "metadata": {},
   "outputs": [
    {
     "name": "stdout",
     "output_type": "stream",
     "text": [
      "Accuracy score of the Logistic Regression model is 0.9953732264034546\n",
      "F1 score of the Logistic Regression model is 0.0\n"
     ]
    },
    {
     "data": {
      "text/plain": [
       "array([[3227,    0],\n",
       "       [  15,    0]], dtype=int64)"
      ]
     },
     "execution_count": 19,
     "metadata": {},
     "output_type": "execute_result"
    }
   ],
   "source": [
    "print('Accuracy score of the Logistic Regression model is {}'.format(accuracy_score(y_test, lr_yhat)))\n",
    "print('F1 score of the Logistic Regression model is {}'.format(f1_score(y_test, lr_yhat)))\n",
    "confusion_matrix(y_test, lr_yhat, labels = [0, 1])"
   ]
  },
  {
   "cell_type": "markdown",
   "id": "885a1cc2",
   "metadata": {},
   "source": [
    "### Random Forest"
   ]
  },
  {
   "cell_type": "code",
   "execution_count": 20,
   "id": "5acebb49",
   "metadata": {},
   "outputs": [],
   "source": [
    "from sklearn.ensemble import RandomForestClassifier\n",
    "\n",
    "rf = RandomForestClassifier(max_depth = 4)\n",
    "rf.fit(X_train, y_train)\n",
    "rf_yhat = rf.predict(X_test)"
   ]
  },
  {
   "cell_type": "code",
   "execution_count": 21,
   "id": "dafb5dc9",
   "metadata": {},
   "outputs": [
    {
     "name": "stdout",
     "output_type": "stream",
     "text": [
      "Accuracy score of the Random Forest model is 0.9953732264034546\n",
      "F1 score of the Random Forest model is 0.4444444444444445\n"
     ]
    },
    {
     "data": {
      "text/plain": [
       "array([[3221,    6],\n",
       "       [   9,    6]], dtype=int64)"
      ]
     },
     "execution_count": 21,
     "metadata": {},
     "output_type": "execute_result"
    }
   ],
   "source": [
    "print('Accuracy score of the Random Forest model is {}'.format(accuracy_score(y_test, rf_yhat)))\n",
    "print('F1 score of the Random Forest model is {}'.format(f1_score(y_test, rf_yhat)))\n",
    "confusion_matrix(y_test, rf_yhat, labels = [0, 1])"
   ]
  },
  {
   "cell_type": "markdown",
   "id": "0f4b8ba1",
   "metadata": {},
   "source": [
    "### XGBoost"
   ]
  },
  {
   "cell_type": "code",
   "execution_count": 22,
   "id": "9250be60",
   "metadata": {},
   "outputs": [],
   "source": [
    "from xgboost import XGBClassifier\n",
    "\n",
    "xgb = XGBClassifier(max_depth = 4)\n",
    "xgb.fit(X_train, y_train)\n",
    "xgb_yhat = xgb.predict(X_test)"
   ]
  },
  {
   "cell_type": "code",
   "execution_count": 23,
   "id": "56e31568",
   "metadata": {},
   "outputs": [
    {
     "name": "stdout",
     "output_type": "stream",
     "text": [
      "Accuracy score of the XGBoost model is 0.9953732264034546\n",
      "F1 score of the XGBoost model is 0.3478260869565218\n"
     ]
    },
    {
     "data": {
      "text/plain": [
       "array([[3223,    4],\n",
       "       [  11,    4]], dtype=int64)"
      ]
     },
     "execution_count": 23,
     "metadata": {},
     "output_type": "execute_result"
    }
   ],
   "source": [
    "print('Accuracy score of the XGBoost model is {}'.format(accuracy_score(y_test, xgb_yhat)))\n",
    "print('F1 score of the XGBoost model is {}'.format(f1_score(y_test, xgb_yhat)))\n",
    "confusion_matrix(y_test, xgb_yhat, labels = [0, 1])"
   ]
  },
  {
   "cell_type": "markdown",
   "id": "5ecd2f2c",
   "metadata": {},
   "source": [
    "### Hybrid XGBoost Model - XGBoost and Random Forest Classifier"
   ]
  },
  {
   "cell_type": "code",
   "execution_count": 24,
   "id": "e062e9ad",
   "metadata": {},
   "outputs": [],
   "source": [
    "from xgboost import XGBRFClassifier\n",
    "\n",
    "xgbrf = XGBRFClassifier()\n",
    "xgbrf.fit(X_train, y_train)\n",
    "xgbrf_yhat = xgb.predict(X_test)"
   ]
  },
  {
   "cell_type": "code",
   "execution_count": 25,
   "id": "ac98e3d2",
   "metadata": {},
   "outputs": [
    {
     "name": "stdout",
     "output_type": "stream",
     "text": [
      "Accuracy score of the XGBRF model is 0.9953732264034546\n",
      "F1 score of the XGBRF model is 0.3478260869565218\n"
     ]
    },
    {
     "data": {
      "text/plain": [
       "array([[3223,    4],\n",
       "       [  11,    4]], dtype=int64)"
      ]
     },
     "execution_count": 25,
     "metadata": {},
     "output_type": "execute_result"
    }
   ],
   "source": [
    "print('Accuracy score of the XGBRF model is {}'.format(accuracy_score(y_test, xgbrf_yhat)))\n",
    "print('F1 score of the XGBRF model is {}'.format(f1_score(y_test, xgbrf_yhat)))\n",
    "confusion_matrix(y_test, xgbrf_yhat, labels = [0, 1])"
   ]
  },
  {
   "cell_type": "markdown",
   "id": "43601a17",
   "metadata": {},
   "source": [
    "## Overall Scores"
   ]
  },
  {
   "cell_type": "code",
   "execution_count": 26,
   "id": "527b789d",
   "metadata": {},
   "outputs": [],
   "source": [
    "accuracy = [accuracy_score(y_test, dt_yhat), accuracy_score(y_test, knn_yhat), accuracy_score(y_test, lr_yhat), \n",
    "            accuracy_score(y_test, xgb_yhat), accuracy_score(y_test, xgbrf_yhat)]\n",
    "f1 = [f1_score(y_test, dt_yhat), f1_score(y_test, knn_yhat), f1_score(y_test, lr_yhat), \n",
    "            f1_score(y_test, xgb_yhat), f1_score(y_test, xgbrf_yhat)]\n",
    "names = ['DT', 'KNN', 'LR', 'XGB', 'XBGRF']"
   ]
  },
  {
   "cell_type": "code",
   "execution_count": 27,
   "id": "94257882",
   "metadata": {},
   "outputs": [],
   "source": [
    "def scores(accuracy, f1, names):\n",
    "    for i in range(0, 5):\n",
    "        print('For', names[i])\n",
    "        print('It has an accuracy score of', accuracy[i])\n",
    "        print('And an F1 score of', f1[i])"
   ]
  },
  {
   "cell_type": "code",
   "execution_count": 28,
   "id": "f6fe8630",
   "metadata": {},
   "outputs": [
    {
     "name": "stdout",
     "output_type": "stream",
     "text": [
      "For DT\n",
      "It has an accuracy score of 0.9944478716841456\n",
      "And an F1 score of 0.43749999999999994\n",
      "For KNN\n",
      "It has an accuracy score of 0.9956816779765577\n",
      "And an F1 score of 0.4615384615384615\n",
      "For LR\n",
      "It has an accuracy score of 0.9953732264034546\n",
      "And an F1 score of 0.0\n",
      "For XGB\n",
      "It has an accuracy score of 0.9953732264034546\n",
      "And an F1 score of 0.3478260869565218\n",
      "For XBGRF\n",
      "It has an accuracy score of 0.9953732264034546\n",
      "And an F1 score of 0.3478260869565218\n"
     ]
    }
   ],
   "source": [
    "scores(accuracy, f1, names)"
   ]
  },
  {
   "cell_type": "code",
   "execution_count": 29,
   "id": "88633bcf",
   "metadata": {},
   "outputs": [
    {
     "data": {
      "text/plain": [
       "0.9956816779765577"
      ]
     },
     "execution_count": 29,
     "metadata": {},
     "output_type": "execute_result"
    }
   ],
   "source": [
    "max(accuracy)"
   ]
  },
  {
   "cell_type": "code",
   "execution_count": 30,
   "id": "558f5d47",
   "metadata": {},
   "outputs": [
    {
     "data": {
      "text/plain": [
       "0.4615384615384615"
      ]
     },
     "execution_count": 30,
     "metadata": {},
     "output_type": "execute_result"
    }
   ],
   "source": [
    "max(f1)"
   ]
  },
  {
   "cell_type": "markdown",
   "id": "14f7a8c0",
   "metadata": {},
   "source": [
    "Decision Tree Classifier has the highest accuracy score but XGBoost and XGBoost/Random Forest has the highest F1 score. So how do we choose between the two?"
   ]
  },
  {
   "cell_type": "markdown",
   "id": "46150a0e",
   "metadata": {},
   "source": [
    "### Explanation"
   ]
  },
  {
   "cell_type": "markdown",
   "id": "ee83578e",
   "metadata": {},
   "source": [
    "Remember that the F1 score is balancing precision and recall on the positive class while accuracy looks at correctly classified observations both positive and negative. That makes a big difference especially for the imbalanced problems where by default our model will be good at predicting true negatives and hence accuracy will be high. However, if you care equally about true negatives and true positives then accuracy is the metric you should choose. \n",
    "\n",
    "Since our dataset is naturally imbalanced, it will make our accuracy score really high by default. That is why we will care more about the F1 score in this case.\n",
    "\n",
    "Therefore, the best model is the XGBoost and XGBRF which has the same accuracy and F1 score. We have an accuracy of 99.35% and a F1 score of 32.26%"
   ]
  },
  {
   "cell_type": "markdown",
   "id": "2bec5fc6",
   "metadata": {},
   "source": [
    "### Using Random Forest on Residuals"
   ]
  },
  {
   "cell_type": "code",
   "execution_count": 201,
   "id": "784489a8",
   "metadata": {},
   "outputs": [
    {
     "name": "stdout",
     "output_type": "stream",
     "text": [
      "(2431,)\n",
      "(811,)\n"
     ]
    }
   ],
   "source": [
    "X_test = df_rf['residual'][int(len(df_rf)*0.75):].values\n",
    "X_train = df_rf['residual'][:int(len(df_rf)*0.75)].values\n",
    "print(X_train.shape)\n",
    "print(X_test.shape)"
   ]
  },
  {
   "cell_type": "code",
   "execution_count": 205,
   "id": "f99626d0",
   "metadata": {},
   "outputs": [],
   "source": [
    "y_test = df_rf['is_fraud'][int(len(df_rf)*0.75):].values\n",
    "y_train = df_rf['is_fraud'][:int(len(df_rf)*0.75)].values"
   ]
  },
  {
   "cell_type": "code",
   "execution_count": 207,
   "id": "5760ad87",
   "metadata": {},
   "outputs": [
    {
     "ename": "ValueError",
     "evalue": "Expected 2D array, got 1D array instead:\narray=[-0.00647315 -0.00647315 -0.00647315 -0.00647315 -0.00647315 -0.00647315\n -0.00647315 -0.00647315 -0.00647315 -0.00647315 -0.00647315 -0.00647315\n -0.00647315 -0.00647315 -0.00647315 -0.00647315 -0.00647315 -0.00647315\n -0.00647315 -0.00647315 -0.00647315 -0.00647315 -0.00647315 -0.00647315\n -0.00647315 -0.00647315 -0.00647315 -0.00647315 -0.00647315 -0.00647315\n -0.00647315 -0.00647315 -0.00647315 -0.00647315 -0.00647315 -0.00647315\n -0.00647315 -0.00647315 -0.00647315 -0.00647315 -0.00647315 -0.00647315\n -0.00647315 -0.00647315 -0.00647315 -0.00647315 -0.00647315 -0.00647315\n -0.00647315 -0.00647315 -0.00647315 -0.00647315 -0.00647315 -0.00647315\n -0.00647315 -0.00647315 -0.00647315 -0.00647315 -0.00647315 -0.00647315\n -0.00647315 -0.00647315 -0.00647315 -0.00647315 -0.00647315 -0.00647315\n -0.00647315 -0.00647315 -0.00647315 -0.00647315 -0.00647315 -0.00647315\n -0.00647315 -0.00647315 -0.00647315 -0.00647315 -0.00647315 -0.00647315\n -0.00647315 -0.00647315 -0.00647315 -0.00647315 -0.00647315 -0.00647315\n -0.00647315 -0.00647315 -0.00647315 -0.00647315 -0.00647315 -0.00647315\n -0.00647315 -0.00647315 -0.00647315 -0.00647315 -0.00647315 -0.00647315\n -0.00647315 -0.00647315 -0.00647315 -0.00647315 -0.00647315 -0.00647315\n -0.00647315  0.9935269  -0.00647315 -0.00647315 -0.00647315 -0.00647315\n -0.00647315 -0.00647315 -0.00647315 -0.00647315 -0.00647315 -0.00647315\n -0.00647315 -0.00647315 -0.00647315 -0.00647315 -0.00647315 -0.00647315\n -0.00647315 -0.00647315 -0.00647315 -0.00647315 -0.00647315 -0.00647315\n -0.00647315 -0.00647315 -0.00647315 -0.00647315 -0.00647315 -0.00647315\n -0.00647315 -0.00647315 -0.00647315 -0.00647315 -0.00647315 -0.00647315\n -0.00647315 -0.00647315 -0.00647315 -0.00647315 -0.00647315 -0.00647315\n -0.00647315 -0.00647315 -0.00647315 -0.00647315 -0.00647315 -0.00647315\n -0.00647315 -0.00647315 -0.00647315 -0.00647315 -0.00647315 -0.00647315\n -0.00647315 -0.00647315 -0.00647315 -0.00647315 -0.00647315 -0.00647315\n -0.00647315 -0.00647315 -0.00647315 -0.00647315 -0.00647315 -0.00647315\n -0.00647315 -0.00647315 -0.00647315 -0.00647315 -0.00647315 -0.00647315\n -0.00647315 -0.00647315 -0.00647315 -0.00647315 -0.00647315 -0.00647315\n -0.00647315 -0.00647315 -0.00647315 -0.00647315 -0.00647315 -0.00647315\n -0.00647315 -0.00647315 -0.00647315 -0.00647315 -0.00647315 -0.00647315\n -0.00647315 -0.00647315 -0.00647315 -0.00647315 -0.00647315 -0.00647315\n -0.00647315 -0.00647315 -0.00647315 -0.00647315 -0.00647315 -0.00647315\n -0.00647315 -0.00647315 -0.00647315 -0.00647315 -0.00647315 -0.00647315\n -0.00647315 -0.00647315 -0.00647315 -0.00647315 -0.00647315 -0.00647315\n -0.00647315 -0.00647315 -0.00647315 -0.00647315 -0.00647315 -0.00647315\n -0.00647315 -0.00647315 -0.00647315 -0.00647315 -0.00647315 -0.00647315\n -0.00647315 -0.00647315 -0.00647315 -0.00647315 -0.00647315 -0.00647315\n -0.00647315 -0.00647315 -0.00647315 -0.00647315  0.9935269  -0.00647315\n -0.00647315 -0.00647315 -0.00647315 -0.00647315 -0.00647315 -0.00647315\n -0.00647315 -0.00647315 -0.00647315 -0.00647315 -0.00647315 -0.00647315\n -0.00647315 -0.00647315 -0.00647315 -0.00647315 -0.00647315 -0.00647315\n -0.00647315 -0.00647315 -0.00647315 -0.00647315 -0.00647315 -0.00647315\n -0.00647315 -0.00647315 -0.00647315 -0.00647315 -0.00647315 -0.00647315\n -0.00647315 -0.00647315 -0.00647315 -0.00647315 -0.00647315 -0.00647315\n -0.00647315 -0.00647315 -0.00647315 -0.00647315 -0.00647315 -0.00647315\n -0.00647315 -0.00647315 -0.00647315 -0.00647315 -0.00647315 -0.00647315\n -0.00647315 -0.00647315 -0.00647315 -0.00647315 -0.00647315 -0.00647315\n -0.00647315 -0.00647315 -0.00647315 -0.00647315 -0.00647315 -0.00647315\n -0.00647315 -0.00647315 -0.00647315 -0.00647315 -0.00647315 -0.00647315\n -0.00647315 -0.00647315 -0.00647315 -0.00647315 -0.00647315 -0.00647315\n -0.00647315 -0.00647315 -0.00647315 -0.00647315 -0.00647315 -0.00647315\n -0.00647315 -0.00647315 -0.00647315 -0.00647315 -0.00647315 -0.00647315\n -0.00647315 -0.00647315 -0.00647315 -0.00647315 -0.00647315 -0.00647315\n -0.00647315 -0.00647315 -0.00647315 -0.00647315 -0.00647315 -0.00647315\n -0.00647315 -0.00647315 -0.00647315 -0.00647315 -0.00647315 -0.00647315\n -0.00647315 -0.00647315 -0.00647315 -0.00647315 -0.00647315 -0.00647315\n -0.00647315 -0.00647315 -0.00647315 -0.00647315 -0.00647315 -0.00647315\n -0.00647315 -0.00647315 -0.00647315 -0.00647315 -0.00647315 -0.00647315\n -0.00647315 -0.00647315 -0.00647315 -0.00647315 -0.00647315 -0.00647315\n -0.00647315 -0.00647315 -0.00647315 -0.00647315 -0.00647315 -0.00647315\n -0.00647315 -0.00647315 -0.00647315 -0.00647315 -0.00647315 -0.00647315\n -0.00647315 -0.00647315 -0.00647315 -0.00647315 -0.00647315 -0.00647315\n -0.00647315 -0.00647315 -0.00647315 -0.00647315 -0.00647315 -0.00647315\n -0.00647315 -0.00647315 -0.00647315 -0.00647315 -0.00647315 -0.00647315\n -0.00647315 -0.00647315 -0.00647315 -0.00647315 -0.00647315 -0.00647315\n -0.00647315 -0.00647315 -0.00647315 -0.00647315 -0.00647315 -0.00647315\n -0.00647315 -0.00647315 -0.00647315 -0.00647315 -0.00647315 -0.00647315\n -0.00647315 -0.00647315 -0.00647315 -0.00647315 -0.00647315 -0.00647315\n -0.00647315 -0.00647315 -0.00647315 -0.00647315 -0.00647315 -0.00647315\n -0.00647315 -0.00647315 -0.00647315 -0.00647315 -0.00647315 -0.00647315\n -0.00647315 -0.00647315 -0.00647315 -0.00647315 -0.00647315 -0.00647315\n -0.00647315 -0.00647315 -0.00647315 -0.00647315 -0.00647315 -0.00647315\n -0.00647315 -0.00647315 -0.00647315 -0.00647315 -0.00647315 -0.00647315\n -0.00647315 -0.00647315 -0.00647315 -0.00647315 -0.00647315 -0.00647315\n -0.00647315 -0.00647315 -0.00647315 -0.00647315 -0.00647315 -0.00647315\n -0.00647315 -0.00647315 -0.00647315 -0.00647315 -0.00647315 -0.00647315\n -0.00647315 -0.00647315 -0.00647315 -0.00647315 -0.00647315 -0.00647315\n -0.00647315 -0.00647315 -0.00647315 -0.00647315 -0.00647315 -0.00647315\n -0.00647315 -0.00647315 -0.00647315 -0.00647315 -0.00647315 -0.00647315\n -0.00647315 -0.00647315 -0.00647315 -0.00647315 -0.00647315 -0.00647315\n -0.00647315 -0.00647315 -0.00647315 -0.00647315 -0.00647315 -0.00647315\n -0.00647315 -0.00647315 -0.00647315 -0.00647315 -0.00647315 -0.00647315\n -0.00647315 -0.00647315 -0.00647315 -0.00647315 -0.00647315 -0.00647315\n -0.00647315 -0.00647315 -0.00647315 -0.00647315 -0.00647315 -0.00647315\n -0.00647315 -0.00647315 -0.00647315 -0.00647315 -0.00647315 -0.00647315\n -0.00647315 -0.00647315 -0.00647315 -0.00647315 -0.00647315 -0.00647315\n -0.00647315 -0.00647315 -0.00647315 -0.00647315 -0.00647315 -0.00647315\n -0.00647315 -0.00647315 -0.00647315 -0.00647315 -0.00647315 -0.00647315\n -0.00647315 -0.00647315 -0.00647315 -0.00647315 -0.00647315 -0.00647315\n -0.00647315 -0.00647315 -0.00647315 -0.00647315 -0.00647315 -0.00647315\n -0.00647315 -0.00647315 -0.00647315 -0.00647315 -0.00647315 -0.00647315\n -0.00647315 -0.00647315 -0.00647315 -0.00647315 -0.00647315 -0.00647315\n -0.00647315 -0.00647315 -0.00647315 -0.00647315 -0.00647315 -0.00647315\n -0.00647315 -0.00647315 -0.00647315 -0.00647315 -0.00647315 -0.00647315\n -0.00647315 -0.00647315 -0.00647315 -0.00647315 -0.00647315 -0.00647315\n -0.00647315 -0.00647315 -0.00647315 -0.00647315 -0.00647315 -0.00647315\n -0.00647315 -0.00647315 -0.00647315 -0.00647315 -0.00647315 -0.00647315\n -0.00647315 -0.00647315 -0.00647315 -0.00647315 -0.00647315 -0.00647315\n -0.00647315 -0.00647315 -0.00647315 -0.00647315 -0.00647315 -0.00647315\n -0.00647315 -0.00647315 -0.00647315 -0.00647315 -0.00647315 -0.00647315\n -0.00647315 -0.00647315 -0.00647315 -0.00647315 -0.00647315 -0.00647315\n -0.00647315 -0.00647315 -0.00647315 -0.00647315 -0.00647315 -0.00647315\n -0.00647315 -0.00647315 -0.00647315 -0.00647315 -0.00647315 -0.00647315\n -0.00647315 -0.00647315 -0.00647315 -0.00647315 -0.00647315 -0.00647315\n -0.00647315 -0.00647315 -0.00647315 -0.00647315 -0.00647315 -0.00647315\n -0.00647315 -0.00647315 -0.00647315 -0.00647315 -0.00647315 -0.00647315\n -0.00647315 -0.00647315 -0.00647315 -0.00647315 -0.00647315 -0.00647315\n -0.00647315 -0.00647315 -0.00647315 -0.00647315 -0.00647315 -0.00647315\n -0.00647315 -0.00647315 -0.00647315 -0.00647315 -0.00647315 -0.00647315\n -0.00647315 -0.00647315 -0.00647315 -0.00647315 -0.00647315 -0.00647315\n -0.00647315 -0.00647315 -0.00647315 -0.00647315 -0.00647315 -0.00647315\n -0.00647315 -0.00647315 -0.00647315 -0.00647315 -0.00647315 -0.00647315\n -0.00647315 -0.00647315 -0.00647315 -0.00647315 -0.00647315 -0.00647315\n -0.00647315 -0.00647315 -0.00647315 -0.00647315 -0.00647315 -0.00647315\n -0.00647315 -0.00647315 -0.00647315 -0.00647315 -0.00647315 -0.00647315\n -0.00647315 -0.00647315 -0.00647315 -0.00647315 -0.00647315 -0.00647315\n -0.00647315 -0.00647315 -0.00647315 -0.00647315 -0.00647315 -0.00647315\n -0.00647315 -0.00647315 -0.00647315 -0.00647315 -0.00647315 -0.00647315\n -0.00647315 -0.00647315 -0.00647315 -0.00647315 -0.00647315 -0.00647315\n -0.00647315 -0.00647315 -0.00647315 -0.00647315 -0.00647315 -0.00647315\n -0.00647315 -0.00647315 -0.00647315 -0.00647315 -0.00647315 -0.00647315\n -0.00647315 -0.00647315 -0.00647315 -0.00647315 -0.00647315 -0.00647315\n -0.00647315 -0.00647315 -0.00647315 -0.00647315 -0.00647315 -0.00647315\n -0.00647315 -0.00647315 -0.00647315 -0.00647315 -0.00647315 -0.00647315\n -0.00647315 -0.00647315 -0.00647315 -0.00647315 -0.00647315 -0.00647315\n -0.00647315 -0.00647315 -0.00647315 -0.00647315 -0.00647315 -0.00647315\n -0.00647315 -0.00647315 -0.00647315 -0.00647315 -0.00647315 -0.00647315\n -0.00647315 -0.00647315  0.9935269  -0.00647315 -0.00647315 -0.00647315\n -0.00647315 -0.00647315 -0.00647315 -0.00647315 -0.00647315 -0.00647315\n -0.00647315 -0.00647315 -0.00647315 -0.00647315 -0.00647315 -0.00647315\n -0.00647315 -0.00647315 -0.00647315 -0.00647315 -0.00647315 -0.00647315\n -0.00647315 -0.00647315 -0.00647315 -0.00647315 -0.00647315 -0.00647315\n -0.00647315 -0.00647315 -0.00647315 -0.00647315 -0.00647315 -0.00647315\n -0.00647315].\nReshape your data either using array.reshape(-1, 1) if your data has a single feature or array.reshape(1, -1) if it contains a single sample.",
     "output_type": "error",
     "traceback": [
      "\u001b[1;31m---------------------------------------------------------------------------\u001b[0m",
      "\u001b[1;31mValueError\u001b[0m                                Traceback (most recent call last)",
      "Input \u001b[1;32mIn [207]\u001b[0m, in \u001b[0;36m<cell line: 3>\u001b[1;34m()\u001b[0m\n\u001b[0;32m      1\u001b[0m rf \u001b[38;5;241m=\u001b[39m RandomForestClassifier(max_depth \u001b[38;5;241m=\u001b[39m \u001b[38;5;241m4\u001b[39m)\n\u001b[0;32m      2\u001b[0m rf\u001b[38;5;241m.\u001b[39mfit(X_train\u001b[38;5;241m.\u001b[39mreshape(\u001b[38;5;241m-\u001b[39m\u001b[38;5;241m1\u001b[39m,\u001b[38;5;241m1\u001b[39m), y_train)\n\u001b[1;32m----> 3\u001b[0m rf_yhat \u001b[38;5;241m=\u001b[39m \u001b[43mrf\u001b[49m\u001b[38;5;241;43m.\u001b[39;49m\u001b[43mpredict\u001b[49m\u001b[43m(\u001b[49m\u001b[43mX_test\u001b[49m\u001b[43m)\u001b[49m\n",
      "File \u001b[1;32m~\\anaconda3\\lib\\site-packages\\sklearn\\ensemble\\_forest.py:808\u001b[0m, in \u001b[0;36mForestClassifier.predict\u001b[1;34m(self, X)\u001b[0m\n\u001b[0;32m    787\u001b[0m \u001b[38;5;28;01mdef\u001b[39;00m \u001b[38;5;21mpredict\u001b[39m(\u001b[38;5;28mself\u001b[39m, X):\n\u001b[0;32m    788\u001b[0m     \u001b[38;5;124;03m\"\"\"\u001b[39;00m\n\u001b[0;32m    789\u001b[0m \u001b[38;5;124;03m    Predict class for X.\u001b[39;00m\n\u001b[0;32m    790\u001b[0m \n\u001b[1;32m   (...)\u001b[0m\n\u001b[0;32m    806\u001b[0m \u001b[38;5;124;03m        The predicted classes.\u001b[39;00m\n\u001b[0;32m    807\u001b[0m \u001b[38;5;124;03m    \"\"\"\u001b[39;00m\n\u001b[1;32m--> 808\u001b[0m     proba \u001b[38;5;241m=\u001b[39m \u001b[38;5;28;43mself\u001b[39;49m\u001b[38;5;241;43m.\u001b[39;49m\u001b[43mpredict_proba\u001b[49m\u001b[43m(\u001b[49m\u001b[43mX\u001b[49m\u001b[43m)\u001b[49m\n\u001b[0;32m    810\u001b[0m     \u001b[38;5;28;01mif\u001b[39;00m \u001b[38;5;28mself\u001b[39m\u001b[38;5;241m.\u001b[39mn_outputs_ \u001b[38;5;241m==\u001b[39m \u001b[38;5;241m1\u001b[39m:\n\u001b[0;32m    811\u001b[0m         \u001b[38;5;28;01mreturn\u001b[39;00m \u001b[38;5;28mself\u001b[39m\u001b[38;5;241m.\u001b[39mclasses_\u001b[38;5;241m.\u001b[39mtake(np\u001b[38;5;241m.\u001b[39margmax(proba, axis\u001b[38;5;241m=\u001b[39m\u001b[38;5;241m1\u001b[39m), axis\u001b[38;5;241m=\u001b[39m\u001b[38;5;241m0\u001b[39m)\n",
      "File \u001b[1;32m~\\anaconda3\\lib\\site-packages\\sklearn\\ensemble\\_forest.py:850\u001b[0m, in \u001b[0;36mForestClassifier.predict_proba\u001b[1;34m(self, X)\u001b[0m\n\u001b[0;32m    848\u001b[0m check_is_fitted(\u001b[38;5;28mself\u001b[39m)\n\u001b[0;32m    849\u001b[0m \u001b[38;5;66;03m# Check data\u001b[39;00m\n\u001b[1;32m--> 850\u001b[0m X \u001b[38;5;241m=\u001b[39m \u001b[38;5;28;43mself\u001b[39;49m\u001b[38;5;241;43m.\u001b[39;49m\u001b[43m_validate_X_predict\u001b[49m\u001b[43m(\u001b[49m\u001b[43mX\u001b[49m\u001b[43m)\u001b[49m\n\u001b[0;32m    852\u001b[0m \u001b[38;5;66;03m# Assign chunk of trees to jobs\u001b[39;00m\n\u001b[0;32m    853\u001b[0m n_jobs, _, _ \u001b[38;5;241m=\u001b[39m _partition_estimators(\u001b[38;5;28mself\u001b[39m\u001b[38;5;241m.\u001b[39mn_estimators, \u001b[38;5;28mself\u001b[39m\u001b[38;5;241m.\u001b[39mn_jobs)\n",
      "File \u001b[1;32m~\\anaconda3\\lib\\site-packages\\sklearn\\ensemble\\_forest.py:579\u001b[0m, in \u001b[0;36mBaseForest._validate_X_predict\u001b[1;34m(self, X)\u001b[0m\n\u001b[0;32m    576\u001b[0m \u001b[38;5;124;03m\"\"\"\u001b[39;00m\n\u001b[0;32m    577\u001b[0m \u001b[38;5;124;03mValidate X whenever one tries to predict, apply, predict_proba.\"\"\"\u001b[39;00m\n\u001b[0;32m    578\u001b[0m check_is_fitted(\u001b[38;5;28mself\u001b[39m)\n\u001b[1;32m--> 579\u001b[0m X \u001b[38;5;241m=\u001b[39m \u001b[38;5;28;43mself\u001b[39;49m\u001b[38;5;241;43m.\u001b[39;49m\u001b[43m_validate_data\u001b[49m\u001b[43m(\u001b[49m\u001b[43mX\u001b[49m\u001b[43m,\u001b[49m\u001b[43m \u001b[49m\u001b[43mdtype\u001b[49m\u001b[38;5;241;43m=\u001b[39;49m\u001b[43mDTYPE\u001b[49m\u001b[43m,\u001b[49m\u001b[43m \u001b[49m\u001b[43maccept_sparse\u001b[49m\u001b[38;5;241;43m=\u001b[39;49m\u001b[38;5;124;43m\"\u001b[39;49m\u001b[38;5;124;43mcsr\u001b[39;49m\u001b[38;5;124;43m\"\u001b[39;49m\u001b[43m,\u001b[49m\u001b[43m \u001b[49m\u001b[43mreset\u001b[49m\u001b[38;5;241;43m=\u001b[39;49m\u001b[38;5;28;43;01mFalse\u001b[39;49;00m\u001b[43m)\u001b[49m\n\u001b[0;32m    580\u001b[0m \u001b[38;5;28;01mif\u001b[39;00m issparse(X) \u001b[38;5;129;01mand\u001b[39;00m (X\u001b[38;5;241m.\u001b[39mindices\u001b[38;5;241m.\u001b[39mdtype \u001b[38;5;241m!=\u001b[39m np\u001b[38;5;241m.\u001b[39mintc \u001b[38;5;129;01mor\u001b[39;00m X\u001b[38;5;241m.\u001b[39mindptr\u001b[38;5;241m.\u001b[39mdtype \u001b[38;5;241m!=\u001b[39m np\u001b[38;5;241m.\u001b[39mintc):\n\u001b[0;32m    581\u001b[0m     \u001b[38;5;28;01mraise\u001b[39;00m \u001b[38;5;167;01mValueError\u001b[39;00m(\u001b[38;5;124m\"\u001b[39m\u001b[38;5;124mNo support for np.int64 index based sparse matrices\u001b[39m\u001b[38;5;124m\"\u001b[39m)\n",
      "File \u001b[1;32m~\\anaconda3\\lib\\site-packages\\sklearn\\base.py:566\u001b[0m, in \u001b[0;36mBaseEstimator._validate_data\u001b[1;34m(self, X, y, reset, validate_separately, **check_params)\u001b[0m\n\u001b[0;32m    564\u001b[0m     \u001b[38;5;28;01mraise\u001b[39;00m \u001b[38;5;167;01mValueError\u001b[39;00m(\u001b[38;5;124m\"\u001b[39m\u001b[38;5;124mValidation should be done on X, y or both.\u001b[39m\u001b[38;5;124m\"\u001b[39m)\n\u001b[0;32m    565\u001b[0m \u001b[38;5;28;01melif\u001b[39;00m \u001b[38;5;129;01mnot\u001b[39;00m no_val_X \u001b[38;5;129;01mand\u001b[39;00m no_val_y:\n\u001b[1;32m--> 566\u001b[0m     X \u001b[38;5;241m=\u001b[39m check_array(X, \u001b[38;5;241m*\u001b[39m\u001b[38;5;241m*\u001b[39mcheck_params)\n\u001b[0;32m    567\u001b[0m     out \u001b[38;5;241m=\u001b[39m X\n\u001b[0;32m    568\u001b[0m \u001b[38;5;28;01melif\u001b[39;00m no_val_X \u001b[38;5;129;01mand\u001b[39;00m \u001b[38;5;129;01mnot\u001b[39;00m no_val_y:\n",
      "File \u001b[1;32m~\\anaconda3\\lib\\site-packages\\sklearn\\utils\\validation.py:769\u001b[0m, in \u001b[0;36mcheck_array\u001b[1;34m(array, accept_sparse, accept_large_sparse, dtype, order, copy, force_all_finite, ensure_2d, allow_nd, ensure_min_samples, ensure_min_features, estimator)\u001b[0m\n\u001b[0;32m    767\u001b[0m     \u001b[38;5;66;03m# If input is 1D raise error\u001b[39;00m\n\u001b[0;32m    768\u001b[0m     \u001b[38;5;28;01mif\u001b[39;00m array\u001b[38;5;241m.\u001b[39mndim \u001b[38;5;241m==\u001b[39m \u001b[38;5;241m1\u001b[39m:\n\u001b[1;32m--> 769\u001b[0m         \u001b[38;5;28;01mraise\u001b[39;00m \u001b[38;5;167;01mValueError\u001b[39;00m(\n\u001b[0;32m    770\u001b[0m             \u001b[38;5;124m\"\u001b[39m\u001b[38;5;124mExpected 2D array, got 1D array instead:\u001b[39m\u001b[38;5;130;01m\\n\u001b[39;00m\u001b[38;5;124marray=\u001b[39m\u001b[38;5;132;01m{}\u001b[39;00m\u001b[38;5;124m.\u001b[39m\u001b[38;5;130;01m\\n\u001b[39;00m\u001b[38;5;124m\"\u001b[39m\n\u001b[0;32m    771\u001b[0m             \u001b[38;5;124m\"\u001b[39m\u001b[38;5;124mReshape your data either using array.reshape(-1, 1) if \u001b[39m\u001b[38;5;124m\"\u001b[39m\n\u001b[0;32m    772\u001b[0m             \u001b[38;5;124m\"\u001b[39m\u001b[38;5;124myour data has a single feature or array.reshape(1, -1) \u001b[39m\u001b[38;5;124m\"\u001b[39m\n\u001b[0;32m    773\u001b[0m             \u001b[38;5;124m\"\u001b[39m\u001b[38;5;124mif it contains a single sample.\u001b[39m\u001b[38;5;124m\"\u001b[39m\u001b[38;5;241m.\u001b[39mformat(array)\n\u001b[0;32m    774\u001b[0m         )\n\u001b[0;32m    776\u001b[0m \u001b[38;5;66;03m# make sure we actually converted to numeric:\u001b[39;00m\n\u001b[0;32m    777\u001b[0m \u001b[38;5;28;01mif\u001b[39;00m dtype_numeric \u001b[38;5;129;01mand\u001b[39;00m array\u001b[38;5;241m.\u001b[39mdtype\u001b[38;5;241m.\u001b[39mkind \u001b[38;5;129;01min\u001b[39;00m \u001b[38;5;124m\"\u001b[39m\u001b[38;5;124mOUSV\u001b[39m\u001b[38;5;124m\"\u001b[39m:\n",
      "\u001b[1;31mValueError\u001b[0m: Expected 2D array, got 1D array instead:\narray=[-0.00647315 -0.00647315 -0.00647315 -0.00647315 -0.00647315 -0.00647315\n -0.00647315 -0.00647315 -0.00647315 -0.00647315 -0.00647315 -0.00647315\n -0.00647315 -0.00647315 -0.00647315 -0.00647315 -0.00647315 -0.00647315\n -0.00647315 -0.00647315 -0.00647315 -0.00647315 -0.00647315 -0.00647315\n -0.00647315 -0.00647315 -0.00647315 -0.00647315 -0.00647315 -0.00647315\n -0.00647315 -0.00647315 -0.00647315 -0.00647315 -0.00647315 -0.00647315\n -0.00647315 -0.00647315 -0.00647315 -0.00647315 -0.00647315 -0.00647315\n -0.00647315 -0.00647315 -0.00647315 -0.00647315 -0.00647315 -0.00647315\n -0.00647315 -0.00647315 -0.00647315 -0.00647315 -0.00647315 -0.00647315\n -0.00647315 -0.00647315 -0.00647315 -0.00647315 -0.00647315 -0.00647315\n -0.00647315 -0.00647315 -0.00647315 -0.00647315 -0.00647315 -0.00647315\n -0.00647315 -0.00647315 -0.00647315 -0.00647315 -0.00647315 -0.00647315\n -0.00647315 -0.00647315 -0.00647315 -0.00647315 -0.00647315 -0.00647315\n -0.00647315 -0.00647315 -0.00647315 -0.00647315 -0.00647315 -0.00647315\n -0.00647315 -0.00647315 -0.00647315 -0.00647315 -0.00647315 -0.00647315\n -0.00647315 -0.00647315 -0.00647315 -0.00647315 -0.00647315 -0.00647315\n -0.00647315 -0.00647315 -0.00647315 -0.00647315 -0.00647315 -0.00647315\n -0.00647315  0.9935269  -0.00647315 -0.00647315 -0.00647315 -0.00647315\n -0.00647315 -0.00647315 -0.00647315 -0.00647315 -0.00647315 -0.00647315\n -0.00647315 -0.00647315 -0.00647315 -0.00647315 -0.00647315 -0.00647315\n -0.00647315 -0.00647315 -0.00647315 -0.00647315 -0.00647315 -0.00647315\n -0.00647315 -0.00647315 -0.00647315 -0.00647315 -0.00647315 -0.00647315\n -0.00647315 -0.00647315 -0.00647315 -0.00647315 -0.00647315 -0.00647315\n -0.00647315 -0.00647315 -0.00647315 -0.00647315 -0.00647315 -0.00647315\n -0.00647315 -0.00647315 -0.00647315 -0.00647315 -0.00647315 -0.00647315\n -0.00647315 -0.00647315 -0.00647315 -0.00647315 -0.00647315 -0.00647315\n -0.00647315 -0.00647315 -0.00647315 -0.00647315 -0.00647315 -0.00647315\n -0.00647315 -0.00647315 -0.00647315 -0.00647315 -0.00647315 -0.00647315\n -0.00647315 -0.00647315 -0.00647315 -0.00647315 -0.00647315 -0.00647315\n -0.00647315 -0.00647315 -0.00647315 -0.00647315 -0.00647315 -0.00647315\n -0.00647315 -0.00647315 -0.00647315 -0.00647315 -0.00647315 -0.00647315\n -0.00647315 -0.00647315 -0.00647315 -0.00647315 -0.00647315 -0.00647315\n -0.00647315 -0.00647315 -0.00647315 -0.00647315 -0.00647315 -0.00647315\n -0.00647315 -0.00647315 -0.00647315 -0.00647315 -0.00647315 -0.00647315\n -0.00647315 -0.00647315 -0.00647315 -0.00647315 -0.00647315 -0.00647315\n -0.00647315 -0.00647315 -0.00647315 -0.00647315 -0.00647315 -0.00647315\n -0.00647315 -0.00647315 -0.00647315 -0.00647315 -0.00647315 -0.00647315\n -0.00647315 -0.00647315 -0.00647315 -0.00647315 -0.00647315 -0.00647315\n -0.00647315 -0.00647315 -0.00647315 -0.00647315 -0.00647315 -0.00647315\n -0.00647315 -0.00647315 -0.00647315 -0.00647315  0.9935269  -0.00647315\n -0.00647315 -0.00647315 -0.00647315 -0.00647315 -0.00647315 -0.00647315\n -0.00647315 -0.00647315 -0.00647315 -0.00647315 -0.00647315 -0.00647315\n -0.00647315 -0.00647315 -0.00647315 -0.00647315 -0.00647315 -0.00647315\n -0.00647315 -0.00647315 -0.00647315 -0.00647315 -0.00647315 -0.00647315\n -0.00647315 -0.00647315 -0.00647315 -0.00647315 -0.00647315 -0.00647315\n -0.00647315 -0.00647315 -0.00647315 -0.00647315 -0.00647315 -0.00647315\n -0.00647315 -0.00647315 -0.00647315 -0.00647315 -0.00647315 -0.00647315\n -0.00647315 -0.00647315 -0.00647315 -0.00647315 -0.00647315 -0.00647315\n -0.00647315 -0.00647315 -0.00647315 -0.00647315 -0.00647315 -0.00647315\n -0.00647315 -0.00647315 -0.00647315 -0.00647315 -0.00647315 -0.00647315\n -0.00647315 -0.00647315 -0.00647315 -0.00647315 -0.00647315 -0.00647315\n -0.00647315 -0.00647315 -0.00647315 -0.00647315 -0.00647315 -0.00647315\n -0.00647315 -0.00647315 -0.00647315 -0.00647315 -0.00647315 -0.00647315\n -0.00647315 -0.00647315 -0.00647315 -0.00647315 -0.00647315 -0.00647315\n -0.00647315 -0.00647315 -0.00647315 -0.00647315 -0.00647315 -0.00647315\n -0.00647315 -0.00647315 -0.00647315 -0.00647315 -0.00647315 -0.00647315\n -0.00647315 -0.00647315 -0.00647315 -0.00647315 -0.00647315 -0.00647315\n -0.00647315 -0.00647315 -0.00647315 -0.00647315 -0.00647315 -0.00647315\n -0.00647315 -0.00647315 -0.00647315 -0.00647315 -0.00647315 -0.00647315\n -0.00647315 -0.00647315 -0.00647315 -0.00647315 -0.00647315 -0.00647315\n -0.00647315 -0.00647315 -0.00647315 -0.00647315 -0.00647315 -0.00647315\n -0.00647315 -0.00647315 -0.00647315 -0.00647315 -0.00647315 -0.00647315\n -0.00647315 -0.00647315 -0.00647315 -0.00647315 -0.00647315 -0.00647315\n -0.00647315 -0.00647315 -0.00647315 -0.00647315 -0.00647315 -0.00647315\n -0.00647315 -0.00647315 -0.00647315 -0.00647315 -0.00647315 -0.00647315\n -0.00647315 -0.00647315 -0.00647315 -0.00647315 -0.00647315 -0.00647315\n -0.00647315 -0.00647315 -0.00647315 -0.00647315 -0.00647315 -0.00647315\n -0.00647315 -0.00647315 -0.00647315 -0.00647315 -0.00647315 -0.00647315\n -0.00647315 -0.00647315 -0.00647315 -0.00647315 -0.00647315 -0.00647315\n -0.00647315 -0.00647315 -0.00647315 -0.00647315 -0.00647315 -0.00647315\n -0.00647315 -0.00647315 -0.00647315 -0.00647315 -0.00647315 -0.00647315\n -0.00647315 -0.00647315 -0.00647315 -0.00647315 -0.00647315 -0.00647315\n -0.00647315 -0.00647315 -0.00647315 -0.00647315 -0.00647315 -0.00647315\n -0.00647315 -0.00647315 -0.00647315 -0.00647315 -0.00647315 -0.00647315\n -0.00647315 -0.00647315 -0.00647315 -0.00647315 -0.00647315 -0.00647315\n -0.00647315 -0.00647315 -0.00647315 -0.00647315 -0.00647315 -0.00647315\n -0.00647315 -0.00647315 -0.00647315 -0.00647315 -0.00647315 -0.00647315\n -0.00647315 -0.00647315 -0.00647315 -0.00647315 -0.00647315 -0.00647315\n -0.00647315 -0.00647315 -0.00647315 -0.00647315 -0.00647315 -0.00647315\n -0.00647315 -0.00647315 -0.00647315 -0.00647315 -0.00647315 -0.00647315\n -0.00647315 -0.00647315 -0.00647315 -0.00647315 -0.00647315 -0.00647315\n -0.00647315 -0.00647315 -0.00647315 -0.00647315 -0.00647315 -0.00647315\n -0.00647315 -0.00647315 -0.00647315 -0.00647315 -0.00647315 -0.00647315\n -0.00647315 -0.00647315 -0.00647315 -0.00647315 -0.00647315 -0.00647315\n -0.00647315 -0.00647315 -0.00647315 -0.00647315 -0.00647315 -0.00647315\n -0.00647315 -0.00647315 -0.00647315 -0.00647315 -0.00647315 -0.00647315\n -0.00647315 -0.00647315 -0.00647315 -0.00647315 -0.00647315 -0.00647315\n -0.00647315 -0.00647315 -0.00647315 -0.00647315 -0.00647315 -0.00647315\n -0.00647315 -0.00647315 -0.00647315 -0.00647315 -0.00647315 -0.00647315\n -0.00647315 -0.00647315 -0.00647315 -0.00647315 -0.00647315 -0.00647315\n -0.00647315 -0.00647315 -0.00647315 -0.00647315 -0.00647315 -0.00647315\n -0.00647315 -0.00647315 -0.00647315 -0.00647315 -0.00647315 -0.00647315\n -0.00647315 -0.00647315 -0.00647315 -0.00647315 -0.00647315 -0.00647315\n -0.00647315 -0.00647315 -0.00647315 -0.00647315 -0.00647315 -0.00647315\n -0.00647315 -0.00647315 -0.00647315 -0.00647315 -0.00647315 -0.00647315\n -0.00647315 -0.00647315 -0.00647315 -0.00647315 -0.00647315 -0.00647315\n -0.00647315 -0.00647315 -0.00647315 -0.00647315 -0.00647315 -0.00647315\n -0.00647315 -0.00647315 -0.00647315 -0.00647315 -0.00647315 -0.00647315\n -0.00647315 -0.00647315 -0.00647315 -0.00647315 -0.00647315 -0.00647315\n -0.00647315 -0.00647315 -0.00647315 -0.00647315 -0.00647315 -0.00647315\n -0.00647315 -0.00647315 -0.00647315 -0.00647315 -0.00647315 -0.00647315\n -0.00647315 -0.00647315 -0.00647315 -0.00647315 -0.00647315 -0.00647315\n -0.00647315 -0.00647315 -0.00647315 -0.00647315 -0.00647315 -0.00647315\n -0.00647315 -0.00647315 -0.00647315 -0.00647315 -0.00647315 -0.00647315\n -0.00647315 -0.00647315 -0.00647315 -0.00647315 -0.00647315 -0.00647315\n -0.00647315 -0.00647315 -0.00647315 -0.00647315 -0.00647315 -0.00647315\n -0.00647315 -0.00647315 -0.00647315 -0.00647315 -0.00647315 -0.00647315\n -0.00647315 -0.00647315 -0.00647315 -0.00647315 -0.00647315 -0.00647315\n -0.00647315 -0.00647315 -0.00647315 -0.00647315 -0.00647315 -0.00647315\n -0.00647315 -0.00647315 -0.00647315 -0.00647315 -0.00647315 -0.00647315\n -0.00647315 -0.00647315 -0.00647315 -0.00647315 -0.00647315 -0.00647315\n -0.00647315 -0.00647315 -0.00647315 -0.00647315 -0.00647315 -0.00647315\n -0.00647315 -0.00647315 -0.00647315 -0.00647315 -0.00647315 -0.00647315\n -0.00647315 -0.00647315 -0.00647315 -0.00647315 -0.00647315 -0.00647315\n -0.00647315 -0.00647315 -0.00647315 -0.00647315 -0.00647315 -0.00647315\n -0.00647315 -0.00647315 -0.00647315 -0.00647315 -0.00647315 -0.00647315\n -0.00647315 -0.00647315 -0.00647315 -0.00647315 -0.00647315 -0.00647315\n -0.00647315 -0.00647315 -0.00647315 -0.00647315 -0.00647315 -0.00647315\n -0.00647315 -0.00647315 -0.00647315 -0.00647315 -0.00647315 -0.00647315\n -0.00647315 -0.00647315 -0.00647315 -0.00647315 -0.00647315 -0.00647315\n -0.00647315 -0.00647315 -0.00647315 -0.00647315 -0.00647315 -0.00647315\n -0.00647315 -0.00647315 -0.00647315 -0.00647315 -0.00647315 -0.00647315\n -0.00647315 -0.00647315 -0.00647315 -0.00647315 -0.00647315 -0.00647315\n -0.00647315 -0.00647315 -0.00647315 -0.00647315 -0.00647315 -0.00647315\n -0.00647315 -0.00647315 -0.00647315 -0.00647315 -0.00647315 -0.00647315\n -0.00647315 -0.00647315 -0.00647315 -0.00647315 -0.00647315 -0.00647315\n -0.00647315 -0.00647315 -0.00647315 -0.00647315 -0.00647315 -0.00647315\n -0.00647315 -0.00647315 -0.00647315 -0.00647315 -0.00647315 -0.00647315\n -0.00647315 -0.00647315 -0.00647315 -0.00647315 -0.00647315 -0.00647315\n -0.00647315 -0.00647315  0.9935269  -0.00647315 -0.00647315 -0.00647315\n -0.00647315 -0.00647315 -0.00647315 -0.00647315 -0.00647315 -0.00647315\n -0.00647315 -0.00647315 -0.00647315 -0.00647315 -0.00647315 -0.00647315\n -0.00647315 -0.00647315 -0.00647315 -0.00647315 -0.00647315 -0.00647315\n -0.00647315 -0.00647315 -0.00647315 -0.00647315 -0.00647315 -0.00647315\n -0.00647315 -0.00647315 -0.00647315 -0.00647315 -0.00647315 -0.00647315\n -0.00647315].\nReshape your data either using array.reshape(-1, 1) if your data has a single feature or array.reshape(1, -1) if it contains a single sample."
     ]
    }
   ],
   "source": [
    "rf = RandomForestClassifier(max_depth = 4)\n",
    "rf.fit(X_train.reshape(-1,1), y_train)\n",
    "rf_yhat = rf.predict(X_test)"
   ]
  },
  {
   "cell_type": "code",
   "execution_count": null,
   "id": "998d738a",
   "metadata": {},
   "outputs": [],
   "source": []
  }
 ],
 "metadata": {
  "kernelspec": {
   "display_name": "Python 3 (ipykernel)",
   "language": "python",
   "name": "python3"
  },
  "language_info": {
   "codemirror_mode": {
    "name": "ipython",
    "version": 3
   },
   "file_extension": ".py",
   "mimetype": "text/x-python",
   "name": "python",
   "nbconvert_exporter": "python",
   "pygments_lexer": "ipython3",
   "version": "3.9.12"
  }
 },
 "nbformat": 4,
 "nbformat_minor": 5
}
