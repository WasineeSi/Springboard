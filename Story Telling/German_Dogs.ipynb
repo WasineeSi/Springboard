{
 "cells": [
  {
   "cell_type": "code",
   "execution_count": 59,
   "id": "dfaa4de7",
   "metadata": {},
   "outputs": [
    {
     "data": {
      "text/html": [
       "<div>\n",
       "<style scoped>\n",
       "    .dataframe tbody tr th:only-of-type {\n",
       "        vertical-align: middle;\n",
       "    }\n",
       "\n",
       "    .dataframe tbody tr th {\n",
       "        vertical-align: top;\n",
       "    }\n",
       "\n",
       "    .dataframe thead th {\n",
       "        text-align: right;\n",
       "    }\n",
       "</style>\n",
       "<table border=\"1\" class=\"dataframe\">\n",
       "  <thead>\n",
       "    <tr style=\"text-align: right;\">\n",
       "      <th></th>\n",
       "      <th>HALTER_ID</th>\n",
       "      <th>ALTER</th>\n",
       "      <th>GESCHLECHT</th>\n",
       "      <th>STADTKREIS</th>\n",
       "      <th>STADTQUARTIER</th>\n",
       "      <th>RASSE1</th>\n",
       "      <th>RASSE1_MISCHLING</th>\n",
       "      <th>RASSE2</th>\n",
       "      <th>RASSE2_MISCHLING</th>\n",
       "      <th>RASSENTYP</th>\n",
       "      <th>GEBURTSJAHR_HUND</th>\n",
       "      <th>GESCHLECHT_HUND</th>\n",
       "      <th>HUNDEFARBE</th>\n",
       "    </tr>\n",
       "  </thead>\n",
       "  <tbody>\n",
       "    <tr>\n",
       "      <th>0</th>\n",
       "      <td>126</td>\n",
       "      <td>61-70</td>\n",
       "      <td>m</td>\n",
       "      <td>9.0</td>\n",
       "      <td>92.0</td>\n",
       "      <td>Welsh Terrier</td>\n",
       "      <td>NaN</td>\n",
       "      <td>NaN</td>\n",
       "      <td>NaN</td>\n",
       "      <td>K</td>\n",
       "      <td>2011</td>\n",
       "      <td>w</td>\n",
       "      <td>schwarz/braun</td>\n",
       "    </tr>\n",
       "    <tr>\n",
       "      <th>1</th>\n",
       "      <td>171</td>\n",
       "      <td>61-70</td>\n",
       "      <td>m</td>\n",
       "      <td>3.0</td>\n",
       "      <td>31.0</td>\n",
       "      <td>Berner Sennenhund</td>\n",
       "      <td>NaN</td>\n",
       "      <td>NaN</td>\n",
       "      <td>NaN</td>\n",
       "      <td>I</td>\n",
       "      <td>2009</td>\n",
       "      <td>m</td>\n",
       "      <td>tricolor</td>\n",
       "    </tr>\n",
       "    <tr>\n",
       "      <th>2</th>\n",
       "      <td>574</td>\n",
       "      <td>61-70</td>\n",
       "      <td>w</td>\n",
       "      <td>2.0</td>\n",
       "      <td>23.0</td>\n",
       "      <td>Mischling gross</td>\n",
       "      <td>NaN</td>\n",
       "      <td>NaN</td>\n",
       "      <td>NaN</td>\n",
       "      <td>I</td>\n",
       "      <td>2013</td>\n",
       "      <td>w</td>\n",
       "      <td>schwarz</td>\n",
       "    </tr>\n",
       "    <tr>\n",
       "      <th>3</th>\n",
       "      <td>695</td>\n",
       "      <td>41-50</td>\n",
       "      <td>m</td>\n",
       "      <td>6.0</td>\n",
       "      <td>63.0</td>\n",
       "      <td>Labrador Retriever</td>\n",
       "      <td>NaN</td>\n",
       "      <td>NaN</td>\n",
       "      <td>NaN</td>\n",
       "      <td>I</td>\n",
       "      <td>2012</td>\n",
       "      <td>w</td>\n",
       "      <td>braun</td>\n",
       "    </tr>\n",
       "    <tr>\n",
       "      <th>4</th>\n",
       "      <td>893</td>\n",
       "      <td>61-70</td>\n",
       "      <td>w</td>\n",
       "      <td>7.0</td>\n",
       "      <td>71.0</td>\n",
       "      <td>Mittelschnauzer</td>\n",
       "      <td>NaN</td>\n",
       "      <td>NaN</td>\n",
       "      <td>NaN</td>\n",
       "      <td>I</td>\n",
       "      <td>2010</td>\n",
       "      <td>w</td>\n",
       "      <td>schwarz</td>\n",
       "    </tr>\n",
       "  </tbody>\n",
       "</table>\n",
       "</div>"
      ],
      "text/plain": [
       "   HALTER_ID  ALTER GESCHLECHT  STADTKREIS  STADTQUARTIER              RASSE1  \\\n",
       "0        126  61-70          m         9.0           92.0       Welsh Terrier   \n",
       "1        171  61-70          m         3.0           31.0   Berner Sennenhund   \n",
       "2        574  61-70          w         2.0           23.0     Mischling gross   \n",
       "3        695  41-50          m         6.0           63.0  Labrador Retriever   \n",
       "4        893  61-70          w         7.0           71.0     Mittelschnauzer   \n",
       "\n",
       "  RASSE1_MISCHLING RASSE2  RASSE2_MISCHLING RASSENTYP  GEBURTSJAHR_HUND  \\\n",
       "0              NaN    NaN               NaN         K              2011   \n",
       "1              NaN    NaN               NaN         I              2009   \n",
       "2              NaN    NaN               NaN         I              2013   \n",
       "3              NaN    NaN               NaN         I              2012   \n",
       "4              NaN    NaN               NaN         I              2010   \n",
       "\n",
       "  GESCHLECHT_HUND     HUNDEFARBE  \n",
       "0               w  schwarz/braun  \n",
       "1               m       tricolor  \n",
       "2               w        schwarz  \n",
       "3               w          braun  \n",
       "4               w        schwarz  "
      ]
     },
     "execution_count": 59,
     "metadata": {},
     "output_type": "execute_result"
    }
   ],
   "source": [
    "import pandas as pd\n",
    "\n",
    "df = pd.read_csv(\"20170308hundehalter.csv\")\n",
    "df.head()"
   ]
  },
  {
   "cell_type": "code",
   "execution_count": 60,
   "id": "dce81f24",
   "metadata": {},
   "outputs": [],
   "source": [
    "df = df.rename(columns = {'HALTER_ID':'ID', 'ALTER':'Age', 'GESCHLECHT':'Gender', 'STADTKREIS':'Town', 'STADTQUARTIER':'District', 'RASSE1':'Race_1', 'RASSE2':'Race_2', 'GEBURTSJAHR_HUND':'Dog_Bday', 'GESCHLECHT_HUND':'Dog_Gender', 'HUNDEFARBE':'Color'})"
   ]
  },
  {
   "cell_type": "code",
   "execution_count": 61,
   "id": "6416466f",
   "metadata": {},
   "outputs": [
    {
     "data": {
      "text/html": [
       "<div>\n",
       "<style scoped>\n",
       "    .dataframe tbody tr th:only-of-type {\n",
       "        vertical-align: middle;\n",
       "    }\n",
       "\n",
       "    .dataframe tbody tr th {\n",
       "        vertical-align: top;\n",
       "    }\n",
       "\n",
       "    .dataframe thead th {\n",
       "        text-align: right;\n",
       "    }\n",
       "</style>\n",
       "<table border=\"1\" class=\"dataframe\">\n",
       "  <thead>\n",
       "    <tr style=\"text-align: right;\">\n",
       "      <th></th>\n",
       "      <th>ID</th>\n",
       "      <th>Age</th>\n",
       "      <th>Gender</th>\n",
       "      <th>Town</th>\n",
       "      <th>District</th>\n",
       "      <th>Race_1</th>\n",
       "      <th>RASSE1_MISCHLING</th>\n",
       "      <th>Race_2</th>\n",
       "      <th>RASSE2_MISCHLING</th>\n",
       "      <th>RASSENTYP</th>\n",
       "      <th>Dog_Bday</th>\n",
       "      <th>Dog_Gender</th>\n",
       "      <th>Color</th>\n",
       "    </tr>\n",
       "  </thead>\n",
       "  <tbody>\n",
       "    <tr>\n",
       "      <th>0</th>\n",
       "      <td>126</td>\n",
       "      <td>61-70</td>\n",
       "      <td>m</td>\n",
       "      <td>9.0</td>\n",
       "      <td>92.0</td>\n",
       "      <td>Welsh Terrier</td>\n",
       "      <td>NaN</td>\n",
       "      <td>NaN</td>\n",
       "      <td>NaN</td>\n",
       "      <td>K</td>\n",
       "      <td>2011</td>\n",
       "      <td>w</td>\n",
       "      <td>schwarz/braun</td>\n",
       "    </tr>\n",
       "    <tr>\n",
       "      <th>1</th>\n",
       "      <td>171</td>\n",
       "      <td>61-70</td>\n",
       "      <td>m</td>\n",
       "      <td>3.0</td>\n",
       "      <td>31.0</td>\n",
       "      <td>Berner Sennenhund</td>\n",
       "      <td>NaN</td>\n",
       "      <td>NaN</td>\n",
       "      <td>NaN</td>\n",
       "      <td>I</td>\n",
       "      <td>2009</td>\n",
       "      <td>m</td>\n",
       "      <td>tricolor</td>\n",
       "    </tr>\n",
       "    <tr>\n",
       "      <th>2</th>\n",
       "      <td>574</td>\n",
       "      <td>61-70</td>\n",
       "      <td>w</td>\n",
       "      <td>2.0</td>\n",
       "      <td>23.0</td>\n",
       "      <td>Mischling gross</td>\n",
       "      <td>NaN</td>\n",
       "      <td>NaN</td>\n",
       "      <td>NaN</td>\n",
       "      <td>I</td>\n",
       "      <td>2013</td>\n",
       "      <td>w</td>\n",
       "      <td>schwarz</td>\n",
       "    </tr>\n",
       "    <tr>\n",
       "      <th>3</th>\n",
       "      <td>695</td>\n",
       "      <td>41-50</td>\n",
       "      <td>m</td>\n",
       "      <td>6.0</td>\n",
       "      <td>63.0</td>\n",
       "      <td>Labrador Retriever</td>\n",
       "      <td>NaN</td>\n",
       "      <td>NaN</td>\n",
       "      <td>NaN</td>\n",
       "      <td>I</td>\n",
       "      <td>2012</td>\n",
       "      <td>w</td>\n",
       "      <td>braun</td>\n",
       "    </tr>\n",
       "    <tr>\n",
       "      <th>4</th>\n",
       "      <td>893</td>\n",
       "      <td>61-70</td>\n",
       "      <td>w</td>\n",
       "      <td>7.0</td>\n",
       "      <td>71.0</td>\n",
       "      <td>Mittelschnauzer</td>\n",
       "      <td>NaN</td>\n",
       "      <td>NaN</td>\n",
       "      <td>NaN</td>\n",
       "      <td>I</td>\n",
       "      <td>2010</td>\n",
       "      <td>w</td>\n",
       "      <td>schwarz</td>\n",
       "    </tr>\n",
       "  </tbody>\n",
       "</table>\n",
       "</div>"
      ],
      "text/plain": [
       "    ID    Age Gender  Town  District              Race_1 RASSE1_MISCHLING  \\\n",
       "0  126  61-70      m   9.0      92.0       Welsh Terrier              NaN   \n",
       "1  171  61-70      m   3.0      31.0   Berner Sennenhund              NaN   \n",
       "2  574  61-70      w   2.0      23.0     Mischling gross              NaN   \n",
       "3  695  41-50      m   6.0      63.0  Labrador Retriever              NaN   \n",
       "4  893  61-70      w   7.0      71.0     Mittelschnauzer              NaN   \n",
       "\n",
       "  Race_2  RASSE2_MISCHLING RASSENTYP  Dog_Bday Dog_Gender          Color  \n",
       "0    NaN               NaN         K      2011          w  schwarz/braun  \n",
       "1    NaN               NaN         I      2009          m       tricolor  \n",
       "2    NaN               NaN         I      2013          w        schwarz  \n",
       "3    NaN               NaN         I      2012          w          braun  \n",
       "4    NaN               NaN         I      2010          w        schwarz  "
      ]
     },
     "execution_count": 61,
     "metadata": {},
     "output_type": "execute_result"
    }
   ],
   "source": [
    "df.head()"
   ]
  },
  {
   "cell_type": "code",
   "execution_count": 62,
   "id": "d48f8542",
   "metadata": {},
   "outputs": [
    {
     "data": {
      "text/plain": [
       "ID                     0\n",
       "Age                    1\n",
       "Gender                 0\n",
       "Town                   1\n",
       "District               1\n",
       "Race_1                 0\n",
       "RASSE1_MISCHLING    6537\n",
       "Race_2              6612\n",
       "RASSE2_MISCHLING    7155\n",
       "RASSENTYP              0\n",
       "Dog_Bday               0\n",
       "Dog_Gender             0\n",
       "Color                  0\n",
       "dtype: int64"
      ]
     },
     "execution_count": 62,
     "metadata": {},
     "output_type": "execute_result"
    }
   ],
   "source": [
    "df.isna().sum()"
   ]
  },
  {
   "cell_type": "code",
   "execution_count": 63,
   "id": "971d1820",
   "metadata": {},
   "outputs": [],
   "source": [
    "df = df.drop(columns=['RASSE1_MISCHLING', 'RASSE2_MISCHLING', 'RASSENTYP'])"
   ]
  },
  {
   "cell_type": "code",
   "execution_count": 64,
   "id": "bf9cfb56",
   "metadata": {},
   "outputs": [
    {
     "data": {
      "text/plain": [
       "w    4958\n",
       "m    2197\n",
       "Name: Gender, dtype: int64"
      ]
     },
     "execution_count": 64,
     "metadata": {},
     "output_type": "execute_result"
    }
   ],
   "source": [
    "df['Gender'].value_counts()"
   ]
  },
  {
   "cell_type": "code",
   "execution_count": 73,
   "id": "df5e59f9",
   "metadata": {},
   "outputs": [
    {
     "data": {
      "text/plain": [
       "0.30705800139762407"
      ]
     },
     "execution_count": 73,
     "metadata": {},
     "output_type": "execute_result"
    }
   ],
   "source": []
  },
  {
   "cell_type": "code",
   "execution_count": 65,
   "id": "c2811dee",
   "metadata": {},
   "outputs": [
    {
     "data": {
      "text/plain": [
       "51-60     1547\n",
       "41-50     1489\n",
       "31-40     1383\n",
       "61-70     1041\n",
       "21-30      789\n",
       "71-80      673\n",
       "81-90      172\n",
       "11-20       45\n",
       "91-100      15\n",
       "Name: Age, dtype: int64"
      ]
     },
     "execution_count": 65,
     "metadata": {},
     "output_type": "execute_result"
    }
   ],
   "source": [
    "df['Age'].value_counts()"
   ]
  },
  {
   "cell_type": "code",
   "execution_count": 66,
   "id": "061c38f0",
   "metadata": {},
   "outputs": [
    {
     "data": {
      "text/plain": [
       "Mischling klein           620\n",
       "Chihuahua                 516\n",
       "Labrador Retriever        439\n",
       "Yorkshire Terrier         298\n",
       "Jack Russel Terrier       290\n",
       "                         ... \n",
       "Daisy-Dog                   1\n",
       "Chodsky pes                 1\n",
       "Harzer Fuchs                1\n",
       "Curly Coated Retriever      1\n",
       "Laufhund                    1\n",
       "Name: Race_1, Length: 304, dtype: int64"
      ]
     },
     "execution_count": 66,
     "metadata": {},
     "output_type": "execute_result"
    }
   ],
   "source": [
    "df['Race_1'].value_counts()"
   ]
  },
  {
   "cell_type": "code",
   "execution_count": 68,
   "id": "2e82bfc4",
   "metadata": {},
   "outputs": [
    {
     "data": {
      "text/plain": [
       "2012    628\n",
       "2014    590\n",
       "2013    576\n",
       "2010    576\n",
       "2009    542\n",
       "2015    539\n",
       "2011    527\n",
       "2016    508\n",
       "2008    497\n",
       "2007    484\n",
       "2006    414\n",
       "2005    383\n",
       "2004    353\n",
       "2003    227\n",
       "2002    152\n",
       "2001     84\n",
       "2000     41\n",
       "1999     19\n",
       "1998     11\n",
       "1997      2\n",
       "2017      1\n",
       "1996      1\n",
       "Name: Dog_Bday, dtype: int64"
      ]
     },
     "execution_count": 68,
     "metadata": {},
     "output_type": "execute_result"
    }
   ],
   "source": [
    "df['Dog_Bday'].value_counts()"
   ]
  },
  {
   "cell_type": "code",
   "execution_count": 69,
   "id": "ac756201",
   "metadata": {},
   "outputs": [
    {
     "data": {
      "text/plain": [
       "w    3608\n",
       "m    3547\n",
       "Name: Dog_Gender, dtype: int64"
      ]
     },
     "execution_count": 69,
     "metadata": {},
     "output_type": "execute_result"
    }
   ],
   "source": [
    "df['Dog_Gender'].value_counts()"
   ]
  },
  {
   "cell_type": "code",
   "execution_count": 70,
   "id": "5e67c6d4",
   "metadata": {},
   "outputs": [
    {
     "data": {
      "text/plain": [
       "Labrador Retriever    39\n",
       "Pomeranian            25\n",
       "Border Collie         24\n",
       "Pudel                 22\n",
       "Golden Retriever      21\n",
       "                      ..\n",
       "Toller                 1\n",
       "Bearded Collie         1\n",
       "Samojede               1\n",
       "Irish Terrier          1\n",
       "Shiba Inu              1\n",
       "Name: Race_2, Length: 118, dtype: int64"
      ]
     },
     "execution_count": 70,
     "metadata": {},
     "output_type": "execute_result"
    }
   ],
   "source": [
    "df['Race_2'].value_counts()"
   ]
  },
  {
   "cell_type": "code",
   "execution_count": 71,
   "id": "10eedfa4",
   "metadata": {},
   "outputs": [
    {
     "data": {
      "text/plain": [
       "ID              int64\n",
       "Age            object\n",
       "Gender         object\n",
       "Town          float64\n",
       "District      float64\n",
       "Race_1         object\n",
       "Race_2         object\n",
       "Dog_Bday        int64\n",
       "Dog_Gender     object\n",
       "Color          object\n",
       "dtype: object"
      ]
     },
     "execution_count": 71,
     "metadata": {},
     "output_type": "execute_result"
    }
   ],
   "source": [
    "import matplotlib.pyplot as plt\n",
    "import seaborn as sns\n",
    "\n",
    "df.dtypes"
   ]
  },
  {
   "cell_type": "code",
   "execution_count": 77,
   "id": "8a06501b",
   "metadata": {},
   "outputs": [
    {
     "data": {
      "text/plain": [
       "count      7154\n",
       "unique        9\n",
       "top       51-60\n",
       "freq       1547\n",
       "Name: Age, dtype: object"
      ]
     },
     "execution_count": 77,
     "metadata": {},
     "output_type": "execute_result"
    }
   ],
   "source": [
    "df['Age'].describe()"
   ]
  },
  {
   "cell_type": "code",
   "execution_count": 82,
   "id": "bc86b3e9",
   "metadata": {},
   "outputs": [
    {
     "data": {
      "text/plain": [
       "0.11028795079675706"
      ]
     },
     "execution_count": 82,
     "metadata": {},
     "output_type": "execute_result"
    }
   ],
   "source": [
    "789/7154"
   ]
  },
  {
   "cell_type": "code",
   "execution_count": null,
   "id": "70063918",
   "metadata": {},
   "outputs": [],
   "source": []
  }
 ],
 "metadata": {
  "kernelspec": {
   "display_name": "Python 3 (ipykernel)",
   "language": "python",
   "name": "python3"
  },
  "language_info": {
   "codemirror_mode": {
    "name": "ipython",
    "version": 3
   },
   "file_extension": ".py",
   "mimetype": "text/x-python",
   "name": "python",
   "nbconvert_exporter": "python",
   "pygments_lexer": "ipython3",
   "version": "3.9.12"
  }
 },
 "nbformat": 4,
 "nbformat_minor": 5
}
